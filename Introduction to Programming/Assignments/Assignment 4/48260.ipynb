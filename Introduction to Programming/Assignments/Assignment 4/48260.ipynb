{
 "cells": [
  {
   "cell_type": "markdown",
   "metadata": {
    "cell_id": "00000-363546af-3460-4150-b8f3-d3fd41865bb8",
    "deepnote_cell_type": "markdown",
    "id": "vwfx12QMKDU1"
   },
   "source": [
    "<img src=\"https://apps.novasbe.pt/NovaMobility/resources/assets/images/nova_logo.png\" width=\"300\">\n",
    "<author = \"Claudio Haupt Vieira\">\n",
    "<license = \"https://creativecommons.org/licenses/by-nc/3.0/\"> "
   ]
  },
  {
   "cell_type": "markdown",
   "metadata": {
    "cell_id": "00001-3cc97ac9-5c2f-4aaf-87d0-f01e7548e5e5",
    "deepnote_cell_type": "markdown",
    "id": "z-4DvwiqKDU_"
   },
   "source": [
    "# Instructions\n",
    "\n",
    "1. Press `'File' -> 'Rename notebook'` and rename to your student id (ex: 40000.ipynb)\n",
    "2. Complete assignment\n",
    "3. Perform last validation by restarting kernel and running all cells before submission\n",
    "4. Save the .ipynb file by clicking `'File' -> 'Save notebook'` and submit it via Moodle\n",
    "\n",
    "**It is important that you DO NOT CHANGE the autograder tests (start with test_) nor other imported functions**\n"
   ]
  },
  {
   "cell_type": "markdown",
   "metadata": {
    "cell_id": "00003-fe43513b-a78c-42be-a039-f6d02c14d20f",
    "deepnote_cell_type": "markdown"
   },
   "source": [
    "---"
   ]
  },
  {
   "cell_type": "markdown",
   "metadata": {
    "cell_id": "00005-83fccb16-6881-4810-b5f7-686c6c07dd8a",
    "deepnote_cell_type": "markdown"
   },
   "source": [
    "Before completing the assignment we present some Python class concepts that you should know in order to complete this assignment (things such as class vs object attributes will not make into the exam!)."
   ]
  },
  {
   "cell_type": "markdown",
   "metadata": {
    "cell_id": "00006-3bacf6eb-beb1-41a2-8516-236e97bea38d",
    "deepnote_cell_type": "markdown"
   },
   "source": [
    "## Class attributes vs object attributes\n",
    "\n",
    "When working with classes, we can separate variables that are bound to the class (class attributes) and variables that are bound to the objects of the class (object attributes).\n",
    "\n",
    "- Class attributes are defined within the class (outside of any method) but not stored in `self`\n",
    "\n",
    "Class attributes are shared across all objects instantiated from the class. For example, all dogs are mammals, thus this attribute should belong to the Dog class rather than each Dog object. In code, it is very simple to set class attributes:"
   ]
  },
  {
   "cell_type": "code",
   "execution_count": 4,
   "metadata": {
    "cell_id": "00007-8f903a5e-1228-4321-aa13-cf1fa454f139",
    "deepnote_cell_type": "code",
    "deepnote_to_be_reexecuted": false,
    "execution_millis": 74,
    "execution_start": 1618413143078,
    "source_hash": "adc34e9a"
   },
   "outputs": [
    {
     "name": "stdout",
     "output_type": "stream",
     "text": [
      "mammal\n"
     ]
    }
   ],
   "source": [
    "class Dog:\n",
    "    species = 'mammal' # Class attribute\n",
    "\n",
    "print(Dog.species) # mammal"
   ]
  },
  {
   "cell_type": "markdown",
   "metadata": {
    "cell_id": "00010-fd9a75f5-87e3-45a4-9de2-f639cba4e4e2",
    "deepnote_cell_type": "markdown"
   },
   "source": [
    "On the other hand, there are attributes that should belong to objects e.g. attributes that should vary across different objects of the same class. \n",
    "\n",
    "- For a dog it could be the name, the age, fur color, etc... \n",
    "- In order to specify object attributes,  we need to use the `__init__` method. The `__init__` method allows passing object attributes as arguments when instantiating the object.\n",
    "- Object attributes are unique for each object, so they must be stored in `self`"
   ]
  },
  {
   "cell_type": "code",
   "execution_count": 5,
   "metadata": {
    "cell_id": "00011-5a8a9ae6-b9a3-4082-b623-49168b1c3f96",
    "deepnote_cell_type": "code",
    "deepnote_to_be_reexecuted": false,
    "execution_millis": 49,
    "execution_start": 1618413143103,
    "source_hash": "79b26667"
   },
   "outputs": [
    {
     "name": "stdout",
     "output_type": "stream",
     "text": [
      "mammal\n",
      "Cookie\n"
     ]
    }
   ],
   "source": [
    "class Dog:\n",
    "    species = 'mammal' # Class attribute\n",
    " \n",
    "    def __init__(self, name):\n",
    "        self.name = name    # Object attribute\n",
    "\n",
    "unique_dog = Dog(name=\"Cookie\")\n",
    "print(unique_dog.species) # mammal\n",
    "print(unique_dog.name) # Cookie"
   ]
  },
  {
   "cell_type": "markdown",
   "metadata": {
    "cell_id": "00012-9ff9e170-f7e3-48c3-a8ae-1884277cec1c",
    "deepnote_cell_type": "markdown"
   },
   "source": [
    "All objects of the `Dog` class will share the class attribute `species`, yet, the `name` attribute needs to be specified when instantiating objects of this class."
   ]
  },
  {
   "cell_type": "markdown",
   "metadata": {
    "cell_id": "00017-d8ad0ee3-d8f7-4898-9845-ddd8c04bd7ec",
    "deepnote_cell_type": "markdown"
   },
   "source": [
    "# Interaction between objects"
   ]
  },
  {
   "cell_type": "markdown",
   "metadata": {
    "cell_id": "00018-c5179938-ad3d-415d-b036-b4f78cf1599e",
    "deepnote_cell_type": "markdown"
   },
   "source": [
    "Note that we can access and edit attributes from a class/object, thus, objects can change other objects. \n",
    "Lets create a class `Pokemon` with the `attack` method, **which argument is another Pokemon object**. When called from a pokemon object, this method will subtract hit_points of the other Pokemon object. "
   ]
  },
  {
   "cell_type": "code",
   "execution_count": 6,
   "metadata": {
    "cell_id": "00019-3e8581c5-f924-4926-8921-53f5f3ef9670",
    "deepnote_cell_type": "code",
    "deepnote_to_be_reexecuted": false,
    "execution_millis": 0,
    "execution_start": 1618413143118,
    "source_hash": "d6fede83"
   },
   "outputs": [],
   "source": [
    "class Pokemon:\n",
    "    def __init__(self, name, attack_points):\n",
    "        self.name = name\n",
    "        self.hit_points = 100\n",
    "        self.attack_points = attack_points\n",
    "        \n",
    "    def attack(self, other_pokemon):  # other_pokemon is another Pokemon object!\n",
    "        print(f\"{self.name} attacked {other_pokemon.name}\")    \n",
    "        other_pokemon.hit_points -= self.attack_points  # we subtract other_pokemon hit_points by the attacking pokemon (self) attack_points"
   ]
  },
  {
   "cell_type": "markdown",
   "metadata": {
    "cell_id": "00020-154343c7-c6c4-48f6-9b62-0c975b391b89",
    "deepnote_cell_type": "markdown"
   },
   "source": [
    "Now lets instantiate two objects of the `pokemon` class and make them fight!"
   ]
  },
  {
   "cell_type": "code",
   "execution_count": 7,
   "metadata": {
    "cell_id": "00021-52983821-c075-4545-97a7-932c9300e6f7",
    "deepnote_cell_type": "code",
    "deepnote_to_be_reexecuted": false,
    "execution_millis": 30,
    "execution_start": 1618413143123,
    "source_hash": "8bea4989"
   },
   "outputs": [
    {
     "name": "stdout",
     "output_type": "stream",
     "text": [
      "100\n",
      "100\n",
      "Pikachu attacked Squirtle\n",
      "Squirtle attacked Pikachu\n",
      "80\n",
      "90\n"
     ]
    }
   ],
   "source": [
    "pokemon_1 = Pokemon(name=\"Pikachu\", attack_points=10)\n",
    "pokemon_2 = Pokemon(name=\"Squirtle\", attack_points=20)\n",
    "\n",
    "print(pokemon_1.hit_points)\n",
    "print(pokemon_2.hit_points)\n",
    "\n",
    "pokemon_1.attack(pokemon_2)\n",
    "pokemon_2.attack(pokemon_1)\n",
    "\n",
    "print(pokemon_1.hit_points)\n",
    "print(pokemon_2.hit_points)"
   ]
  },
  {
   "cell_type": "markdown",
   "metadata": {
    "cell_id": "00023-5f2328d4-d13b-4f0b-865c-53676f44480b",
    "deepnote_cell_type": "markdown"
   },
   "source": [
    "---"
   ]
  },
  {
   "cell_type": "markdown",
   "metadata": {
    "cell_id": "00024-2a77dda1-d035-4e05-9028-d6fa1b8b6f52",
    "deepnote_cell_type": "markdown"
   },
   "source": [
    "<br>"
   ]
  },
  {
   "cell_type": "markdown",
   "metadata": {
    "cell_id": "00002-d092f36a-d1d6-47b6-a025-9508179337d5",
    "deepnote_cell_type": "markdown"
   },
   "source": [
    "# Assignment 4 - Object oriented programming"
   ]
  },
  {
   "cell_type": "code",
   "execution_count": 8,
   "metadata": {
    "cell_id": "00025-3d8d6378-cc24-4f45-90fb-a51dcabf660d",
    "deepnote_cell_type": "code",
    "deepnote_to_be_reexecuted": false,
    "execution_millis": 9,
    "execution_start": 1618413143129,
    "id": "2qxebqk_KDVB",
    "source_hash": "afda327b"
   },
   "outputs": [],
   "source": [
    "# Run this cell to import the autograder tests\n",
    "from tests_assignment_4 import * "
   ]
  },
  {
   "cell_type": "markdown",
   "metadata": {
    "cell_id": "00026-a6775146-5a0f-4ff3-8ff8-52937fad4665",
    "deepnote_cell_type": "markdown"
   },
   "source": [
    "## Exercise 1.1\n",
    "\n",
    "We will first define a very simple class named `Human` with the following requirements:\n",
    "\n",
    "- one class attribute:\n",
    "    - `species` as \"Homo sapiens sapiens\"\n",
    "\n",
    "Finally, instantiate a `human` object of the `Human` class (the variable `human` will be an object of the `Human` class)."
   ]
  },
  {
   "cell_type": "code",
   "execution_count": 9,
   "metadata": {
    "cell_id": "00027-452d8531-b075-4a75-a6a4-f6fa89709b60",
    "deepnote_cell_type": "code",
    "deepnote_to_be_reexecuted": false,
    "execution_millis": 1,
    "execution_start": 1618413143139,
    "source_hash": "aec95cd2"
   },
   "outputs": [],
   "source": [
    "# solve ex 1.1 here\n",
    "class Human:\n",
    "    species = \"Homo sapiens sapiens\"\n",
    "          \n",
    "human = Human()"
   ]
  },
  {
   "cell_type": "code",
   "execution_count": 10,
   "metadata": {
    "cell_id": "00028-140e8f64-8d13-4364-b4b2-e88e33952982",
    "deepnote_cell_type": "code",
    "deepnote_to_be_reexecuted": false,
    "execution_millis": 146,
    "execution_start": 1618413143177,
    "output_cleared": true,
    "source_hash": null
   },
   "outputs": [
    {
     "name": "stdout",
     "output_type": "stream",
     "text": [
      "All basic tests passed!\n"
     ]
    }
   ],
   "source": [
    "test_exercise_1_1(Human, human)"
   ]
  },
  {
   "cell_type": "markdown",
   "metadata": {
    "cell_id": "00029-f7757886-9115-404b-b47e-2fc982c0416f",
    "deepnote_cell_type": "markdown"
   },
   "source": [
    "<br>"
   ]
  },
  {
   "cell_type": "markdown",
   "metadata": {
    "cell_id": "00030-6d5b734c-a05a-49e2-8b71-73754da77bad",
    "deepnote_cell_type": "markdown"
   },
   "source": [
    "## Exercise 1.2\n",
    "\n",
    "So far, all Human class objects have the species attribute \"Homo sapiens sapiens\". If we want each human object to have it's own self attributes, we must be able to pass arguments when instantiating the object. This can be achieved with the `__init__` method.\n",
    "\n",
    "### Instructions\n",
    "- Expand the previous class Human (eg. copy paste the previous class for ex1.1), which should now have two object attributes (two object variables defined by the user), `name` (str) and `age` (int).\n",
    "- Finally, instantiate a new object, `named_human`, which is named `John` and is `30` years old."
   ]
  },
  {
   "cell_type": "code",
   "execution_count": 11,
   "metadata": {
    "cell_id": "00031-0536f3a1-e180-4db3-875e-fcb1cae95f6e",
    "deepnote_cell_type": "code",
    "deepnote_to_be_reexecuted": false,
    "execution_millis": 1,
    "execution_start": 1618413143178,
    "source_hash": "a951f28c"
   },
   "outputs": [],
   "source": [
    "# solve ex 1.2 here\n",
    "class Human:\n",
    "    species = \"Homo sapiens sapiens\"\n",
    "\n",
    "    def __init__(self,name,age):\n",
    "        self.name = name\n",
    "        self.age = age\n",
    "          \n",
    "named_human = Human(\"John\",30)"
   ]
  },
  {
   "cell_type": "code",
   "execution_count": 12,
   "metadata": {
    "cell_id": "00032-c573cad8-1e50-4a4d-950b-874cfecc45c0",
    "deepnote_cell_type": "code",
    "deepnote_to_be_reexecuted": false,
    "execution_millis": 144,
    "execution_start": 1618413143179,
    "output_cleared": true,
    "source_hash": null
   },
   "outputs": [
    {
     "name": "stdout",
     "output_type": "stream",
     "text": [
      "All basic tests passed!\n"
     ]
    }
   ],
   "source": [
    "test_exercise_1_2(Human, named_human)"
   ]
  },
  {
   "cell_type": "markdown",
   "metadata": {
    "cell_id": "00033-b889dff1-7b1d-441c-ba7c-02ffea065f34",
    "deepnote_cell_type": "markdown"
   },
   "source": [
    "<br>"
   ]
  },
  {
   "cell_type": "markdown",
   "metadata": {
    "cell_id": "00034-83c99e3f-31da-4b95-bba4-81d36dfb6cdd",
    "deepnote_cell_type": "markdown"
   },
   "source": [
    "## Exercise 1.3\n",
    "\n",
    "So far we have a Human class which serves as a blueprint to instantiante objects with a given name and age. However, we also want the class to be able to change each objets attributes by using methods.\n",
    "\n",
    "### Instructions\n",
    "In this exercise you will expand from the previous class by adding a method `grow` with the following requirements:\n",
    "\n",
    "- grow method has no arguments (other than `self`...!) and shoud simply increment 1 to the object `age` attribute. \n",
    "\n",
    "Afterwards, instantiate an object `toddler` of the `Human` class with name `\"John\"` and age `3` and call the method `grow` three times."
   ]
  },
  {
   "cell_type": "code",
   "execution_count": 13,
   "metadata": {
    "cell_id": "00035-d365401f-5c58-489d-bf6d-3b51624494d1",
    "deepnote_cell_type": "code",
    "deepnote_to_be_reexecuted": false,
    "execution_millis": 0,
    "execution_start": 1618413143184,
    "source_hash": "e971dd39"
   },
   "outputs": [],
   "source": [
    "# solve ex 1.3 here\n",
    "class Human:\n",
    "    species = \"Homo sapiens sapiens\"\n",
    "\n",
    "    def __init__(self,name,age):\n",
    "        self.name = name\n",
    "        self.age = age\n",
    "\n",
    "    def grow (self):\n",
    "        self.age += 1\n",
    "toddler = Human(\"John\",3)\n",
    "toddler.grow()\n",
    "toddler.grow()\n",
    "toddler.grow()"
   ]
  },
  {
   "cell_type": "code",
   "execution_count": 14,
   "metadata": {
    "cell_id": "00036-145e6090-35de-4292-a8aa-347fe0a09f6e",
    "deepnote_cell_type": "code",
    "deepnote_to_be_reexecuted": false,
    "execution_millis": 138,
    "execution_start": 1618413143185,
    "output_cleared": true,
    "source_hash": null
   },
   "outputs": [
    {
     "name": "stdout",
     "output_type": "stream",
     "text": [
      "All basic tests passed!\n"
     ]
    }
   ],
   "source": [
    "test_exercise_1_3(Human, toddler)"
   ]
  },
  {
   "cell_type": "markdown",
   "metadata": {
    "cell_id": "00037-d3ba5462-7007-47a5-8c3c-b912fe08cf0c",
    "deepnote_cell_type": "markdown"
   },
   "source": [
    "<br>"
   ]
  },
  {
   "cell_type": "markdown",
   "metadata": {
    "cell_id": "00038-fe3cd800-c9be-42ec-92b9-8b83dc0a3b3e",
    "deepnote_cell_type": "markdown"
   },
   "source": [
    "## Exercise 1.4 \n",
    "\n",
    "Our Human objects should be able greet other Human objects!\n",
    "\n",
    "### Instructions\n",
    "Expanding from the previous `Human` class, implement a method `say_hello` which should accept a Human object and **return** the string `<self human object name> says hello to <other human object name>`.\n",
    "\n",
    "Instantiate two Human objects, `human_1` and `human_2`, and have `human_1` greet `human_2` using the `say_hello` method.\n",
    "\n",
    "Example usage:\n",
    "```ipython\n",
    "human_1 = Human(\"John\", 10)\n",
    "human_2 = Human(\"Jane\", 11)\n",
    "human_1.say_hello(human_2)\n",
    ">> \"John says hello to Jane\"\n",
    "```"
   ]
  },
  {
   "cell_type": "code",
   "execution_count": 15,
   "metadata": {
    "cell_id": "00039-55a9da57-5066-495c-adb2-8a51be780ab4",
    "deepnote_cell_type": "code",
    "deepnote_to_be_reexecuted": false,
    "execution_millis": 2,
    "execution_start": 1618413143205,
    "source_hash": "28c5c577"
   },
   "outputs": [],
   "source": [
    "# Solve exercise 1.4 here\n",
    "class Human:\n",
    "    species = \"Homo sapiens sapiens\"\n",
    "\n",
    "    def __init__(self,name,age):\n",
    "        self.name = name\n",
    "        self.age = age\n",
    "\n",
    "    def grow (self):\n",
    "        self.age += 1\n",
    "    \n",
    "    def say_hello(self,other_human):\n",
    "        return f\"{self.name} says hello to {other_human.name}\"\n",
    "human_1 = Human(\"John\",10)\n",
    "human_2 = Human(\"Jane\",11)"
   ]
  },
  {
   "cell_type": "code",
   "execution_count": 16,
   "metadata": {
    "cell_id": "00040-4bed7d37-83e1-4018-900e-15ff85185106",
    "deepnote_cell_type": "code",
    "deepnote_to_be_reexecuted": false,
    "execution_millis": 25,
    "execution_start": 1618413143212,
    "output_cleared": true,
    "source_hash": null
   },
   "outputs": [
    {
     "name": "stdout",
     "output_type": "stream",
     "text": [
      "All basic tests passed!\n"
     ]
    }
   ],
   "source": [
    "test_exercise_1_4(Human, human_1, human_2)"
   ]
  },
  {
   "cell_type": "markdown",
   "metadata": {
    "cell_id": "00041-ee4e8a67-1661-4af0-a8f3-9ebacf6fc3a9",
    "deepnote_cell_type": "markdown"
   },
   "source": [
    "<br>"
   ]
  },
  {
   "cell_type": "markdown",
   "metadata": {
    "cell_id": "00042-ed689b39-f943-4d79-b4f2-dbda5a6adaf2",
    "deepnote_cell_type": "markdown"
   },
   "source": [
    "---\n",
    "<br>"
   ]
  },
  {
   "cell_type": "markdown",
   "metadata": {
    "cell_id": "00043-2ad1b294-58f7-44f9-b0aa-5ff36511a2ae",
    "deepnote_cell_type": "markdown"
   },
   "source": [
    "# Exercise 2\n",
    "In exercise 2 we will leverage objects to represent a very simplified version of a bank client, with the functionality to deposit, withdraw and transfer money."
   ]
  },
  {
   "cell_type": "markdown",
   "metadata": {
    "cell_id": "00044-bb2975ac-48b2-4d18-8ab1-f4bc6eb0568f",
    "deepnote_cell_type": "markdown"
   },
   "source": [
    "## Exercise 2.1"
   ]
  },
  {
   "cell_type": "markdown",
   "metadata": {
    "cell_id": "00045-b240b182-0c1e-4449-bbbb-b284a86154ff",
    "deepnote_cell_type": "markdown"
   },
   "source": [
    "Lets start with creating a class that represents a bank client. In this exercise you are going to define a class `BankClient`.\n",
    "\n",
    "- The `BankClient` class should have the following attributes:\n",
    "    - `name` (which should be specified when instantiating an object)\n",
    "    - `balance` (which should be specified when instantiating an object)\n",
    "    - `tier` (which should always be initialized as 0)\n",
    "\n",
    "Example usage:\n",
    "\n",
    "```ipython\n",
    "client = BankClient(name=\"John\", balance=1000)\n",
    "print(client.name)\n",
    ">> John\n",
    "print(client.balance)\n",
    ">> 1000\n",
    "print(client.tier)\n",
    ">> 0\n",
    "```"
   ]
  },
  {
   "cell_type": "code",
   "execution_count": 17,
   "metadata": {
    "cell_id": "00046-2557ca76-0de3-4410-8151-383c7e65fa1f",
    "deepnote_cell_type": "code",
    "deepnote_to_be_reexecuted": false,
    "execution_millis": 4,
    "execution_start": 1618413143221,
    "source_hash": "18f383ec"
   },
   "outputs": [],
   "source": [
    "# solve exercise 2.1 here\n",
    "class BankClient:\n",
    "    def __init__(self,name,balance):\n",
    "        self.name = name\n",
    "        self.balance = balance\n",
    "        self.tier = 0"
   ]
  },
  {
   "cell_type": "code",
   "execution_count": 18,
   "metadata": {
    "cell_id": "00047-873abf9a-c279-4f40-b599-3a9a14ae0f1d",
    "deepnote_cell_type": "code",
    "deepnote_to_be_reexecuted": false,
    "execution_millis": 8,
    "execution_start": 1618413143253,
    "source_hash": "e3a57a95"
   },
   "outputs": [
    {
     "name": "stdout",
     "output_type": "stream",
     "text": [
      "All basic tests passed!\n"
     ]
    }
   ],
   "source": [
    "test_exercise_2_1(BankClient)"
   ]
  },
  {
   "cell_type": "markdown",
   "metadata": {
    "cell_id": "00048-d28807ca-2ef6-4db4-b609-5698a2ba5424",
    "deepnote_cell_type": "markdown"
   },
   "source": [
    "<br>"
   ]
  },
  {
   "cell_type": "markdown",
   "metadata": {
    "cell_id": "00049-36962fb2-c248-496a-b216-f430378bb3ec",
    "deepnote_cell_type": "markdown"
   },
   "source": [
    "## Exercise 2.2"
   ]
  },
  {
   "cell_type": "markdown",
   "metadata": {
    "cell_id": "00050-d05e9019-2ffc-4db4-af80-6f1cd46e3c4b",
    "deepnote_cell_type": "markdown"
   },
   "source": [
    "In this exercise, you will expand the `BankClient` class (eg. copy paste the previous class) by adding a method `update_tier`. This method does not receive any extra argument and should access the object balance and update the client tier given the balance, according to the following criteria:\n",
    "\n",
    "- If balance is less than 10000, tier should remain 0\n",
    "- If balance is greater or equal than 10000, tier should be updated to 1\n",
    "- If balance is greater or equal than 100000, tier should be updated to 2\n",
    "\n",
    "The method `update_tier` should then be called inside `BankClient` `__init__` method, which will select correct tier when instantiating a new object.\n",
    "\n",
    "Example usage:\n",
    "\n",
    "```ipython\n",
    "client_1 = BankClient(name=\"John\", balance=9999999)\n",
    "client_1.tier\n",
    ">> 2\n",
    "\n",
    "client_2 = BankClient(name=\"Jane\", balance=1)\n",
    "client_2.tier\n",
    ">> 0\n",
    "```"
   ]
  },
  {
   "cell_type": "code",
   "execution_count": 19,
   "metadata": {
    "cell_id": "00051-665e86a6-9ab6-49be-9c80-3f88cb164445",
    "deepnote_cell_type": "code",
    "deepnote_to_be_reexecuted": false,
    "execution_millis": 2,
    "execution_start": 1618413143254,
    "source_hash": "19b19939"
   },
   "outputs": [],
   "source": [
    "# solve exercise 2.2 here\n",
    "class BankClient:\n",
    "    def __init__(self,name,balance):\n",
    "        self.name = name\n",
    "        self.balance = balance\n",
    "        self.tier = 0\n",
    "        self.update_tier()\n",
    "        \n",
    "    def update_tier(self):\n",
    "        if self.balance >= 100000:\n",
    "            self.tier = 2\n",
    "        elif self.balance >= 10000:\n",
    "            self.tier = 1\n",
    "        else:\n",
    "            self.tier = 0"
   ]
  },
  {
   "cell_type": "code",
   "execution_count": 20,
   "metadata": {
    "cell_id": "00052-8ede5337-652a-4d87-93cb-b9fdae31d8ea",
    "deepnote_cell_type": "code",
    "deepnote_to_be_reexecuted": false,
    "execution_millis": 88,
    "execution_start": 1618413143256,
    "output_cleared": true,
    "source_hash": null
   },
   "outputs": [
    {
     "name": "stdout",
     "output_type": "stream",
     "text": [
      "All basic tests passed!\n"
     ]
    }
   ],
   "source": [
    "test_exercise_2_2(BankClient)"
   ]
  },
  {
   "cell_type": "markdown",
   "metadata": {
    "cell_id": "00053-126e5e5e-e954-451d-baa8-cdee0a4a275c",
    "deepnote_cell_type": "markdown"
   },
   "source": [
    "<br>"
   ]
  },
  {
   "cell_type": "markdown",
   "metadata": {
    "cell_id": "00054-8b9b155e-8205-40cc-af41-a6bdeb47557e",
    "deepnote_cell_type": "markdown"
   },
   "source": [
    "## Exercise 2.3"
   ]
  },
  {
   "cell_type": "markdown",
   "metadata": {
    "cell_id": "00055-7c76833f-0913-4eac-9a24-91b4eb0a78e4",
    "deepnote_cell_type": "markdown"
   },
   "source": [
    "Next expand the BankClient class and add two methods to it, `deposit` and `withdraw`.\n",
    "\n",
    "- The `deposit` method should have one argument `amount`, and it should add it to the object attribute `balance`.\n",
    "\n",
    "- The `withdraw` method should have one argument `amount`, and it should remove it from the object attribute `balance`. However, if the `amount` is greater than `balance`, the method should return a string `\"Failed. Not enough balance\"`\n",
    "\n",
    "- Each deposit and withdraw operation should be followed by `update_tier()` method, to update the tier according to the new balance, i.e. when you call the deposit or withdraw method the tier should also be one of the actions performed in the method. \n",
    "    - Hint: `update_tier()` can be called inside `deposit` and `withdraw` methods through `self.update_tier()`\n",
    "\n",
    "Example usage:\n",
    "\n",
    "```ipython\n",
    "client_1 = BankClient(name=\"John\", balance=1000)\n",
    "client_1.tier\n",
    ">> 0\n",
    "client_1.deposit(1000)\n",
    "client_1.balance\n",
    ">> 2000\n",
    "client_1.withdraw(2000)\n",
    "client_1.balance\n",
    ">> 0\n",
    "client_1.withdraw(1)\n",
    ">> \"Failed. Not enough balance\"\n",
    "client_1.deposit(10000)\n",
    "client_1.tier\n",
    ">> 1\n",
    "```"
   ]
  },
  {
   "cell_type": "code",
   "execution_count": 21,
   "metadata": {
    "cell_id": "00056-229ee668-be4a-497e-92fc-df238268a534",
    "deepnote_cell_type": "code",
    "deepnote_to_be_reexecuted": false,
    "execution_millis": 1,
    "execution_start": 1618413143257,
    "source_hash": "ee9b2a93"
   },
   "outputs": [],
   "source": [
    "# solve exercise 2.3 here\n",
    "class BankClient:\n",
    "    def __init__(self,name,balance):\n",
    "        self.name = name\n",
    "        self.balance = balance\n",
    "        self.tier = 0\n",
    "        self.update_tier()\n",
    "        \n",
    "    def update_tier(self):\n",
    "        if self.balance >= 100000:\n",
    "            self.tier = 2\n",
    "        elif self.balance >= 10000:\n",
    "            self.tier = 1\n",
    "        else:\n",
    "            self.tier = 0\n",
    "\n",
    "    def deposit(self, amount):\n",
    "        self.balance += amount\n",
    "        self.update_tier()\n",
    "\n",
    "    def withdraw(self, amount):\n",
    "        if self.balance < amount:\n",
    "            return \"Failed. Not enough balance\"\n",
    "        else:\n",
    "            self.balance -= amount\n",
    "            self.update_tier()\n"
   ]
  },
  {
   "cell_type": "code",
   "execution_count": 22,
   "metadata": {
    "cell_id": "00057-f6ea8379-5452-4388-9951-15e36e80e8ca",
    "deepnote_cell_type": "code",
    "deepnote_to_be_reexecuted": false,
    "execution_millis": 85,
    "execution_start": 1618413143259,
    "output_cleared": true,
    "source_hash": null
   },
   "outputs": [
    {
     "name": "stdout",
     "output_type": "stream",
     "text": [
      "All basic tests passed!\n"
     ]
    }
   ],
   "source": [
    "test_exercise_2_3(BankClient)"
   ]
  },
  {
   "cell_type": "markdown",
   "metadata": {
    "cell_id": "00058-ac7dab0e-cdce-49b9-9c8a-fce7e0d1b638",
    "deepnote_cell_type": "markdown"
   },
   "source": [
    "<br>"
   ]
  },
  {
   "cell_type": "markdown",
   "metadata": {
    "cell_id": "00059-72bea11c-f9f0-430d-8693-1483542e762c",
    "deepnote_cell_type": "markdown"
   },
   "source": [
    "## Exercise 2.4"
   ]
  },
  {
   "cell_type": "markdown",
   "metadata": {
    "cell_id": "00060-0ff2bbbc-9bfb-4081-961c-b75964657015",
    "deepnote_cell_type": "markdown"
   },
   "source": [
    "Finally, BankClient objects should be able to transfer money to other BankClient objects. In this exercise you will expand the BankClient and implement the `transfer` method, which has two arguments:\n",
    "\n",
    "- Another BankClient object\n",
    "- The amount to be transfered\n",
    "    \n",
    "Consider that a transfer **amount should be removed from the balance of the sender object**  and that **same amount should be added to the balance of the receiver object**.\n",
    "\n",
    "The sender incurs in a transfer fee based on the tier, which should be deducted from its balance.\n",
    "- If the client is tier 0, the transfer fee is 1€.\n",
    "- If the client is tier 1 or tier 2, there's no transfer fee.\n",
    "\n",
    "Likewise exercise 2.3, the tier should be updated after each `transfer` operation for both the sender and the receiver using `update_tier()` method.\n",
    "\n",
    "Example usage:\n",
    "\n",
    "```ipython\n",
    "client_1 = BankClient(name=\"John\", balance=1000)\n",
    "client_2 = BankClient(name=\"Jane\", balance=9990)\n",
    "client_2.tier\n",
    ">> 0\n",
    "client_1.transfer(other_client=client_2, amount=10)\n",
    "client_1.balance\n",
    ">> 989\n",
    "client_2.balance\n",
    ">> 10000\n",
    "client_2.tier\n",
    ">> 1\n",
    "```"
   ]
  },
  {
   "cell_type": "code",
   "execution_count": 23,
   "metadata": {
    "cell_id": "00061-a4f75cce-baed-4870-993f-343dbc4b796c",
    "deepnote_cell_type": "code",
    "deepnote_to_be_reexecuted": false,
    "execution_millis": 1,
    "execution_start": 1618413177774,
    "source_hash": "86fe2e19"
   },
   "outputs": [],
   "source": [
    "# solve exercise 2.4 here\n",
    "class BankClient:\n",
    "    def __init__(self,name,balance):\n",
    "        self.name = name\n",
    "        self.balance = balance\n",
    "        self.tier = 0\n",
    "        self.update_tier()\n",
    "        \n",
    "    def update_tier(self):\n",
    "        if self.balance >= 100000:\n",
    "            self.tier = 2\n",
    "        elif self.balance >= 10000:\n",
    "            self.tier = 1\n",
    "        else:\n",
    "            self.tier = 0\n",
    "\n",
    "    def deposit(self, amount):\n",
    "        self.balance += amount\n",
    "        self.update_tier()\n",
    "\n",
    "    def withdraw(self, amount):\n",
    "        if self.balance < amount:\n",
    "            return \"Failed. Not enough balance\"\n",
    "        else:\n",
    "            self.balance -= amount\n",
    "            self.update_tier()\n",
    "    def transfer(self, other_client, amount):\n",
    "        self.balance -= amount\n",
    "        other_client.balance += amount\n",
    "        other_client.update_tier()\n",
    "        if self.tier == 0:\n",
    "            self.balance -= 1\n",
    "            self.update_tier()\n",
    "        else:\n",
    "            self.update_tier()\n"
   ]
  },
  {
   "cell_type": "code",
   "execution_count": 24,
   "metadata": {
    "cell_id": "00062-6a86c140-7465-40c2-9a4a-b5ef5e1ec238",
    "deepnote_cell_type": "code",
    "deepnote_to_be_reexecuted": false,
    "execution_millis": 22,
    "execution_start": 1618413178374,
    "output_cleared": true,
    "source_hash": null
   },
   "outputs": [
    {
     "name": "stdout",
     "output_type": "stream",
     "text": [
      "All basic tests passed!\n"
     ]
    }
   ],
   "source": [
    "test_exercise_2_4(BankClient)"
   ]
  }
 ],
 "metadata": {
  "colab": {
   "name": "assignment_3 copy.ipynb",
   "provenance": [],
   "toc_visible": true
  },
  "deepnote": {},
  "deepnote_execution_queue": [],
  "deepnote_notebook_id": "4cbfd33c-9107-437a-8fc0-5dfe2f29c4d9",
  "kernelspec": {
   "display_name": "Python 3.10.8 64-bit",
   "language": "python",
   "name": "python3"
  },
  "language_info": {
   "codemirror_mode": {
    "name": "ipython",
    "version": 3
   },
   "file_extension": ".py",
   "mimetype": "text/x-python",
   "name": "python",
   "nbconvert_exporter": "python",
   "pygments_lexer": "ipython3",
   "version": "3.9.6"
  },
  "vscode": {
   "interpreter": {
    "hash": "e7370f93d1d0cde622a1f8e1c04877d8463912d04d973331ad4851f04de6915a"
   }
  }
 },
 "nbformat": 4,
 "nbformat_minor": 4
}
