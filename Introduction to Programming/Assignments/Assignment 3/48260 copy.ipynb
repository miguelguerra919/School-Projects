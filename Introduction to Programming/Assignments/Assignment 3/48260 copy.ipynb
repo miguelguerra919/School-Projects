{
 "cells": [
  {
   "cell_type": "markdown",
   "metadata": {
    "cell_id": "fd9c652018a64bfba0fc48fac012b49b",
    "deepnote_cell_type": "markdown",
    "id": "vwfx12QMKDU1"
   },
   "source": [
    "<img src=\"https://apps.novasbe.pt/NovaMobility/resources/assets/images/nova_logo.png\" width=\"300\">\n",
    "<author = \"Claudio Haupt Vieira\">\n",
    "<license = \"https://creativecommons.org/licenses/by-nc/3.0/\"> "
   ]
  },
  {
   "cell_type": "markdown",
   "metadata": {
    "cell_id": "bc5118cbae304c8cba5bb5d0051d2c31",
    "deepnote_cell_type": "markdown",
    "id": "z-4DvwiqKDU_"
   },
   "source": [
    "# Instructions\n",
    "\n",
    "1. Press `'File' -> 'Rename notebook'` and rename to your student id (ex: 40000.ipynb)\n",
    "2. Complete assignment\n",
    "3. Perform last validation by restarting kernel and running all cells before submission\n",
    "4. Save the .ipynb file by clicking `'File' -> 'Save notebook'` and submit it via Moodle\n",
    "\n",
    "**It is important that you DO NOT CHANGE the autograder tests (start with test_)**\n"
   ]
  },
  {
   "cell_type": "markdown",
   "metadata": {
    "cell_id": "0124530b46f343fe9b6b3313ddeda874",
    "deepnote_cell_type": "markdown",
    "id": "0WWq1ESXKDVA"
   },
   "source": [
    "# Assignment 3 - Trivia game\n",
    "\n",
    "In this assignment you will implement a team trivia game from a dataset of ~50.000 questions. To do so you will implement several functions that you then compose together to implement the game loop. Note that in the exercises you should not change neither the function name nor its arguments.\n",
    "\n",
    "Start by loading the dataset using the provided `load_cards` function and examine the resulting data. The dictionary is structured as follows:\n",
    "+ The keys correspond to question categories.\n",
    "+ The values are lists of cards, each one structured as follows:\n",
    "    + Key `'Questions'` is mapped to the question in the card.\n",
    "    + Key `'Correct'` is mapped to the answer.\n",
    "    + Keys `'A'` - `'D'` are possible answers."
   ]
  },
  {
   "cell_type": "markdown",
   "metadata": {},
   "source": [
    "## Run the following cell to have the autograder and to import the dataset whenever you open the notebook or restart the kernel"
   ]
  },
  {
   "cell_type": "code",
   "execution_count": 20,
   "metadata": {
    "cell_id": "3991fdf872b444f1aa2b35c425cc5ed9",
    "deepnote_cell_type": "code",
    "deepnote_to_be_reexecuted": false,
    "execution_millis": 7,
    "execution_start": 1666091617358,
    "id": "2qxebqk_KDVB",
    "source_hash": "3125cf7f"
   },
   "outputs": [
    {
     "name": "stdout",
     "output_type": "stream",
     "text": [
      "['humanities', 'general', 'people', 'video-games', 'brain-teasers', 'history', 'science-technology', 'literature', 'geography', 'music', 'for-kids', 'television', 'rated', 'newest', 'sports', 'entertainment', 'movies', 'world', 'celebrities', 'animals', 'hobbies', 'religion-faith']\n"
     ]
    },
    {
     "data": {
      "text/plain": [
       "[{'Questions': 'Immanuel Kant criticized Emanuel Swedenborg and termed him a “spook hunter”.\\n',\n",
       "  'Correct': 'True',\n",
       "  'A': 'True',\n",
       "  'B': 'False',\n",
       "  'C': '',\n",
       "  'D': ''},\n",
       " {'Questions': 'Clouds are made up of these.\\n',\n",
       "  'Correct': 'Water droplets and ice crystals',\n",
       "  'A': 'Carbon atoms',\n",
       "  'B': 'Water droplets and ice crystals',\n",
       "  'C': 'Oxygen ions',\n",
       "  'D': 'Dust mites'},\n",
       " {'Questions': 'This formation is a conical hill or mountain. It is formed by mantle material being pressed through an opening in the Earths crust.\\n',\n",
       "  'Correct': 'A volcano',\n",
       "  'A': 'A volcano',\n",
       "  'B': 'A hill',\n",
       "  'C': 'An earthquake',\n",
       "  'D': 'A geyser'}]"
      ]
     },
     "execution_count": 20,
     "metadata": {},
     "output_type": "execute_result"
    }
   ],
   "source": [
    "# Run this cell to import the dataset and autograder tests\n",
    "from tests_assignment_3 import *\n",
    "\n",
    "# Load dataset\n",
    "cards = load_cards()\n",
    "# Print categories\n",
    "print(list(cards.keys()))\n",
    "# Print a few cards\n",
    "cards['science-technology'][0:3]"
   ]
  },
  {
   "cell_type": "markdown",
   "metadata": {
    "cell_id": "549809a16dba4ecd8dcdf5838e49b643",
    "deepnote_cell_type": "markdown",
    "id": "XJUDzc_3KDVF"
   },
   "source": [
    "### Exercise 1 - Rewriting data (8pt)\n",
    "\n",
    "You will start by rewriting the data in the dictionary so that it is in the correct form for this assignment."
   ]
  },
  {
   "cell_type": "markdown",
   "metadata": {
    "cell_id": "c87cf950fe1b4cc79bc68e4036a87fc3",
    "deepnote_cell_type": "markdown"
   },
   "source": [
    "#### Exercise 1.1 (2pt)\n",
    "\n",
    "Some cards have empty options. For instance, `cards['science-technology'][0]` has no possible answers for options `'C'` and `'D'`. \n",
    "\n",
    "Implement the `remove_empty_options` function to remove any empty options from a **single card** (corresponding to the parameter `card`). \n",
    "\n",
    "An option is empty if its value is the empty string (`''`).\n",
    "\n",
    "Example:\n",
    "```ipython\n",
    "card = cards['science-technology'][0]\n",
    "card\n",
    ">> {'Questions': 'Immanuel Kant criticized Emanuel Swedenborg and termed him a “spook hunter”.\\n',\n",
    "  'Correct': 'True',\n",
    "  'A': 'True',\n",
    "  'B': 'False',\n",
    "  'C': '',\n",
    "  'D': ''}\n",
    "remove_empty_options(cards['science-technology'][0])\n",
    "card\n",
    ">> {'Questions': 'Immanuel Kant criticized Emanuel Swedenborg and termed him a “spook hunter”.',\n",
    "  'Correct': 'A',\n",
    "  'A': 'True',\n",
    "  'B': 'False'}\n",
    "```"
   ]
  },
  {
   "cell_type": "code",
   "execution_count": 21,
   "metadata": {
    "cell_id": "20ed69f05b0c4db0b978520a8b133c56",
    "deepnote_cell_type": "code",
    "deepnote_to_be_reexecuted": true,
    "execution_millis": 1,
    "execution_start": 1666089733289,
    "source_hash": "d4dea63b"
   },
   "outputs": [],
   "source": [
    "# solve exercise here\n",
    "def remove_empty_options(card):\n",
    "    for key in list(card.keys()):\n",
    "        if card[key] == '':\n",
    "            card.pop(key)"
   ]
  },
  {
   "cell_type": "code",
   "execution_count": 22,
   "metadata": {},
   "outputs": [
    {
     "data": {
      "text/plain": [
       "{'Questions': 'Immanuel Kant criticized Emanuel Swedenborg and termed him a “spook hunter”.\\n',\n",
       " 'Correct': 'True',\n",
       " 'A': 'True',\n",
       " 'B': 'False'}"
      ]
     },
     "execution_count": 22,
     "metadata": {},
     "output_type": "execute_result"
    }
   ],
   "source": [
    "remove_empty_options(cards['science-technology'][0])\n",
    "cards['science-technology'][0]"
   ]
  },
  {
   "cell_type": "code",
   "execution_count": 23,
   "metadata": {
    "cell_id": "f0cb3b1288d745ac961b929cd4fcde53",
    "deepnote_cell_type": "code",
    "deepnote_to_be_reexecuted": true,
    "execution_millis": 776,
    "execution_start": 1666089733290,
    "source_hash": "f0c458d4",
    "tags": []
   },
   "outputs": [
    {
     "name": "stdout",
     "output_type": "stream",
     "text": [
      "All basic tests passed!\n"
     ]
    }
   ],
   "source": [
    "test_remove_empty_options(remove_empty_options)"
   ]
  },
  {
   "cell_type": "markdown",
   "metadata": {
    "cell_id": "0dabe9557f634e0d825a6490b1eea10e",
    "deepnote_cell_type": "markdown",
    "tags": []
   },
   "source": [
    "#### Exercise 1.2 (2pt)\n",
    "\n",
    "The questions in the card have a newline character (`\\n`) at the end.\n",
    "Implement the `remove_newline` function to remove the newline character from the question of a **single card**.\n",
    "\n",
    "Example:\n",
    "```ipython\n",
    "card = cards['science-technology'][0]\n",
    "card['Questions']\n",
    ">> 'Immanuel Kant criticized Emanuel Swedenborg and termed him a “spook hunter”.\\n'\n",
    "remove_newline(card)\n",
    "card['Questions']\n",
    ">> 'Immanuel Kant criticized Emanuel Swedenborg and termed him a “spook hunter”.'\n",
    "```"
   ]
  },
  {
   "cell_type": "code",
   "execution_count": 24,
   "metadata": {
    "cell_id": "dd025e6a5750412aaf2b1eecf2de0daa",
    "deepnote_cell_type": "code",
    "deepnote_to_be_reexecuted": true,
    "execution_millis": 0,
    "execution_start": 1666089733291,
    "source_hash": "c94cabb8"
   },
   "outputs": [],
   "source": [
    "# solve exercise here\n",
    "def remove_newline(card):\n",
    "    if \"\\n\" in card['Questions']:\n",
    "         card['Questions'] = card['Questions'][:-1]"
   ]
  },
  {
   "cell_type": "code",
   "execution_count": 25,
   "metadata": {
    "cell_id": "4baf17655b834f339f82b6fee01d3cc9",
    "deepnote_cell_type": "code",
    "deepnote_to_be_reexecuted": true,
    "execution_millis": 785,
    "execution_start": 1666089733293,
    "source_hash": "6b8d4b41",
    "tags": []
   },
   "outputs": [
    {
     "name": "stdout",
     "output_type": "stream",
     "text": [
      "All basic tests passed!\n"
     ]
    }
   ],
   "source": [
    "test_remove_newline(remove_newline)"
   ]
  },
  {
   "cell_type": "markdown",
   "metadata": {
    "cell_id": "1c3377bc2cda4e4a879b340985fe6279",
    "deepnote_cell_type": "markdown",
    "tags": []
   },
   "source": [
    "#### Exercise 1.3 (2pt)\n",
    "\n",
    "The answers in the dictionary are provided by their value (e.g. `'True'`) instead of their key (e.g. `'A'`, meaning option `'A'` is the correct answer). We want the answer to be the key of the correct option instead.\n",
    "\n",
    "Implement the `answer_option` function to rewrite the answer of a **single card** to its corresponding option key.\n",
    "\n",
    "Example 1:\n",
    "```ipython\n",
    "card = cards['science-technology'][0]\n",
    "card['Correct']\n",
    ">> 'True'\n",
    "answer_option(card)\n",
    "card['Correct']\n",
    ">> 'A'\n",
    "```\n",
    "\n",
    "Example 2:\n",
    "\n",
    "    For the card with the following question:\n",
    "```ipyhton\n",
    "{'Questions': 'Clouds are made up of these.\\n',\n",
    "  'Correct': 'Water droplets and ice crystals',\n",
    "  'A': 'Carbon atoms',\n",
    "  'B': 'Water droplets and ice crystals',\n",
    "  'C': 'Oxygen ions',\n",
    "  'D': 'Dust mites'}\n",
    "```\n",
    "    After running the function the card should look like the following:\n",
    "```ipyhton\n",
    "{'Questions': 'Clouds are made up of these.\\n',\n",
    "  'Correct': 'B',\n",
    "  'A': 'Carbon atoms',\n",
    "  'B': 'Water droplets and ice crystals',\n",
    "  'C': 'Oxygen ions',\n",
    "  'D': 'Dust mites'}\n",
    "```"
   ]
  },
  {
   "cell_type": "code",
   "execution_count": 26,
   "metadata": {
    "cell_id": "b309d6b316814cb293d81bbe8c632540",
    "deepnote_cell_type": "code",
    "deepnote_to_be_reexecuted": true,
    "execution_millis": 1,
    "execution_start": 1666089733295,
    "source_hash": "ea2dda86"
   },
   "outputs": [],
   "source": [
    "# solve exercise here\n",
    "def answer_option(card):\n",
    "    for key, value in card.items(): \n",
    "        if value == card[\"Correct\"] and len(key) == 1:\n",
    "            card[\"Correct\"] = key"
   ]
  },
  {
   "cell_type": "code",
   "execution_count": 27,
   "metadata": {},
   "outputs": [],
   "source": [
    "#Another way to solve it would be:\n",
    "def answer_options(card):\n",
    "    for key in card: \n",
    "        if card[key] == card[\"Correct\"] and len(key) == 1:\n",
    "            card[\"Correct\"] = key"
   ]
  },
  {
   "cell_type": "code",
   "execution_count": 28,
   "metadata": {},
   "outputs": [],
   "source": [
    "answer_options(cards['science-technology'][0])"
   ]
  },
  {
   "cell_type": "code",
   "execution_count": 29,
   "metadata": {},
   "outputs": [
    {
     "data": {
      "text/plain": [
       "{'Questions': 'Immanuel Kant criticized Emanuel Swedenborg and termed him a “spook hunter”.\\n',\n",
       " 'Correct': 'A',\n",
       " 'A': 'True',\n",
       " 'B': 'False'}"
      ]
     },
     "execution_count": 29,
     "metadata": {},
     "output_type": "execute_result"
    }
   ],
   "source": [
    "cards['science-technology'][0]"
   ]
  },
  {
   "cell_type": "code",
   "execution_count": 30,
   "metadata": {
    "cell_id": "f6ab133d1c9f4ea8b98f3e839c6ccee3",
    "deepnote_cell_type": "code",
    "deepnote_to_be_reexecuted": true,
    "execution_millis": 737,
    "execution_start": 1666089733342,
    "source_hash": "d9e6f144",
    "tags": []
   },
   "outputs": [
    {
     "name": "stdout",
     "output_type": "stream",
     "text": [
      "All basic tests passed!\n"
     ]
    }
   ],
   "source": [
    "test_answer_option(answer_option)"
   ]
  },
  {
   "cell_type": "markdown",
   "metadata": {
    "cell_id": "47d3a2b697e241d48a852b793d4cd468",
    "deepnote_cell_type": "markdown",
    "tags": []
   },
   "source": [
    "#### Exercise 1.4 (2pt)\n",
    "\n",
    "Use the functions defined in exercises 1.1-1.3 to update all entries in the `cards` dictionary.\n",
    "\n",
    "Implement the `rewrite_data` function to rewrite the dictionary using `remove_empty_options`, `remove_newline`, and `answer_option`. \n",
    "\n",
    "Finally, update the `cards` dictionary by calling the `rewrite_data` function.\n",
    "\n",
    "Example:\n",
    "```ipython\n",
    "cards[\"science-technology\"][0]\n",
    ">>> {'Questions': 'Immanuel Kant criticized Emanuel Swedenborg and termed him a “spook hunter”.\\n',\n",
    "  'Correct': 'True',\n",
    "  'A': 'True',\n",
    "  'B': 'False',\n",
    "  'C': '',\n",
    "  'D': ''}\n",
    "rewrite_data(cards)\n",
    "cards[\"science-technology\"][0]\n",
    ">>> {'Questions': 'Immanuel Kant criticized Emanuel Swedenborg and termed him a “spook hunter”.',\n",
    " 'Correct': 'A',\n",
    " 'A': 'True',\n",
    " 'B': 'False'}\n",
    "```"
   ]
  },
  {
   "cell_type": "code",
   "execution_count": 31,
   "metadata": {
    "cell_id": "2772385456b944a9bba5968663e5eb91",
    "deepnote_cell_type": "code",
    "deepnote_to_be_reexecuted": true,
    "execution_millis": 44,
    "execution_start": 1666089733343,
    "id": "RahYtdFjKDVG",
    "source_hash": "521d07af"
   },
   "outputs": [],
   "source": [
    "# solve exercise here\n",
    "def rewrite_data(cards):\n",
    "    for topic in cards:\n",
    "            for card in cards[topic]:\n",
    "                remove_empty_options(card)\n",
    "                remove_newline(card)\n",
    "                answer_option(card) "
   ]
  },
  {
   "cell_type": "code",
   "execution_count": 32,
   "metadata": {},
   "outputs": [],
   "source": [
    "rewrite_data(cards)"
   ]
  },
  {
   "cell_type": "code",
   "execution_count": 33,
   "metadata": {},
   "outputs": [
    {
     "data": {
      "text/plain": [
       "{'Questions': 'Immanuel Kant criticized Emanuel Swedenborg and termed him a “spook hunter”.',\n",
       " 'Correct': 'A',\n",
       " 'A': 'True',\n",
       " 'B': 'False'}"
      ]
     },
     "execution_count": 33,
     "metadata": {},
     "output_type": "execute_result"
    }
   ],
   "source": [
    "cards[\"science-technology\"][0]"
   ]
  },
  {
   "cell_type": "code",
   "execution_count": 34,
   "metadata": {
    "cell_id": "2ef29219f8804e5fbcbafe9ebd219269",
    "deepnote_cell_type": "code",
    "deepnote_to_be_reexecuted": true,
    "execution_millis": 692,
    "execution_start": 1666089733388,
    "source_hash": "a67c52af"
   },
   "outputs": [
    {
     "name": "stdout",
     "output_type": "stream",
     "text": [
      "All basic tests passed!\n"
     ]
    }
   ],
   "source": [
    "test_rewrite_data(rewrite_data)"
   ]
  },
  {
   "cell_type": "markdown",
   "metadata": {
    "cell_id": "e7d6b6d6746c4d289665d256fd3b10da",
    "deepnote_cell_type": "markdown",
    "id": "uh6ey7R-QehE"
   },
   "source": [
    "<br>"
   ]
  },
  {
   "cell_type": "markdown",
   "metadata": {
    "cell_id": "53f306fe55b34fdf8b692c4f020a96c0",
    "deepnote_cell_type": "markdown",
    "id": "_iy9JfFoKDVU"
   },
   "source": [
    "### Exercise 2 - Implementing the game loop (12pt)\n",
    "\n",
    "Now that we have the data ready we can implement the game. The game is played by several teams, each having to answer a question in a card. The first team to reach the high-score wins.\n",
    "\n",
    " The trivia game has the following rules:\n",
    "+ The starting team is chosen randomly.\n",
    "+ When a team guesses a question they can play again.\n",
    "+ The first team to reach the high-score wins.\n",
    "\n",
    "You will start by implementing functions for basic game functionality, and then compose them together to implement the game."
   ]
  },
  {
   "cell_type": "markdown",
   "metadata": {
    "cell_id": "d345829bfc7e40c7895e83872d0c152d",
    "deepnote_cell_type": "markdown",
    "tags": []
   },
   "source": [
    "#### Exercise 2.1 (1pt)\n",
    "\n",
    "Implement the `pick_card` function to pick a random card from a random category and remove the card from the dictionary (so that it is not picked again later in the game). \n",
    "\n",
    "The function should return a tuple with the category and the card (in that order).\n",
    "\n",
    "Note: Use `random.choice` to select a random value from a list.\n",
    "\n",
    "Example:\n",
    "```ipython\n",
    "cards = {'science-technology': [{'Questions': 'Immanuel Kant criticized Emanuel Swedenborg and termed him a “spook hunter”.',\n",
    "                                 'Correct': 'A',\n",
    "                                 'A': 'True',\n",
    "                                 'B': 'False'}]}\n",
    "category, card = pick_card(cards)\n",
    "\n",
    "category\n",
    ">> 'science-technology'\n",
    "\n",
    "card\n",
    ">> {'Questions': 'Immanuel Kant criticized Emanuel Swedenborg and termed him a “spook hunter”.',\n",
    "                                 'Correct': 'A',\n",
    "                                 'A': 'True',\n",
    "                                 'B': 'False'}\n",
    "\n",
    "cards[category].index(card); # tries to find the index of the card in the list\n",
    ">> ValueError: <card> is not in list # throws an error because the card was removed from the list\n",
    "    \n",
    "cards\n",
    ">> {'science-technology': []}\n",
    "```"
   ]
  },
  {
   "cell_type": "code",
   "execution_count": 35,
   "metadata": {
    "cell_id": "83d8e8179e0c4847a3310aafa95454bc",
    "deepnote_cell_type": "code",
    "deepnote_to_be_reexecuted": true,
    "execution_millis": 12,
    "execution_start": 1666089733389,
    "source_hash": "89047012"
   },
   "outputs": [],
   "source": [
    "import random"
   ]
  },
  {
   "cell_type": "code",
   "execution_count": 36,
   "metadata": {
    "cell_id": "0da4af944315467a95c5bf812729291a",
    "deepnote_cell_type": "code",
    "deepnote_to_be_reexecuted": true,
    "execution_millis": 0,
    "execution_start": 1666089733402,
    "source_hash": "7fbd1d88"
   },
   "outputs": [],
   "source": [
    "# solve exercise here\n",
    "def pick_card(cards):\n",
    "        category = random.choice(list(cards.keys()))\n",
    "        card = random.choice(cards[category])\n",
    "        cards[category].remove(card)\n",
    "        return category, card"
   ]
  },
  {
   "cell_type": "code",
   "execution_count": 37,
   "metadata": {},
   "outputs": [
    {
     "data": {
      "text/plain": [
       "('celebrities',\n",
       " {'Questions': 'After the controversial performance in the fall of 2006, Michael Richards opened the next night at the very same location.',\n",
       "  'Correct': 'A',\n",
       "  'A': 'True',\n",
       "  'B': 'False'})"
      ]
     },
     "execution_count": 37,
     "metadata": {},
     "output_type": "execute_result"
    }
   ],
   "source": [
    "pick_card(cards)"
   ]
  },
  {
   "cell_type": "code",
   "execution_count": 38,
   "metadata": {
    "cell_id": "ad7709aaee6e4309991f404b4dc802d7",
    "deepnote_cell_type": "code",
    "deepnote_to_be_reexecuted": true,
    "execution_millis": 678,
    "execution_start": 1666089733403,
    "source_hash": "dfbf3ce3",
    "tags": []
   },
   "outputs": [
    {
     "name": "stdout",
     "output_type": "stream",
     "text": [
      "All basic tests passed!\n"
     ]
    }
   ],
   "source": [
    "test_pick_card(pick_card)"
   ]
  },
  {
   "cell_type": "markdown",
   "metadata": {
    "cell_id": "fb94d149042b44fe8579d66c159d7c20",
    "deepnote_cell_type": "markdown",
    "tags": []
   },
   "source": [
    "#### Exercise 2.2 (2pt)\n",
    "\n",
    "Implement the `question` function to generate a question prompt for the player. The function should return a string in the following format (__pay attention to whitespace and line breaks!__):\n",
    "\n",
    "Hint: Search in google \"line break python\" if you're in doubt how you'll end up with strings in new lines\n",
    "\n",
    "```\n",
    "Question for team <team> in category <category>:\n",
    "\n",
    "<question>\n",
    "\n",
    "<option_key>. <option_answer>\n",
    "...\n",
    "<option_key>. <option_answer>\n",
    "```\n",
    "\n",
    "\n",
    "Example:\n",
    "```ipython\n",
    "category = 'science-technology'\n",
    "card = cards[category][0]\n",
    "question(\"Alfa\", category, card)\n",
    "\n",
    ">> '''Question for team Alfa in category science-technology:\n",
    "\n",
    "Immanuel Kant criticized Emanuel Swedenborg and termed him a “spook hunter”.\n",
    "A. True\n",
    "B. False'''\n"
   ]
  },
  {
   "attachments": {},
   "cell_type": "markdown",
   "metadata": {},
   "source": [
    "VER COM O PROF, se puser \\n\\n a seguir a card[\"Questions\"] dá certo, se puser como está no exemplo do exercício dá erro."
   ]
  },
  {
   "cell_type": "code",
   "execution_count": 39,
   "metadata": {
    "cell_id": "9e63299aeaf14516a5a7d0f1b868ffc6",
    "deepnote_cell_type": "code",
    "deepnote_to_be_reexecuted": true,
    "execution_millis": 1,
    "execution_start": 1666089733404,
    "source_hash": "728323cc"
   },
   "outputs": [],
   "source": [
    "# solve exercise here\n",
    "def question(team, category, card):\n",
    "    string = f\"Question for team {team} in category {category}:\\n\\n{card['Questions']}\\n\\n\"\n",
    "    for answer_nr,answer in card.items(): #or for answer_nr in card: for answer in card[answer_nr]:\n",
    "        if answer_nr in [\"A\",\"B\",\"C\",\"D\"]:\n",
    "            string += f\"{answer_nr}. {answer}\\n\"\n",
    "\n",
    "    return string"
   ]
  },
  {
   "cell_type": "code",
   "execution_count": 40,
   "metadata": {},
   "outputs": [
    {
     "name": "stdout",
     "output_type": "stream",
     "text": [
      "Question for team Alfa in category science-technology:\n",
      "\n",
      "Immanuel Kant criticized Emanuel Swedenborg and termed him a “spook hunter”.\n",
      "\n",
      "A. True\n",
      "B. False\n",
      "\n"
     ]
    }
   ],
   "source": [
    "category = 'science-technology'\n",
    "card = cards[category][0]\n",
    "print(question(\"Alfa\", category, card))"
   ]
  },
  {
   "cell_type": "code",
   "execution_count": 41,
   "metadata": {
    "cell_id": "287a30ff65d64dc588ed4979424a4662",
    "deepnote_cell_type": "code",
    "deepnote_to_be_reexecuted": true,
    "execution_millis": 671,
    "execution_start": 1666089733411,
    "source_hash": "3bc48e8e",
    "tags": []
   },
   "outputs": [
    {
     "name": "stdout",
     "output_type": "stream",
     "text": [
      "All basic tests passed!\n"
     ]
    }
   ],
   "source": [
    "test_question(question)"
   ]
  },
  {
   "cell_type": "markdown",
   "metadata": {
    "cell_id": "abf2dded0e5a4d6fa9d94cdf60364be4",
    "deepnote_cell_type": "markdown",
    "tags": []
   },
   "source": [
    "#### Exercise 2.3 (6pt - 2pt per correct funtion)\n",
    "\n",
    "Lastly, we need a way to ask a player for their answer and then validate it. For this you will implement three functions: \n",
    "1. one to ask the user for input\n",
    "2. one to check if the answer provided is valid\n",
    "3. one to check if the answer is correct\n",
    "\n",
    "Start by implementing the `valid_answer` function to check if an answer to a given card is valid. The function should return `True` if the answer is a key in the card __independently of its case__, and `False` otherwise.\n",
    "\n",
    "Note: You can user `s.lower()` to convert the string `s` to lowercase.\n",
    "\n",
    "Example:\n",
    "```ipython\n",
    "card = cards['science-technology'][0]\n",
    "valid_answer('C', card)\n",
    ">> False\n",
    "valid_answer('3', card)\n",
    ">> False\n",
    "valid_answer('a', card)\n",
    ">> True\n",
    "valid_answer('B', card)\n",
    ">> True\n",
    "```"
   ]
  },
  {
   "cell_type": "code",
   "execution_count": 42,
   "metadata": {
    "cell_id": "7dc680d92d0446179018c0303f140cab",
    "deepnote_cell_type": "code",
    "deepnote_to_be_reexecuted": true,
    "execution_millis": 2,
    "execution_start": 1666089733412,
    "source_hash": "79161d18"
   },
   "outputs": [],
   "source": [
    "# solve exercise here\n",
    "def valid_answer(answer_nr,card):\n",
    "    if answer_nr.upper() in card.keys() and answer_nr.upper() in [\"A\",\"B\",\"C\",\"D\"]:\n",
    "        return True\n",
    "    else:\n",
    "        return False\n",
    "        "
   ]
  },
  {
   "cell_type": "code",
   "execution_count": 43,
   "metadata": {},
   "outputs": [],
   "source": [
    "card = cards[\"science-technology\"][0]"
   ]
  },
  {
   "cell_type": "code",
   "execution_count": 44,
   "metadata": {},
   "outputs": [
    {
     "data": {
      "text/plain": [
       "True"
      ]
     },
     "execution_count": 44,
     "metadata": {},
     "output_type": "execute_result"
    }
   ],
   "source": [
    "valid_answer(\"b\", card)"
   ]
  },
  {
   "cell_type": "code",
   "execution_count": 45,
   "metadata": {
    "cell_id": "83ee0557c40d43f5acb0bfa96385fac9",
    "deepnote_cell_type": "code",
    "deepnote_to_be_reexecuted": true,
    "execution_millis": 634,
    "execution_start": 1666089733459,
    "source_hash": "4540b5bf",
    "tags": []
   },
   "outputs": [
    {
     "name": "stdout",
     "output_type": "stream",
     "text": [
      "All basic tests passed!\n"
     ]
    }
   ],
   "source": [
    "test_valid_answer(valid_answer)"
   ]
  },
  {
   "cell_type": "markdown",
   "metadata": {
    "cell_id": "15fc978af0954d74903dddaf5667133d",
    "deepnote_cell_type": "markdown",
    "tags": []
   },
   "source": [
    "Implement the `ask_answer` function to ask the player their answer to a card. The function should return the provided answer. \n",
    "\n",
    "Ask for keyboard input with the `input` function, using `'Answer: '` as a prompt (see code cell below for an example). Then, check if the answer is valid using the `valid_answer` function. If not, continue asking until you get a valid answer. \n",
    "When a player inputs an invalid answer the function should print `Please input a valid answer.`.\n",
    "\n",
    "Note: You can pass a string to `input` to be placed as the prompt."
   ]
  },
  {
   "cell_type": "markdown",
   "metadata": {
    "cell_id": "d28bc616cd6348ae9e5acd0f25717917",
    "deepnote_cell_type": "markdown",
    "tags": []
   },
   "source": [
    "Example:\n",
    "```ipython\n",
    "card = cards['science-technology'][0]\n",
    "ask_answer(card)\n",
    ">> Answer: V # value 'V' is the input from the keyboard\n",
    ">> Please input a valid answer.\n",
    ">> Answer: 3\n",
    ">> Please input a valid answer.\n",
    ">> Answer: C\n",
    ">> Please input a valid answer.\n",
    ">> Answer: b\n",
    ">> 'b'\n",
    "```"
   ]
  },
  {
   "cell_type": "code",
   "execution_count": 46,
   "metadata": {
    "cell_id": "36fb8feb343e4401a483e489cf62bb85",
    "deepnote_cell_type": "code",
    "deepnote_to_be_reexecuted": true,
    "execution_millis": 0,
    "execution_start": 1666089733460,
    "source_hash": "4b26b3cb",
    "tags": []
   },
   "outputs": [],
   "source": [
    "# Input example.\n",
    "# Ask for keyboard input with a prompt and store the result in a variable.\n",
    "# words = input('Write some words: ')\n",
    "# print(words)"
   ]
  },
  {
   "cell_type": "code",
   "execution_count": 47,
   "metadata": {
    "cell_id": "39cc60293f4f41dc81af8160c5114630",
    "deepnote_cell_type": "code",
    "deepnote_to_be_reexecuted": true,
    "execution_millis": 3,
    "execution_start": 1666091557407,
    "source_hash": "44e62430"
   },
   "outputs": [],
   "source": [
    "# solve exercise here\n",
    "def ask_answer(card):\n",
    "    while True:\n",
    "        answer = input(\"Answer: \")\n",
    "        if valid_answer(answer, card) == True:\n",
    "            return answer\n",
    "        else:\n",
    "            print(\"Please input a valid answer.\")"
   ]
  },
  {
   "cell_type": "code",
   "execution_count": 49,
   "metadata": {
    "cell_id": "219fb7fec1cd496288ccce15e8f58ebb",
    "deepnote_cell_type": "code",
    "deepnote_to_be_reexecuted": true,
    "execution_millis": 1,
    "execution_start": 1666089733486,
    "source_hash": "c1f250da",
    "tags": []
   },
   "outputs": [
    {
     "name": "stdout",
     "output_type": "stream",
     "text": [
      "All basic tests passed!\n"
     ]
    }
   ],
   "source": [
    "test_ask_answer(ask_answer)"
   ]
  },
  {
   "cell_type": "markdown",
   "metadata": {
    "cell_id": "feec611508064de4b6593c8cd0d2a076",
    "deepnote_cell_type": "markdown",
    "tags": []
   },
   "source": [
    "Lastly, we need a function to check if an answer to a card is correct. Implement the `check_answer` function so that it returns `True` if the answer to the card is correct (again, independently of their case), and `False` otherwise (even if the answer is invalid)."
   ]
  },
  {
   "cell_type": "markdown",
   "metadata": {
    "cell_id": "56eafb7962ba4db2a6a40169ad760ebd",
    "deepnote_cell_type": "markdown",
    "tags": []
   },
   "source": [
    "Example:\n",
    "```ipython\n",
    "card = cards['science-technology'][0]\n",
    "check_answer('B', card)\n",
    ">> False\n",
    "check_answer('C', card)\n",
    ">> False\n",
    "check_answer('a', card)\n",
    ">> True\n",
    "```"
   ]
  },
  {
   "cell_type": "code",
   "execution_count": 50,
   "metadata": {
    "cell_id": "f3785f9dcb6f47cdb6211422c4311e18",
    "deepnote_cell_type": "code",
    "deepnote_to_be_reexecuted": true,
    "execution_millis": 0,
    "execution_start": 1666089733488,
    "source_hash": "4a15e629"
   },
   "outputs": [],
   "source": [
    "# solve exercise here\n",
    "def check_answer(answer_nr,card):\n",
    "    if answer_nr.upper() == card[\"Correct\"]:\n",
    "        return True\n",
    "    else:\n",
    "        return False"
   ]
  },
  {
   "cell_type": "code",
   "execution_count": 51,
   "metadata": {
    "cell_id": "7f9326536ceb409d805644dd1ceae09d",
    "deepnote_cell_type": "code",
    "deepnote_to_be_reexecuted": true,
    "execution_millis": 1,
    "execution_start": 1666089733489,
    "source_hash": "b83b953b",
    "tags": []
   },
   "outputs": [
    {
     "name": "stdout",
     "output_type": "stream",
     "text": [
      "All basic tests passed!\n"
     ]
    }
   ],
   "source": [
    "test_check_answer(check_answer)"
   ]
  },
  {
   "cell_type": "markdown",
   "metadata": {
    "cell_id": "1d67f2be109e4e56bde6b27621bda310",
    "deepnote_cell_type": "markdown",
    "tags": []
   },
   "source": [
    "#### Exercise 2.4 (3pt)\n",
    "\n",
    "With the functions defined in exercises 2.1-2.3 we can now implement our game loop. Recall the rules of the game described in this exercise.\n",
    "\n",
    "Implement the `game` function to play the game with `teams` until a score of `max_points` is reached. \n",
    "\n",
    "The function `game`has the following parameters:\n",
    "\n",
    "1. The parameter `teams` should be a list with strings of team names\n",
    "2. `max_points` an integer with the high-score for the game. \n",
    "\n",
    "The team order in playing the game is the order of `teams` list. Note that you should keep track of the scores of each team inside the `game` function.\n",
    "\n",
    "Each round is as follows:\n",
    "\n",
    "+ Start by picking a random card (using `pick_card`).\n",
    "+ Print the question and possible answers (using `question`).\n",
    "+ Ask the player for their answer (using `ask_answer`).\n",
    "+ Check if the answer is correct (using `check_answer`).\n",
    "+ If the answer is correct:\n",
    "    + Add one point to the team's score.\n",
    "    + If they reached the high-score as set by `max_points`, print `Congratulations! Team <name> won.`, where `name` is the name of the playing team.\n",
    "    + If not, print `Your answer is correct! Your score is <points>.`, where `points` is the playing team's score, and proceed to the next round (with the same team).\n",
    "+ If the answer is wrong:\n",
    "    + Print a string with the following format\n",
    "    ```\n",
    "    Your answer is wrong! The correct answer is <answer>.\n",
    "    Next team playing is <next>.\n",
    "    ```\n",
    "    where `answer` is the correct answer for the card and `next` is the name of the next team playing.\n",
    "\n",
    "    + Proceed to the next round with the next team (following the order of `teams` list).\n",
    "    \n",
    "This process repeats until a team reaches the high score as set by `max_points`, i.e. the function continues while at least one team has not reach `max_points`\n",
    "\n",
    "\n",
    "Example:\n",
    "```ipython\n",
    "game(teams=['alfa', 'beta', 'charlie'], points=1)\n",
    ">> Question for team beta in category world:\n",
    ">>\n",
    ">> Which of the following originated in Connecticut?\n",
    ">>\n",
    ">> A. Hamburger\n",
    ">> B. Hot Dog\n",
    ">> C. Clam chowder\n",
    ">> D. Ice cream cone\n",
    ">>\n",
    ">> Answer: z\n",
    ">> Please input a valid answer.\n",
    ">> Answer: 33\n",
    ">> Please input a valid answer.\n",
    ">> Answer: !!!\n",
    ">> Please input a valid answer.\n",
    ">> Answer: B\n",
    ">> Your answer is wrong! The correct answer is A.\n",
    ">> Next team playing is charlie.\n",
    ">> Question for team charlie in category brain-teasers:\n",
    ">>\n",
    ">> Suppose youre taking a multiple-choice quiz.  One question has three choices - A, B, C.  You do not know the answer and guess A. The instructor then announces that C is incorrect. Should you switch to B before turning in your paper?\n",
    ">>\n",
    ">> A. No, it would be worse\n",
    ">> B. Yes, this should help\n",
    ">> C. It depends on when the announcement was made\n",
    ">> D. It doesnt matter\n",
    ">>\n",
    ">> Answer: b\n",
    ">> Congratulations! Your team won.\n",
    "\n",
    "```\n",
    "\n",
    "This question does not have autograder tests."
   ]
  },
  {
   "cell_type": "code",
   "execution_count": 52,
   "metadata": {
    "cell_id": "7162f5b4f94945bda56e38acb3d21676",
    "deepnote_cell_type": "code",
    "deepnote_to_be_reexecuted": true,
    "execution_millis": 315916,
    "execution_start": 1666089733491,
    "output_cleared": false,
    "scrolled": true,
    "source_hash": "fd4acab0"
   },
   "outputs": [],
   "source": [
    "# solve exercise here\n",
    "def game(teams, max_points):\n",
    "    game_dictionary = {team: 0 for team in teams}\n",
    "    current_team = 0\n",
    "    while game_dictionary[teams[current_team]] < max_points:\n",
    "        category, card = pick_card(cards)\n",
    "        print(question(teams[current_team], category, card))\n",
    "        answer = ask_answer(card)\n",
    "        if check_answer(answer, card)==True:\n",
    "            game_dictionary[teams[current_team]] += 1\n",
    "            if game_dictionary[teams[current_team]] == max_points:\n",
    "                print(f\"Congratulations! Team {teams[current_team]} won.\")\n",
    "            else:\n",
    "                print(f\"Your answer is correct! Your score is {game_dictionary[teams[current_team]]}.\")\n",
    "        else:\n",
    "            correct_answer = card[\"Correct\"]\n",
    "            print(f\"Your answer is wrong! The correct answer is {correct_answer}.\")\n",
    "            current_team = (current_team + 1) % len(teams)\n",
    "            print(f\"Next team playing is {teams[current_team]}.\")"
   ]
  },
  {
   "cell_type": "code",
   "execution_count": null,
   "metadata": {
    "cell_id": "94553a6578a84510b57984279d1dff78",
    "deepnote_cell_type": "code",
    "deepnote_to_be_reexecuted": true,
    "source_hash": "b623e53d",
    "tags": []
   },
   "outputs": [],
   "source": [
    "# This question does not have autograder tests. You should experiment on your own your function to see if it is working"
   ]
  }
 ],
 "metadata": {
  "colab": {
   "name": "assignment_3 copy.ipynb",
   "provenance": [],
   "toc_visible": true
  },
  "deepnote": {},
  "deepnote_execution_queue": [],
  "deepnote_notebook_id": "602b4afb7085401ca5dda26a5ba73447",
  "deepnote_persisted_session": {
   "createdAt": "2022-10-17T18:47:18.093Z"
  },
  "kernelspec": {
   "display_name": "Python 3 (ipykernel)",
   "language": "python",
   "name": "python3"
  },
  "language_info": {
   "codemirror_mode": {
    "name": "ipython",
    "version": 3
   },
   "file_extension": ".py",
   "mimetype": "text/x-python",
   "name": "python",
   "nbconvert_exporter": "python",
   "pygments_lexer": "ipython3",
   "version": "3.9.6"
  }
 },
 "nbformat": 4,
 "nbformat_minor": 1
}
