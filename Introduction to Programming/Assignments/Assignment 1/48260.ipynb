{
 "cells": [
  {
   "cell_type": "markdown",
   "metadata": {},
   "source": [
    "<img src=\"https://apps.novasbe.pt/NovaMobility/resources/assets/images/nova_logo.png\" width=\"300\">"
   ]
  },
  {
   "cell_type": "markdown",
   "metadata": {},
   "source": [
    "<center> <h1> Assignment 1 - Hello, World! </h1></center>"
   ]
  },
  {
   "cell_type": "markdown",
   "metadata": {},
   "source": [
    "Instructions:"
   ]
  },
  {
   "cell_type": "markdown",
   "metadata": {},
   "source": [
    "1. Press `'File' -> 'Rename notebook'` and rename to your student id (eg 40000.ipynb)\n",
    "2. Complete assignment\n",
    "3. Save the .ipynb file by clicking`'File' -> 'Save notebook'` and submit it via Moodle"
   ]
  },
  {
   "cell_type": "markdown",
   "metadata": {},
   "source": [
    "### Notes on autograding\n",
    "\n",
    "**In this notebook we will provide functions that allow testing your answers.** Testing implies checking whether your code meets a set of requirements. If your code fails atleast one requirement, you will receive an error specifying where the test has failed. If the test passes, you will receive the message `All tests passed! Good job!`.\n",
    "\n",
    "__Note that in the next assignments, these test functions will not be provided.__ \n",
    "\n",
    "The autograding system has some implications on how you should complete these assignments:\n",
    "\n",
    "#### ➜ save results to variables with the **required identifier**.\n",
    "\n",
    "\n",
    "For instance, if we ask you to create a variable `my_name` with a string of your name, you should do it the following way:\n",
    "\n",
    "```python\n",
    "my_name = \"John Doe\" # ✅ GOOD\n",
    "\n",
    "My_name = \"John Doe\" # ❌ WRONG (wrong variable name!)\n",
    "\n",
    "\"John Doe\" # ❌ WRONG (not saving to a variable!)\n",
    "```\n",
    "\n",
    "\n",
    "This is very important, because we will look for the variable `my_name` when grading your work. Note that **Python is case sensitive language**.\n",
    "\n",
    "#### ➜ ensure code **runs end-to-end without errors**\n",
    "\n",
    "After you are done with your assignment you are encouraged to validate whether it runs end to end by restarting Jupyter's kernel and running the whole code (eg. press `Kernel` -> `Restart Kernell and Run All Cells`). \n",
    "\n",
    "If your code fails to run end to end it is possible that the autograder won't be able to evaluate some of your answers. In such cases we have to manually validate your assignment, which implies a slower grading process.\n"
   ]
  },
  {
   "cell_type": "markdown",
   "metadata": {},
   "source": [
    "---"
   ]
  },
  {
   "cell_type": "markdown",
   "metadata": {},
   "source": [
    "*** DON´T FORGET TO RUN THIS NEXT LINE OF CODE FOR THE TESTS TO RUN ***"
   ]
  },
  {
   "cell_type": "code",
   "execution_count": 5,
   "metadata": {},
   "outputs": [],
   "source": [
    "from tests_assignment_1 import *  # Execute this cell to test your answers  "
   ]
  },
  {
   "cell_type": "markdown",
   "metadata": {},
   "source": [
    "# Exercise 0 - Testing (0pt)\n",
    "Define a numerical variable `x` as 5 and a numerical variable `y` as 2.0. Obtain the product of `x` and `y` and store it in `z`."
   ]
  },
  {
   "cell_type": "code",
   "execution_count": 6,
   "metadata": {},
   "outputs": [],
   "source": [
    "x = 5\n",
    "y = 2.0\n",
    "z = x * y"
   ]
  },
  {
   "cell_type": "code",
   "execution_count": 7,
   "metadata": {},
   "outputs": [
    {
     "name": "stdout",
     "output_type": "stream",
     "text": [
      "All basic tests passed! Good job!\n"
     ]
    }
   ],
   "source": [
    "test_exercise_0(x, y, z)"
   ]
  },
  {
   "cell_type": "markdown",
   "metadata": {},
   "source": [
    "# Exercise 1 - Dude, what's my car? (1pt)\n",
    "Create the following variables and assign them the appropriate value. If you don't drive or are not sure of the values, you make them up. What matters is that the variables respect the type specified below.\n",
    "\n",
    "- `brand`\n",
    "- `model`\n",
    "- `year`\n",
    "- `consumption`\n",
    "\n",
    "Variables `brand` and `model` should have type `str`. Variable `year` should have type `int`. Finally, variable `consumption`, representing the fuel consumption in liters per 100KM, should have type `float`."
   ]
  },
  {
   "cell_type": "code",
   "execution_count": 8,
   "metadata": {},
   "outputs": [],
   "source": [
    "# solve ex1 here\n",
    "brand = \"Renault\"\n",
    "model = \"Twingo\"\n",
    "year = 2000\n",
    "consumption = 5.6"
   ]
  },
  {
   "cell_type": "code",
   "execution_count": 9,
   "metadata": {},
   "outputs": [
    {
     "name": "stdout",
     "output_type": "stream",
     "text": [
      "All basic tests passed! Good job!\n"
     ]
    }
   ],
   "source": [
    "test_exercise_1(brand, model, year, consumption)"
   ]
  },
  {
   "cell_type": "markdown",
   "metadata": {},
   "source": [
    "# Exercise 2 - Python, how old is my car? (1pt)"
   ]
  },
  {
   "cell_type": "markdown",
   "metadata": {},
   "source": [
    "Create a variable `current_year` with the current year and using `year` compute the approximate age of the car into the `car_age` variable."
   ]
  },
  {
   "cell_type": "code",
   "execution_count": 10,
   "metadata": {},
   "outputs": [],
   "source": [
    "# Solve ex2 here\n",
    "current_year = 2023\n",
    "car_age = current_year - year"
   ]
  },
  {
   "cell_type": "code",
   "execution_count": 11,
   "metadata": {},
   "outputs": [
    {
     "name": "stdout",
     "output_type": "stream",
     "text": [
      "All basic tests passed! Good job!\n"
     ]
    }
   ],
   "source": [
    "test_exercise_2(current_year, year, car_age)"
   ]
  },
  {
   "cell_type": "markdown",
   "metadata": {},
   "source": [
    "# Exercise 3 - How far can I drive? (1pt)"
   ]
  },
  {
   "cell_type": "markdown",
   "metadata": {},
   "source": [
    "Create a variable `fuel` with the how much fuel you have left in your car (in liters). Using `consumption`, from Exercise 1, compute how far you can drive into the `distance` variable."
   ]
  },
  {
   "cell_type": "code",
   "execution_count": 12,
   "metadata": {},
   "outputs": [],
   "source": [
    "# Solve ex3 here\n",
    "fuel = 20\n",
    "distance = (fuel/consumption)*100"
   ]
  },
  {
   "cell_type": "code",
   "execution_count": 13,
   "metadata": {},
   "outputs": [
    {
     "name": "stdout",
     "output_type": "stream",
     "text": [
      "All basic tests passed! Good job!\n"
     ]
    }
   ],
   "source": [
    "test_exercise_3(fuel, consumption, distance)"
   ]
  },
  {
   "cell_type": "markdown",
   "metadata": {},
   "source": [
    "# Exercise 4 - What is your car's name? (1pt)"
   ]
  },
  {
   "cell_type": "markdown",
   "metadata": {},
   "source": [
    "Create a variable `car_name` by concatenating `brand` and `model` defined in Exercise 1.\n",
    "\n",
    "Remeber to test your variable to see if it outputs what you want. The name should have a space between brand and model."
   ]
  },
  {
   "cell_type": "code",
   "execution_count": 14,
   "metadata": {},
   "outputs": [],
   "source": [
    "# Solve ex4 here\n",
    "car_name = brand + \" \" + model"
   ]
  },
  {
   "cell_type": "code",
   "execution_count": 15,
   "metadata": {},
   "outputs": [
    {
     "name": "stdout",
     "output_type": "stream",
     "text": [
      "All basic tests passed! Good job!\n"
     ]
    }
   ],
   "source": [
    "test_exercise_4(brand, model, car_name)"
   ]
  },
  {
   "cell_type": "markdown",
   "metadata": {},
   "source": [
    "# Exercise 5 - Hello! (1pt)"
   ]
  },
  {
   "cell_type": "markdown",
   "metadata": {},
   "source": [
    "Fill the following string, exactly as is but with variables `car_name`, from Exercise 4, and `car_age`, from Exercise 2. Assign the resulting string to the variable `greeting`.\n",
    "\n",
    "```python\n",
    "greeting = \"Hi! I drive a <car_name> that is <age> years old.\"\n",
    "```\n",
    "\n",
    "Finally, print the `greeting` variable."
   ]
  },
  {
   "cell_type": "code",
   "execution_count": 16,
   "metadata": {},
   "outputs": [
    {
     "name": "stdout",
     "output_type": "stream",
     "text": [
      "Hi! I drive a Renault Twingo that is 23 years old.\n"
     ]
    }
   ],
   "source": [
    "# Solve ex5 here\n",
    "greeting = f\"Hi! I drive a {car_name} that is {car_age} years old.\"\n",
    "print(greeting)"
   ]
  },
  {
   "cell_type": "code",
   "execution_count": 17,
   "metadata": {},
   "outputs": [
    {
     "name": "stdout",
     "output_type": "stream",
     "text": [
      "All basic tests passed! Good job!\n"
     ]
    }
   ],
   "source": [
    "test_exercise_5(car_name, car_age, greeting)"
   ]
  },
  {
   "cell_type": "markdown",
   "metadata": {},
   "source": [
    "# Exercise 6 - What is the length of your car's name? (1pt)\n",
    "Using the variable `car_name` from Exercise 4, compute the amount of characters there are in your the name and assign it to variable `len_car_name`. \n",
    "\n",
    "Remember that the name may have spaces. You need to think of a way to modify `car_name` such that you don't count the spaces when computing the length of the string."
   ]
  },
  {
   "cell_type": "code",
   "execution_count": 18,
   "metadata": {},
   "outputs": [],
   "source": [
    "# solve ex6 here\n",
    "len_car_name = len(car_name.replace(\" \",\"\"))"
   ]
  },
  {
   "cell_type": "code",
   "execution_count": 19,
   "metadata": {},
   "outputs": [
    {
     "name": "stdout",
     "output_type": "stream",
     "text": [
      "All basic tests passed! Good job!\n"
     ]
    }
   ],
   "source": [
    "test_exercise_6(brand, model, len_car_name)"
   ]
  },
  {
   "cell_type": "markdown",
   "metadata": {},
   "source": [
    "# Exercise 7 - How many miles per gallon? (1pt)"
   ]
  },
  {
   "cell_type": "markdown",
   "metadata": {},
   "source": [
    "Using the `liter_gallon` and `km_mile` conversion variables we give below complete the exercise. \n",
    "\n",
    "Create a variable `mpg` with your car's consumption in miles per gallon and compute its value from the `consumption` variable defined in Exercise 1."
   ]
  },
  {
   "cell_type": "code",
   "execution_count": 20,
   "metadata": {},
   "outputs": [],
   "source": [
    "liter_gallon = 0.26 # 1 liter corresponds to 0.26 gallons\n",
    "km_mile = 0.62 # 1 km corresponds to 0.62 miles\n",
    "\n",
    "# Solve ex7 here\n",
    "\n",
    "mpg = (km_mile*100)/(consumption*liter_gallon)"
   ]
  },
  {
   "cell_type": "code",
   "execution_count": 21,
   "metadata": {},
   "outputs": [
    {
     "name": "stdout",
     "output_type": "stream",
     "text": [
      "All basic tests passed! Good job!\n"
     ]
    }
   ],
   "source": [
    "test_exercise_7(consumption, liter_gallon, km_mile, mpg)"
   ]
  },
  {
   "cell_type": "markdown",
   "metadata": {},
   "source": [
    "# Exercise 8 - Nova MasterChef (8pt)"
   ]
  },
  {
   "cell_type": "markdown",
   "metadata": {},
   "source": [
    "In the Nova SBE's grocery the following ingredients (at their respective prices) are available:"
   ]
  },
  {
   "cell_type": "code",
   "execution_count": 22,
   "metadata": {},
   "outputs": [],
   "source": [
    "grocery = {\n",
    "    \"tomatoes\": 0.30,\n",
    "    \"potatoes\": 0.90,\n",
    "    \"pasta\": 1.98,\n",
    "    \"basil\": 1.40,\n",
    "    \"garlic\": 0.20,\n",
    "    \"steak\": 4,\n",
    "    \"fish\": 10,\n",
    "    \"red peppers\": 1.20,\n",
    "    \"shrimp\": 12,\n",
    "    \"broccoli\": 2,\n",
    "    \"lemon\": 0.80\n",
    "}"
   ]
  },
  {
   "cell_type": "markdown",
   "metadata": {},
   "source": [
    "1. **Get the prices for the ingredients below from the grocery above that you will use to make dinner. Use the dictionary provided above. Create a list for each one with the following format: (2pt)**\n",
    "\n",
    "    ```\n",
    "    ingredient_1 = [ingredient_1_name, ingredient_1_price]\n",
    "    ```\n",
    "\n",
    "    Assign each list to variables named `ingredient_1`, `ingredient_2` and `ingredient_3` like the example above"
   ]
  },
  {
   "cell_type": "code",
   "execution_count": 23,
   "metadata": {},
   "outputs": [],
   "source": [
    "# solve ex8.1 here\n",
    "# Replace None with the prices of the respective product (use the dictionary above, don´t hard code the numbers)\n",
    "\n",
    "ingredient_1 = [\"tomatoes\", grocery[\"tomatoes\"]]\n",
    "ingredient_2 = [\"steak\", grocery[\"steak\"]]\n",
    "ingredient_3 = [\"pasta\", grocery[\"pasta\"]]"
   ]
  },
  {
   "cell_type": "code",
   "execution_count": 24,
   "metadata": {},
   "outputs": [
    {
     "name": "stdout",
     "output_type": "stream",
     "text": [
      "All basic tests passed! Good job!\n"
     ]
    }
   ],
   "source": [
    "test_exercise_8_1(ingredient_1, ingredient_2, ingredient_3, grocery)"
   ]
  },
  {
   "cell_type": "markdown",
   "metadata": {},
   "source": [
    "2. **Create a list `shopping_list` with your 3 ingredients defined in Exercise 8.1 (2pt)**"
   ]
  },
  {
   "cell_type": "code",
   "execution_count": 25,
   "metadata": {},
   "outputs": [],
   "source": [
    "# solve ex8.2 here\n",
    "shopping_list = [ingredient_1,ingredient_2,ingredient_3]"
   ]
  },
  {
   "cell_type": "code",
   "execution_count": 26,
   "metadata": {},
   "outputs": [
    {
     "name": "stdout",
     "output_type": "stream",
     "text": [
      "All basic tests passed! Good job!\n"
     ]
    }
   ],
   "source": [
    "test_exercise_8_2(ingredient_1, ingredient_2, ingredient_3, shopping_list)"
   ]
  },
  {
   "cell_type": "markdown",
   "metadata": {},
   "source": [
    "3. **Now that you've settled on the ingredients, you need to decide how many of each you want to buy. Add the respective quantity (as `int`) to each list of your `shopping_list`. For example:** (2pt)\n",
    "\n",
    "    ```python\n",
    "    shopping_list = [[ingredient_1_name, ingredient_1_price, ingredient_1_quantity], ..., ...]\n",
    "    ```\n",
    "    **Note** You can choose whatever quantity you want as long as it is an integer. You should use the list you created in exercise 8.2"
   ]
  },
  {
   "cell_type": "code",
   "execution_count": 27,
   "metadata": {},
   "outputs": [],
   "source": [
    "# solve ex8.3 here\n",
    "ingredient_1.append(3)\n",
    "ingredient_2.append(5)\n",
    "ingredient_3.append(2)"
   ]
  },
  {
   "cell_type": "code",
   "execution_count": 28,
   "metadata": {},
   "outputs": [
    {
     "name": "stdout",
     "output_type": "stream",
     "text": [
      "All basic tests passed! Good job!\n"
     ]
    }
   ],
   "source": [
    "test_exercise_8_3(shopping_list)"
   ]
  },
  {
   "cell_type": "markdown",
   "metadata": {},
   "source": [
    "4. **Using `shopping_list` from 8.3, create a dictionary of dictionaries with all your ingredients, name it `dinner_dict`. The output dictionary should be similar to the following example:** (2pt)\n",
    "\n",
    "    ```python\n",
    "    dinner_dict = {\n",
    "        \"ingredient_1\": {\n",
    "            \"ingredient_name\": name_ingredient_1,\n",
    "            \"ingredient_price\": price_ingredient_1,\n",
    "            \"ingredient_quantity\": quantity_ingredient_1,\n",
    "        },\n",
    "        #...\n",
    "    }\n",
    "    ```\n",
    "    **Note** You need to use the shopping_list created in Exercise 8.3 to get the values. Do not hard code the values manually."
   ]
  },
  {
   "cell_type": "code",
   "execution_count": 29,
   "metadata": {},
   "outputs": [],
   "source": [
    "# solve ex8.4 here \n",
    "# Replace None with the correct way using the shopping_list\n",
    "# Hint: before trying to complete this dictionary all at once, test each thing that you need in another cell\n",
    "dinner_dict = {\n",
    "        \"ingredient_1\": {\n",
    "            \"ingredient_name\": shopping_list[0][0],\n",
    "            \"ingredient_price\": shopping_list[0][1],\n",
    "            \"ingredient_quantity\": shopping_list[0][2]\n",
    "        },\n",
    "    \"ingredient_2\": {\n",
    "            \"ingredient_name\": shopping_list[1][0],\n",
    "            \"ingredient_price\": shopping_list[1][1],\n",
    "            \"ingredient_quantity\": shopping_list[1][2]\n",
    "        },\n",
    "    \"ingredient_3\": {\n",
    "            \"ingredient_name\": shopping_list[2][0],\n",
    "            \"ingredient_price\": shopping_list[2][1],\n",
    "            \"ingredient_quantity\": shopping_list[2][2]\n",
    "        },\n",
    "    }"
   ]
  },
  {
   "cell_type": "code",
   "execution_count": 30,
   "metadata": {},
   "outputs": [
    {
     "name": "stdout",
     "output_type": "stream",
     "text": [
      "All basic tests passed! Good job!\n"
     ]
    }
   ],
   "source": [
    "test_exercise_8_4(dinner_dict, shopping_list)"
   ]
  },
  {
   "cell_type": "markdown",
   "metadata": {},
   "source": [
    "# Exercise 9 - Shelter analysis (5pt)"
   ]
  },
  {
   "cell_type": "markdown",
   "metadata": {},
   "source": [
    "The Nova's dog shelter sent you a data structure with the dogs that are currently on the shelter and they want to perform basic analytics to answer three questions."
   ]
  },
  {
   "cell_type": "code",
   "execution_count": 31,
   "metadata": {},
   "outputs": [],
   "source": [
    "dogs_shelter = {\n",
    "    \"fausto\": {\n",
    "        \"age\": 3,\n",
    "        \"adopted\": False,\n",
    "        \"owners\": None\n",
    "    },\n",
    "    \"pisco\": {\n",
    "        \"age\": 11,\n",
    "        \"adopted\": False,\n",
    "        \"owners\": None\n",
    "    },\n",
    "    \"plutao\": {\n",
    "        \"age\": 1,\n",
    "        \"adopted\": True,\n",
    "        \"owners\": [\"Fabio\", \"Maria\", \"Alberto\"]\n",
    "    }\n",
    "}"
   ]
  },
  {
   "cell_type": "markdown",
   "metadata": {},
   "source": [
    "**1. Are all dogs adopted? (4pt)**\n",
    "\n",
    "Start by getting the status of adoption of each dog (i.e. fill the variables in the next cell with the corresponding value)\n",
    "\n",
    "You should create a final variable `all_adopted` which should be `True` if all dogs are adopted (i.e. if the key `\"adopted\"` in the dictionary has the value `True` for all dogs. If at least one dog has `False` as the value of `adopted` then `all_adopted` will be `False`.\n",
    "\n",
    "(Your must answer programatically. In this case, **we will not accept** `fausto_adopted = False`. You should do this by accessing the key in the dictionary `dogs_shelter`)\n",
    "\n",
    "**NOTE** you´re not supposed to use if statements. You can compare all the boolean variables with \"and\" or \"or\" statements. You can find out more about this here https://realpython.com/python-or-operator/"
   ]
  },
  {
   "cell_type": "code",
   "execution_count": 32,
   "metadata": {},
   "outputs": [],
   "source": [
    "# solve ex9.1 here\n",
    "# replace the None with your answers\n",
    "fausto_adopted = dogs_shelter[\"fausto\"][\"adopted\"]\n",
    "pisco_adopted = dogs_shelter[\"pisco\"][\"adopted\"]\n",
    "plutao_adopted = dogs_shelter[\"plutao\"][\"adopted\"]\n",
    "all_adopted = fausto_adopted and pisco_adopted and plutao_adopted "
   ]
  },
  {
   "cell_type": "code",
   "execution_count": 33,
   "metadata": {},
   "outputs": [
    {
     "name": "stdout",
     "output_type": "stream",
     "text": [
      "All basic tests passed! Good job!\n"
     ]
    }
   ],
   "source": [
    "test_exercise_9_1(fausto_adopted, pisco_adopted, plutao_adopted,all_adopted)"
   ]
  },
  {
   "cell_type": "markdown",
   "metadata": {},
   "source": [
    "**2. How many owners does Plutao have? (1pt)** \n",
    "\n",
    "(Again, you must answer programatically and not `nr_owners=3`)"
   ]
  },
  {
   "cell_type": "code",
   "execution_count": 34,
   "metadata": {},
   "outputs": [],
   "source": [
    "# solve ex9.2 here\n",
    "# replace the None with your answer\n",
    "\n",
    "nr_owners = len(dogs_shelter[\"plutao\"][\"owners\"])"
   ]
  },
  {
   "cell_type": "code",
   "execution_count": 35,
   "metadata": {},
   "outputs": [
    {
     "name": "stdout",
     "output_type": "stream",
     "text": [
      "All basic tests passed! Good job!\n"
     ]
    }
   ],
   "source": [
    "test_exercise_9_2(nr_owners)"
   ]
  },
  {
   "cell_type": "code",
   "execution_count": null,
   "metadata": {},
   "outputs": [],
   "source": []
  }
 ],
 "metadata": {
  "kernelspec": {
   "display_name": "Python 3",
   "language": "python",
   "name": "python3"
  },
  "language_info": {
   "codemirror_mode": {
    "name": "ipython",
    "version": 3
   },
   "file_extension": ".py",
   "mimetype": "text/x-python",
   "name": "python",
   "nbconvert_exporter": "python",
   "pygments_lexer": "ipython3",
   "version": "3.9.6"
  },
  "vscode": {
   "interpreter": {
    "hash": "31f2aee4e71d21fbe5cf8b01ff0e069b9275f58929596ceb00d14d90e3e16cd6"
   }
  }
 },
 "nbformat": 4,
 "nbformat_minor": 4
}
