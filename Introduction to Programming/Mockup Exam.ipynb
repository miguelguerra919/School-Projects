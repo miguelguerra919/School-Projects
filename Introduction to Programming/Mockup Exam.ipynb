{
 "cells": [
  {
   "cell_type": "markdown",
   "metadata": {
    "id": "78tH6NampwSi"
   },
   "source": [
    "<img src=\"https://apps.novasbe.pt/NovaMobility/resources/assets/images/nova_logo.png\" width=\"300\">"
   ]
  },
  {
   "cell_type": "markdown",
   "metadata": {
    "id": "GKejZwIBpwSl"
   },
   "source": [
    "<center> <h1>2477 Exam</h1></center>"
   ]
  },
  {
   "cell_type": "markdown",
   "metadata": {
    "id": "tcSxjAxOpwSn"
   },
   "source": [
    "Instructions:"
   ]
  },
  {
   "cell_type": "markdown",
   "metadata": {
    "id": "fnU6-KHHpwSp"
   },
   "source": [
    "- The exam has a duration of 2 hours (09AM to 11AM)\n",
    "- Complete the exam and save the exam as <student_number>.ipynb (or <student_number>.py) with **your student number**. Eg. 40000.ipynb\n",
    "- We will promptly check for plagiarism, if you copy you will get caught.\n",
    "- Submit it on moodle\n",
    "\n",
    "Good luck!"
   ]
  },
  {
   "cell_type": "markdown",
   "metadata": {},
   "source": [
    "# Exercise 1 (3 pt)"
   ]
  },
  {
   "cell_type": "markdown",
   "metadata": {},
   "source": [
    "In this exercise you are given a small sample of the BRCA1 gene sequence. Certain variations of the BRCA1 gene lead to an increased risk for breast cancer. DNA sequence has four possible letters, A, C, G, and T. These represent the four nucleotide bases of a DNA strand — adenine, cytosine, guanine, thymine."
   ]
  },
  {
   "cell_type": "code",
   "execution_count": 1,
   "metadata": {},
   "outputs": [],
   "source": [
    "dna = 'GCTGAGACTTCCTGGACGGGGGACAGGCTGTGGGGTTTCTCAGATAACTGGGCCCCTGCG'"
   ]
  },
  {
   "cell_type": "code",
   "execution_count": 2,
   "metadata": {},
   "outputs": [],
   "source": [
    "def count_bases(string1):\n",
    "    dict1 = {key: 0 for key in [\"A\",\"C\",\"G\",\"T\"]}\n",
    "    for key in dict1:\n",
    "        dict1[key] = string1.count(key)\n",
    "    return dict1\n"
   ]
  },
  {
   "cell_type": "markdown",
   "metadata": {},
   "source": [
    "1. Define a function `count_bases` that accepts a string of DNA sequence (with 'A', 'C', 'G' and 'T') and returns the counts of each letter in a dict. \n",
    "\n",
    "- If no letter is found in the given string, assume its count is 0. \n",
    "- Ignore characters other than ACGT. \n",
    "\n",
    "Example: \n",
    "```python\n",
    "count_bases('AACCCGG')\n",
    ">> {'A': 2, 'C': 3, 'G': 2, 'T': 0}\n",
    "```"
   ]
  },
  {
   "cell_type": "markdown",
   "metadata": {},
   "source": [
    "# Exercise 2 (4 pt)\n",
    "\n",
    "Write a function `aggregate_lists` that receives two arguments: \n",
    "- `keys_to_get` which is a **tuple containing numeric types (integer)**. Consider that this tuple will always have more than 2 elements. \n",
    "- `dictionary_of_lists` which is a **dictionary that always map a numeric key to a list**\n",
    "\n",
    "The `aggregate_lists` function should:\n",
    "- return **one list**, that is the result of concatenating the different lists of the dictionary that are values of the keys present in the tuple** \n",
    "\n",
    "By default, the `keys_to_get` argument should be `(1, 2, 3)`.\n",
    "\n",
    "Example 1:\n",
    "\n",
    "```python\n",
    "dictionary_of_lists = {1: [\"a\"], 2: [\"b\", \"c\"], 5: [\"e\"]}\n",
    "keys_to_get=(1, 2)\n",
    "\n",
    "aggregated_lists(dictionary_of_lists, keys_to_get)\n",
    "\n",
    ">> ['a', 'b', 'c']\n",
    "```\n",
    "\n",
    "Example 2\n",
    "```python\n",
    "dictionary_of_lists = {1: [\"a\"], 2: [\"b\", \"c\"], 5: [\"e\"]}\n",
    "keys_to_get=(1, 5)\n",
    "\n",
    "aggregated_lists(dictionary_of_lists, keys_to_get)\n",
    "\n",
    ">> ['a', 'e']\n",
    "```"
   ]
  },
  {
   "cell_type": "markdown",
   "metadata": {},
   "source": [
    "#### Hint for the Exercise: \n",
    "There are several ways to get lists concatenated. We covered two in classes, they'll be here for you to remember. Feel free to copy and experiment with each one in case you are not comfortable:\n",
    "\n",
    "Example 1\n",
    "\n",
    "```python \n",
    "l_1 = [\"a\", \"b\"]\n",
    "l_2 = [\"c\"]\n",
    "l_1.extend(l_2) # ['a', 'b', 'c']\n",
    "```\n",
    "\n",
    "Example 2\n",
    "```python\n",
    "[\"a\", \"b\"] + [\"c\"] # [\"a\", \"b\", \"c\"]\n",
    "```"
   ]
  },
  {
   "cell_type": "code",
   "execution_count": 32,
   "metadata": {},
   "outputs": [],
   "source": [
    "def aggregate_lists(keys_to_get = (1,2,3),dictionary_of_lists = {}):\n",
    "    list1 = []\n",
    "    for key in dictionary_of_lists:\n",
    "            if key in keys_to_get:\n",
    "                list1.extend(dictionary_of_lists[key]) # or list1 += dictionary_of_lists[key]\n",
    "    return list1"
   ]
  },
  {
   "cell_type": "code",
   "execution_count": 38,
   "metadata": {},
   "outputs": [
    {
     "data": {
      "text/plain": [
       "['a', 'b', 'c']"
      ]
     },
     "execution_count": 38,
     "metadata": {},
     "output_type": "execute_result"
    }
   ],
   "source": [
    "dictionary_of_lists = {1: [\"a\"], 2: [\"b\", \"c\"], 5: [\"e\"]}\n",
    "keys_to_get=(1,2)\n",
    "aggregate_lists(keys_to_get,dictionary_of_lists)\n"
   ]
  },
  {
   "cell_type": "markdown",
   "metadata": {},
   "source": [
    "# Exercise 3 (3 pt)"
   ]
  },
  {
   "cell_type": "markdown",
   "metadata": {},
   "source": [
    "*Hint: Solve each part separately. Start with part 1 and build on top of it to solve part 2. Remember to keep the complicometer off.*\n",
    "\n",
    "**Part 1**\n",
    "Write a function called `multiply_all_numbers`. This function should receive one argument that is a dictionary and should return the multiplication of all the values of the dictionary that are integers or floats. \n",
    "\n",
    "Example 1:\n",
    "```python\n",
    "d = {\n",
    "    1: [1, 2, 3],\n",
    "    2: 1,\n",
    "    3: 2.0,\n",
    "    4: 4,\n",
    "    5: \"hello\"\n",
    "}\n",
    "\n",
    "multiply_all_numbers(d)\n",
    "\n",
    ">> 8.0\n",
    "```\n",
    "\n",
    "\n",
    "**Part 2**\n",
    "In case the dictionary doesn't have any integers or floats as values the function should return a dictionary like the following: \n",
    "\n",
    "`{\"response\": \"There are no int or floats\"}`\n",
    "\n",
    "Example 3: \n",
    "```python\n",
    "d = {\n",
    "    1: [1, 2, 3],\n",
    "    5: \"hello\"\n",
    "}\n",
    "\n",
    "multiply_all_numbers(d)\n",
    "\n",
    ">> {'response': 'There are no int or floats'}\n",
    "```"
   ]
  },
  {
   "cell_type": "code",
   "execution_count": 147,
   "metadata": {},
   "outputs": [],
   "source": [
    "def multiply_all_numbers(dic1):\n",
    "    multiplication = None\n",
    "    for value in dic1.values():\n",
    "        if type(value) in [int,float]:\n",
    "            if multiplication is None:\n",
    "                multiplication = value\n",
    "            else:\n",
    "                multiplication *=value\n",
    "    if multiplication == None:\n",
    "        return {\"response\": \"There are no int or floats\"}\n",
    "    return multiplication"
   ]
  },
  {
   "cell_type": "markdown",
   "metadata": {},
   "source": [
    "# Exercise 4 (4 pt)"
   ]
  },
  {
   "cell_type": "markdown",
   "metadata": {},
   "source": [
    "Your job is to create a class `Teacher` to help teachers generate tests faster depending on the difficulty level they want. It should be initialized with three instance attributes: \n",
    "* course\n",
    "* area_research \n",
    "* question_bank \n",
    "\n",
    "These attributes should be controlled by the user when creating an instance of `Teacher`\n",
    "\n",
    "The `question_bank` data structure looks like this. For each key of difficulty, you have a list of topics the teacher can use to create a test.\n",
    "\n",
    "```python\n",
    " \n",
    "question_bank = {\n",
    "    \"difficulty\": {\n",
    "        1: [\"Lists vs Tuples\", \"Classes\", \"Functions\"],\n",
    "        2: [\"Data Structures\", \"API\"],\n",
    "        3: [\"Generators\", \"Data Models\"]\n",
    "    },\n",
    "    \"course\": \"Introduction to Python\",\n",
    "    \"teacher\": \"Antonio Manuel\"\n",
    "}\n",
    "```"
   ]
  },
  {
   "cell_type": "markdown",
   "metadata": {},
   "source": [
    "The Teacher class will have two methods:\n",
    "\n",
    "**create_test** \n",
    "\n",
    "This method should receive one argument - `max_difficulty` and it should return a list with all the topics the teacher can use. The teacher can only use topics that are equal or below the difficulty level defined by max_difficulty (see Testing your code section for an example).\n",
    "\n",
    "**teacher_info** \n",
    "\n",
    "This method does not receive any argument and should return the following string:\n",
    "\n",
    "* Professor `<teacher>` is teaching `<course>` this year.\n",
    "\n",
    "Replace `<teacher>` and `<course>` with the respective values that are on question_bank .\n",
    "\n",
    "\n",
    "<br>\n",
    "\n",
    "Example 1\n",
    "```python\n",
    "teacher = Teacher(\"programming\", \"computer science\", question_bank)\n",
    "teacher.create_test(2)\n",
    "\n",
    ">> ['Lists vs Tuples', 'Classes', 'Functions', 'Data Structures', 'API']\n",
    "```\n",
    "\n",
    "Example 2\n",
    "```python\n",
    "teacher = Teacher(\"programming\", \"computer science\", question_bank)\n",
    "teacher.teacher_info()\n",
    "\n",
    ">> 'Professor Antonio Manuel is teaching Introduction to Python this year'\n",
    "```"
   ]
  },
  {
   "cell_type": "code",
   "execution_count": 192,
   "metadata": {},
   "outputs": [],
   "source": [
    "class Teacher:\n",
    "    def __init__(self, course, area_research, question_bank):\n",
    "        self.course = course\n",
    "        self.area_reaserch = area_research\n",
    "        self.question_bank = question_bank\n",
    "\n",
    "    def create_test(self, max_difficulty):\n",
    "        topics_list = []\n",
    "        for key in self.question_bank[\"difficulty\"]:\n",
    "            if key <= max_difficulty:\n",
    "                topics_list+=(self.question_bank[\"difficulty\"][key])\n",
    "        return topics_list\n",
    "    \n",
    "    def teacher_info(self):\n",
    "        teacher = self.question_bank[\"teacher\"]\n",
    "        course = self.question_bank[\"course\"]\n",
    "        return f\"Professor {teacher} is teaching {course} this year.\"\n"
   ]
  },
  {
   "cell_type": "code",
   "execution_count": 193,
   "metadata": {},
   "outputs": [],
   "source": [
    "question_bank = {\"difficulty\": {\n",
    "        1: [\"Lists vs Tuples\", \"Classes\", \"Functions\"],\n",
    "        2: [\"Data Structures\", \"API\"],\n",
    "        3: [\"Generators\", \"Data Models\"]\n",
    "        },\n",
    "        \"course\": \"Introduction to Python\",\n",
    "        \"teacher\": \"Antonio Manuel\"}"
   ]
  },
  {
   "cell_type": "code",
   "execution_count": 194,
   "metadata": {},
   "outputs": [],
   "source": [
    "teacher1 = Teacher(\"programming\",\"computer science\",question_bank)"
   ]
  },
  {
   "cell_type": "code",
   "execution_count": 196,
   "metadata": {},
   "outputs": [
    {
     "data": {
      "text/plain": [
       "'programming'"
      ]
     },
     "execution_count": 196,
     "metadata": {},
     "output_type": "execute_result"
    }
   ],
   "source": [
    "teacher1.create_test(3)\n",
    "teacher1.teacher_info()\n",
    "teacher1.area_reaserch\n",
    "teacher1.course"
   ]
  },
  {
   "cell_type": "markdown",
   "metadata": {},
   "source": [
    "# Exercise 5 (4pt)"
   ]
  },
  {
   "cell_type": "markdown",
   "metadata": {},
   "source": [
    "Handling different data structures is something important that we have been doing a lot during the course. In this exercise you will implement the class `DataStructures` with the following requirements:\n",
    "\n",
    "`DataStructures` class should have the following instance attributes:\n",
    "1. `final_list` initialized as an empty list \n",
    "2. `final_dictionary` initialized as an empty dictionary\n",
    "\n",
    "`DataStructures` class should have the following methods:\n",
    "1. The method `handle_lists` should receive two lists as arguments. This method assings to the instance varaible `final_list` the odd numbers from the first list and the even numbers from the second list. The `final_list` should be sorted from the smallest to the largest. \n",
    "\n",
    "2. The method `handle_dictionaries` should receive two dictionaries and assign to the instance variable `final_dictionary` the merge of the two dictionaries together (eg. all the key:values from both dictionaries). In case there are two keys with the same name, it should keep the key and value of the first dictionary.\n",
    "\n",
    "Example 1: \n",
    "```python\n",
    "d = DataStructures()\n",
    "d.handle_lists([3, 2, 1], [12, 11, 10])\n",
    "print(d.final_list)\n",
    ">> [1, 3, 10, 12]\n",
    "```\n",
    "\n",
    "Example 2: \n",
    "```python\n",
    "d = DataStructures()\n",
    "d.handle_dictionaries({\"name\": \"manuel\"}, {\"name\": \"francisco\", \"age\": 25})\n",
    "print(d.final_dictionary)\n",
    ">> {'name': 'manuel', 'age': 25}\n",
    "```"
   ]
  },
  {
   "cell_type": "code",
   "execution_count": 3,
   "metadata": {},
   "outputs": [],
   "source": [
    "class DataStructures:\n",
    "    def __init__(self, final_list = [], final_dictionary = {}):\n",
    "        self.final_list = final_list\n",
    "        self.final_dictionary = final_dictionary\n",
    "    \n",
    "    def handle_lists(self,list1,list2):\n",
    "        for nr in list1:\n",
    "            if nr%2 != 0:\n",
    "                self.final_list.append(nr)\n",
    "        for nr in list2:\n",
    "            if nr%2 == 0:\n",
    "                self.final_list.append(nr)\n",
    "        self.final_list.sort()\n",
    "    \n",
    "    def handle_dictionaries(self,dict1,dict2):\n",
    "        for key,value in dict1.items():\n",
    "            self.final_dictionary[key] = value\n",
    "        for key,value in dict2.items():\n",
    "            if key not in self.final_dictionary:\n",
    "                self.final_dictionary[key] = value\n",
    "        self.final_dictionary"
   ]
  },
  {
   "cell_type": "code",
   "execution_count": 4,
   "metadata": {},
   "outputs": [
    {
     "name": "stdout",
     "output_type": "stream",
     "text": [
      "[1, 3, 10, 12]\n"
     ]
    }
   ],
   "source": [
    "d = DataStructures()\n",
    "d.handle_lists([3, 2, 1], [12, 11, 10])\n",
    "print(d.final_list)"
   ]
  },
  {
   "cell_type": "code",
   "execution_count": 209,
   "metadata": {},
   "outputs": [
    {
     "name": "stdout",
     "output_type": "stream",
     "text": [
      "{'name': 'manuel', 'age': 25}\n"
     ]
    }
   ],
   "source": [
    "d = DataStructures()\n",
    "d.handle_dictionaries({\"name\": \"manuel\"}, {\"name\": \"francisco\", \"age\": 25})\n",
    "print(d.final_dictionary)"
   ]
  },
  {
   "cell_type": "markdown",
   "metadata": {},
   "source": [
    "## Exercise 6 (2 Points) "
   ]
  },
  {
   "cell_type": "markdown",
   "metadata": {},
   "source": [
    "Consider the following data structure to manage the lisbon shelter. Your job is to make the life of the shelter easy by writting an object to answer some questions. "
   ]
  },
  {
   "cell_type": "markdown",
   "metadata": {},
   "source": [
    "```python\n",
    "lisbon_shelter = [\n",
    "    {\n",
    "        \"name\": \"Dobby\", \n",
    "        \"age\": 3, \n",
    "        \"owners\": [\n",
    "            {\n",
    "                \"name\": \"Ricardo\",\n",
    "                \"age\": 29,\n",
    "                \"residency\": \"Lisbon\"\n",
    "            },\n",
    "            {\n",
    "                \"name\": \"Ines\",\n",
    "                \"age\": 26, \n",
    "                \"residency\": \"Lisbon\"\n",
    "            }\n",
    "        ]\n",
    "    },\n",
    "    {\n",
    "        \"name\": \"Farrusco\", \n",
    "        \"age\": 6, \n",
    "        \"owners\": [\n",
    "            {\n",
    "                \"name\": \"Manel\",\n",
    "                \"age\": 30,\n",
    "                \"residency\": \"Lisbon\"\n",
    "            }\n",
    "        ]\n",
    "    },\n",
    "    {\n",
    "        \"name\": \"Francisquinho\", \n",
    "        \"age\": 13, \n",
    "        \"owners\": []\n",
    "    }\n",
    "]\n",
    "```"
   ]
  },
  {
   "cell_type": "markdown",
   "metadata": {},
   "source": [
    "Write the `Shelter` class with an instance attribute `shelter_data`, controlled by the user. This object will have three methods: \n",
    "\n",
    "**dog_info** \n",
    "\n",
    "This method should receive as an argument the name of one dog and return a tuple with it's \n",
    "* name\n",
    "* age \n",
    "* boolean True in case he has owners or False in case the list is empty. \n",
    "\n",
    "In case the dog is not in the shelter data, it should return `False`.\n",
    "\n",
    "**owners_info** \n",
    "\n",
    "This method should receive the name of one owner and return a tuple with it's age and residency. In case the owner's name doesn't exist it should return `False`\n",
    "\n",
    "<br>\n",
    "\n",
    "Example 1\n",
    "```python\n",
    "lisbon_shelter = Shelter(lisbon_shelter)\n",
    "lisbon_shelter.dog_info(\"Francisquinho\")\n",
    "\n",
    ">> ['Francisquinho', 13, False]\n",
    "```\n",
    "\n",
    "Example 2\n",
    "```python\n",
    "lisbon_shelter = Shelter(lisbon_shelter)\n",
    "lisbon_shelter.owners_info(\"Ricardo\")\n",
    "\n",
    ">> ('Ricardo', 29)\n",
    "```"
   ]
  },
  {
   "cell_type": "code",
   "execution_count": 87,
   "metadata": {},
   "outputs": [],
   "source": [
    "class Shelter:\n",
    "    def __init__(self, shelter_data):\n",
    "        self.shelter_data = shelter_data\n",
    "\n",
    "    def dog_info(self,dog_name):\n",
    "        for dog in self.shelter_data:\n",
    "            if dog[\"name\"] == dog_name: \n",
    "                if dog[\"owners\"] == []:\n",
    "                    return [dog_name,dog[\"age\"],False]\n",
    "                else:\n",
    "                    return [dog_name,dog[\"age\"],True]\n",
    "        else:\n",
    "            return False\n",
    "        \n",
    "    def owners_info(self,owner_name):\n",
    "        for dog in self.shelter_data:\n",
    "            for owner in dog[\"owners\"]:\n",
    "                if owner[\"name\"] == owner_name:\n",
    "                    return(owner[\"age\"],owner[\"residency\"])\n",
    "        else:\n",
    "            return False"
   ]
  },
  {
   "cell_type": "code",
   "execution_count": 88,
   "metadata": {},
   "outputs": [],
   "source": [
    "lisbon_shelter = [\n",
    "    {\n",
    "        \"name\": \"Dobby\", \n",
    "        \"age\": 3, \n",
    "        \"owners\": [\n",
    "            {\n",
    "                \"name\": \"Ricardo\",\n",
    "                \"age\": 29,\n",
    "                \"residency\": \"Lisbon\"\n",
    "            },\n",
    "            {\n",
    "                \"name\": \"Ines\",\n",
    "                \"age\": 26, \n",
    "                \"residency\": \"Lisbon\"\n",
    "            }\n",
    "        ]\n",
    "    },\n",
    "    {\n",
    "        \"name\": \"Farrusco\", \n",
    "        \"age\": 6, \n",
    "        \"owners\": [\n",
    "            {\n",
    "                \"name\": \"Manel\",\n",
    "                \"age\": 30,\n",
    "                \"residency\": \"Lisbon\"\n",
    "            }\n",
    "        ]\n",
    "    },\n",
    "    {\n",
    "        \"name\": \"Francisquinho\", \n",
    "        \"age\": 13, \n",
    "        \"owners\": []\n",
    "    }\n",
    "]"
   ]
  },
  {
   "cell_type": "code",
   "execution_count": 89,
   "metadata": {},
   "outputs": [],
   "source": [
    "lisbon_shelter1 = Shelter(lisbon_shelter)"
   ]
  },
  {
   "cell_type": "code",
   "execution_count": 90,
   "metadata": {},
   "outputs": [
    {
     "data": {
      "text/plain": [
       "['Francisquinho', 13, False]"
      ]
     },
     "execution_count": 90,
     "metadata": {},
     "output_type": "execute_result"
    }
   ],
   "source": [
    "lisbon_shelter1.dog_info(\"Francisquinho\")\n"
   ]
  },
  {
   "cell_type": "code",
   "execution_count": 86,
   "metadata": {},
   "outputs": [
    {
     "data": {
      "text/plain": [
       "(29, 'Lisbon')"
      ]
     },
     "execution_count": 86,
     "metadata": {},
     "output_type": "execute_result"
    }
   ],
   "source": [
    "lisbon_shelter1.owners_info(\"Ricardo\")"
   ]
  }
 ],
 "metadata": {
  "kernelspec": {
   "display_name": "Python 3",
   "language": "python",
   "name": "python3"
  },
  "language_info": {
   "codemirror_mode": {
    "name": "ipython",
    "version": 3
   },
   "file_extension": ".py",
   "mimetype": "text/x-python",
   "name": "python",
   "nbconvert_exporter": "python",
   "pygments_lexer": "ipython3",
   "version": "3.9.6"
  }
 },
 "nbformat": 4,
 "nbformat_minor": 4
}
