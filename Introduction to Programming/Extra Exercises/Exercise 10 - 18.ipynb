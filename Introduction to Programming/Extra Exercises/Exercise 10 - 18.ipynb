{
 "cells": [
  {
   "attachments": {},
   "cell_type": "markdown",
   "metadata": {},
   "source": [
    "Exercise 10 - Len Function"
   ]
  },
  {
   "cell_type": "code",
   "execution_count": 1,
   "metadata": {},
   "outputs": [
    {
     "name": "stdout",
     "output_type": "stream",
     "text": [
      "7\n"
     ]
    }
   ],
   "source": [
    "lst=[11, 10, 12, 101, 99, 1000, 999]\n",
    "\n",
    "answer_1= len(lst)\n",
    "\n",
    "\n",
    "print(answer_1)"
   ]
  },
  {
   "cell_type": "code",
   "execution_count": 2,
   "metadata": {},
   "outputs": [
    {
     "name": "stdout",
     "output_type": "stream",
     "text": [
      "36\n"
     ]
    }
   ],
   "source": [
    "msg=\"Be yourself, everyone else is taken.\"\n",
    "#Type your code here.\n",
    "\n",
    "msg_length= len(msg)\n",
    "\n",
    "\n",
    "print(msg_length)\n"
   ]
  },
  {
   "cell_type": "code",
   "execution_count": 3,
   "metadata": {},
   "outputs": [
    {
     "name": "stdout",
     "output_type": "stream",
     "text": [
      "5\n"
     ]
    }
   ],
   "source": [
    "dict={\"Real Madrid\": 13,\"AC Milan\": 7,\"Bayern Munich\":5 ,\"Barcelona\": 5, \"Liverpool\": 5}\n",
    "#Type your answer here.\n",
    "\n",
    "ans_1= len(dict)\n",
    "\n",
    "print(ans_1)\n"
   ]
  },
  {
   "cell_type": "code",
   "execution_count": 4,
   "metadata": {},
   "outputs": [
    {
     "name": "stdout",
     "output_type": "stream",
     "text": [
      "jam\n"
     ]
    }
   ],
   "source": [
    "gift_list=['socks', '4K drone', 'wine', 'jam']\n",
    "# Type your code here.\n",
    "\n",
    "index_no= len(gift_list)-1\n",
    "ans_1= gift_list[index_no]\n",
    "\n",
    "\n",
    "print(ans_1)\n"
   ]
  },
  {
   "cell_type": "code",
   "execution_count": 5,
   "metadata": {},
   "outputs": [
    {
     "name": "stdout",
     "output_type": "stream",
     "text": [
      "8\n"
     ]
    }
   ],
   "source": [
    "gift_list=['4K drone', 'wine', 'jam', ['socks', 'pajamas', 'raincoat']]\n",
    "# Type your code here.\n",
    "\n",
    "ans_1= len(gift_list[-1][-1])\n",
    "\n",
    "print(ans_1)"
   ]
  },
  {
   "attachments": {},
   "cell_type": "markdown",
   "metadata": {},
   "source": [
    "Exercise 11 - Sort Function"
   ]
  },
  {
   "cell_type": "code",
   "execution_count": 6,
   "metadata": {},
   "outputs": [
    {
     "name": "stdout",
     "output_type": "stream",
     "text": [
      "[11, 99, 100, 999, 1000]\n"
     ]
    }
   ],
   "source": [
    "lst=[11, 100, 99, 1000, 999]\n",
    "\n",
    "#Type your answer here.\n",
    "\n",
    "lst.sort()\n",
    "\n",
    "print(lst)"
   ]
  },
  {
   "cell_type": "code",
   "execution_count": 7,
   "metadata": {},
   "outputs": [
    {
     "name": "stdout",
     "output_type": "stream",
     "text": [
      "['Belize', 'Canada', 'India', 'Japan', 'Kazakhstan', 'Taiwan', 'Ukraine']\n"
     ]
    }
   ],
   "source": [
    "lst=[\"Ukraine\", \"Japan\", \"Canada\", \"Kazakhstan\", \"Taiwan\", \"India\", \"Belize\"]\n",
    "\n",
    "#Type your code here.\n",
    "\n",
    "lst.sort()\n",
    "\n",
    "print(lst)"
   ]
  },
  {
   "cell_type": "code",
   "execution_count": 8,
   "metadata": {},
   "outputs": [
    {
     "name": "stdout",
     "output_type": "stream",
     "text": [
      "[1001, 999, 101, 100, 11]\n"
     ]
    }
   ],
   "source": [
    "lst=[11, 100, 101, 999, 1001]\n",
    "\n",
    "#Type your answer here.\n",
    "\n",
    "lst.sort(reverse=True)\n",
    "\n",
    "print(lst)"
   ]
  },
  {
   "cell_type": "code",
   "execution_count": 9,
   "metadata": {},
   "outputs": [
    {
     "name": "stdout",
     "output_type": "stream",
     "text": [
      "['socks', '4K drone', 'wine', 'jam']\n"
     ]
    }
   ],
   "source": [
    "gift_list=['socks', '4K drone', 'wine', 'jam']\n",
    "\n",
    "# Type your answer here.\n",
    "lst.sort(reverse=True)\n",
    "\n",
    "print(gift_list)"
   ]
  },
  {
   "cell_type": "code",
   "execution_count": 10,
   "metadata": {},
   "outputs": [
    {
     "name": "stdout",
     "output_type": "stream",
     "text": [
      "Bears\n"
     ]
    }
   ],
   "source": [
    "NFL=[\"Panthers\", \"Bears\", \"Dolphins\" \"Patriots\", \"Saints\", \"Giants\"]\n",
    "\n",
    "# Type your code here.\n",
    "\n",
    "NFL.sort(reverse=True)\n",
    "answer_1= NFL[-1]\n",
    "\n",
    "print(answer_1)"
   ]
  },
  {
   "cell_type": "code",
   "execution_count": 11,
   "metadata": {},
   "outputs": [
    {
     "name": "stdout",
     "output_type": "stream",
     "text": [
      "['Shanghai', 'Moscow', 'Montreal', 'Melbourne', 'Delhi', 'Atlanta']\n"
     ]
    }
   ],
   "source": [
    "muni=[\"Melbourne\", \"Shanghai\", \"Delhi\", \"Atlanta\", \"Moscow\", \"Montreal\"]\n",
    "\n",
    "# Type your code here.\n",
    "muni.sort(reverse = True)\n",
    "\n",
    "print(muni)\n"
   ]
  },
  {
   "cell_type": "code",
   "execution_count": 12,
   "metadata": {},
   "outputs": [
    {
     "name": "stdout",
     "output_type": "stream",
     "text": [
      "['cheesecake', 'chocolate', 'pudding', 'tiramisu']\n"
     ]
    }
   ],
   "source": [
    "\n",
    "dict={\"tiramisu\":5, \"chocolate\":2, \"pudding\":3, \"cheesecake\":4}\n",
    "#  Type your code below.\n",
    "\n",
    "key_list= list(dict.keys())\n",
    "\n",
    "key_list.sort()\n",
    "\n",
    "print(key_list)"
   ]
  },
  {
   "attachments": {},
   "cell_type": "markdown",
   "metadata": {},
   "source": [
    "Exercise 12 - Pop Function"
   ]
  },
  {
   "cell_type": "code",
   "execution_count": 13,
   "metadata": {},
   "outputs": [
    {
     "name": "stdout",
     "output_type": "stream",
     "text": [
      "999\n",
      "[11, 100, 99, 1000]\n"
     ]
    }
   ],
   "source": [
    "lst=[11, 100, 99, 1000, 999]\n",
    "\n",
    "#Type your answer here.\n",
    "\n",
    "popped_item= lst.pop()\n",
    " \n",
    "print(popped_item)\n",
    "print(lst)"
   ]
  },
  {
   "cell_type": "code",
   "execution_count": 14,
   "metadata": {},
   "outputs": [
    {
     "name": "stdout",
     "output_type": "stream",
     "text": [
      "['milk', 'banana', 'eggs', 'bread', 'lemons'] broccoli\n"
     ]
    }
   ],
   "source": [
    "lst=[\"milk\", \"banana\", \"eggs\", \"bread\", \"broccoli\", \"lemons\"]\n",
    "\n",
    "#Type your code here.\n",
    "\n",
    "\n",
    "item= lst.pop(-2)\n",
    "\n",
    "\n",
    "print(lst, item)\n"
   ]
  },
  {
   "cell_type": "code",
   "execution_count": 15,
   "metadata": {},
   "outputs": [
    {
     "name": "stdout",
     "output_type": "stream",
     "text": [
      "{'US': 21, 'China': 16, 'Japan': 5, 'Germany': 4, 'India': 3, 'France': 3, 'UK': 3}\n",
      "2 trillion USD\n"
     ]
    }
   ],
   "source": [
    "GDP_2018={\"US\": 21, \"China\": 16, \"Japan\": 5, \"Germany\": 4, \"India\": 3, \"France\": 3, \"UK\": 3, \"Italy\": 2}\n",
    "\n",
    "#Type your answer here.\n",
    "\n",
    "italy_gdp= GDP_2018.pop(\"Italy\")\n",
    "\n",
    "\n",
    "print(GDP_2018)\n",
    "print(italy_gdp, \"trillion USD\")"
   ]
  },
  {
   "attachments": {},
   "cell_type": "markdown",
   "metadata": {},
   "source": [
    "Exercise 13 - Input Function"
   ]
  },
  {
   "cell_type": "code",
   "execution_count": 16,
   "metadata": {},
   "outputs": [
    {
     "name": "stdout",
     "output_type": "stream",
     "text": [
      "Hello!, Miguel\n"
     ]
    }
   ],
   "source": [
    "#Type your answer here.\n",
    "\n",
    "ans_1= input(\"What's your name\")\n",
    " \n",
    "print(\"Hello!, \" + ans_1)"
   ]
  },
  {
   "cell_type": "code",
   "execution_count": 19,
   "metadata": {},
   "outputs": [
    {
     "name": "stdout",
     "output_type": "stream",
     "text": [
      "<class 'str'>\n"
     ]
    }
   ],
   "source": [
    "#Type your code here.\n",
    "ans_1= input(\"Please enter your age\") #It will return the number as a string.\n",
    "\n",
    "\n",
    "print(type(ans_1))"
   ]
  },
  {
   "cell_type": "code",
   "execution_count": 21,
   "metadata": {},
   "outputs": [
    {
     "name": "stdout",
     "output_type": "stream",
     "text": [
      "2073\n"
     ]
    }
   ],
   "source": [
    "#Type your answer inside print function, all in one line.\n",
    "\n",
    "print(int(input(\"Enter the current year\"))+50)\n"
   ]
  },
  {
   "cell_type": "code",
   "execution_count": 24,
   "metadata": {},
   "outputs": [
    {
     "name": "stdout",
     "output_type": "stream",
     "text": [
      "1026.4767123287672\n"
     ]
    }
   ],
   "source": [
    "# Type your answer here.\n",
    "\n",
    "message= input(\"How many days would you like to convert to a year?\")\n",
    "\n",
    "result= int(message)/365\n",
    "\n",
    "\n",
    "print(result)"
   ]
  },
  {
   "cell_type": "code",
   "execution_count": 25,
   "metadata": {},
   "outputs": [
    {
     "name": "stdout",
     "output_type": "stream",
     "text": [
      "1.0\n"
     ]
    }
   ],
   "source": [
    "# Type your answer here.\n",
    "\n",
    "message= input(\"How many days would you like to convert to a year?\")\n",
    "\n",
    "result= float(message)/365\n",
    "\n",
    "\n",
    "print(result)"
   ]
  },
  {
   "cell_type": "code",
   "execution_count": 28,
   "metadata": {},
   "outputs": [
    {
     "name": "stdout",
     "output_type": "stream",
     "text": [
      "2.5744000000000002\n"
     ]
    }
   ],
   "source": [
    "# Type your answer here.\n",
    "\n",
    "message= input(\"How many miles would you like to convert to a kms?\")\n",
    "\n",
    "result= float(message)*1.609\n",
    "\n",
    "\n",
    "print(result)\n"
   ]
  },
  {
   "attachments": {},
   "cell_type": "markdown",
   "metadata": {},
   "source": [
    "Exercise 14 - Range Function"
   ]
  },
  {
   "cell_type": "code",
   "execution_count": 30,
   "metadata": {},
   "outputs": [
    {
     "name": "stdout",
     "output_type": "stream",
     "text": [
      "range(0, 50)\n"
     ]
    }
   ],
   "source": [
    "rng= range(50) # or range(0, 50)\n",
    "\n",
    "\n",
    "print(rng)"
   ]
  },
  {
   "cell_type": "code",
   "execution_count": 31,
   "metadata": {},
   "outputs": [
    {
     "name": "stdout",
     "output_type": "stream",
     "text": [
      "[0, 2, 4, 6, 8]\n"
     ]
    }
   ],
   "source": [
    "\n",
    "rng= range(0,10,2)\n",
    "\n",
    "\n",
    "print(list(rng))\n"
   ]
  },
  {
   "cell_type": "code",
   "execution_count": 35,
   "metadata": {},
   "outputs": [
    {
     "name": "stdout",
     "output_type": "stream",
     "text": [
      "[100, 110, 120, 130, 140, 150]\n"
     ]
    }
   ],
   "source": [
    "#Type your answer here.\n",
    "\n",
    "rng= range(100,160,10)\n",
    "\n",
    "\n",
    "print(list(rng))"
   ]
  },
  {
   "cell_type": "code",
   "execution_count": 45,
   "metadata": {},
   "outputs": [
    {
     "name": "stdout",
     "output_type": "stream",
     "text": [
      "[1300, 1200, 1100, 1000, 900, 800]\n"
     ]
    }
   ],
   "source": [
    "# Type your answer here.\n",
    "\n",
    "rng= range(1300,700,-100)\n",
    "\n",
    "print(list(rng))\n"
   ]
  },
  {
   "cell_type": "code",
   "execution_count": 46,
   "metadata": {},
   "outputs": [
    {
     "name": "stdout",
     "output_type": "stream",
     "text": [
      "[1300, 1200, 1100, 1000, 900, 800, 700]\n"
     ]
    }
   ],
   "source": [
    "rng= range(1300,699,-100)\n",
    "\n",
    "print(list(rng))"
   ]
  },
  {
   "attachments": {},
   "cell_type": "markdown",
   "metadata": {},
   "source": [
    "Exercise 15 - Error Handling"
   ]
  },
  {
   "cell_type": "code",
   "execution_count": 106,
   "metadata": {},
   "outputs": [
    {
     "ename": "NameError",
     "evalue": "name 'zzz' is not defined",
     "output_type": "error",
     "traceback": [
      "\u001b[0;31m---------------------------------------------------------------------------\u001b[0m",
      "\u001b[0;31mNameError\u001b[0m                                 Traceback (most recent call last)",
      "Cell \u001b[0;32mIn [106], line 3\u001b[0m\n\u001b[1;32m      1\u001b[0m \u001b[39m#Type somenthing to give a NameError\u001b[39;00m\n\u001b[0;32m----> 3\u001b[0m zzz\n",
      "\u001b[0;31mNameError\u001b[0m: name 'zzz' is not defined"
     ]
    }
   ],
   "source": [
    "#Type somenthing to give a NameError\n",
    "\n",
    "zzz"
   ]
  },
  {
   "cell_type": "code",
   "execution_count": 105,
   "metadata": {},
   "outputs": [
    {
     "ename": "SyntaxError",
     "evalue": "unexpected EOF while parsing (4164962690.py, line 3)",
     "output_type": "error",
     "traceback": [
      "\u001b[0;36m  Cell \u001b[0;32mIn [105], line 3\u001b[0;36m\u001b[0m\n\u001b[0;31m    list1\u001b[0m\n\u001b[0m         ^\u001b[0m\n\u001b[0;31mSyntaxError\u001b[0m\u001b[0;31m:\u001b[0m unexpected EOF while parsing\n"
     ]
    }
   ],
   "source": [
    "#Type somenthing to give a SintaxError\n",
    "list1=(0,\n",
    "list1"
   ]
  },
  {
   "cell_type": "code",
   "execution_count": 104,
   "metadata": {},
   "outputs": [
    {
     "ename": "TypeError",
     "evalue": "can only concatenate str (not \"int\") to str",
     "output_type": "error",
     "traceback": [
      "\u001b[0;31m---------------------------------------------------------------------------\u001b[0m",
      "\u001b[0;31mTypeError\u001b[0m                                 Traceback (most recent call last)",
      "Cell \u001b[0;32mIn [104], line 4\u001b[0m\n\u001b[1;32m      1\u001b[0m \u001b[39m#Type somenthing to give a TypeError\u001b[39;00m\n\u001b[1;32m      2\u001b[0m \u001b[39mstr\u001b[39m \u001b[39m=\u001b[39m \u001b[39m\"\u001b[39m\u001b[39mMiguel\u001b[39m\u001b[39m\"\u001b[39m\n\u001b[0;32m----> 4\u001b[0m \u001b[39mstr\u001b[39;49m \u001b[39m+\u001b[39;49m \u001b[39m1\u001b[39;49m\n",
      "\u001b[0;31mTypeError\u001b[0m: can only concatenate str (not \"int\") to str"
     ]
    }
   ],
   "source": [
    "#Type somenthing to give a TypeError\n",
    "str = \"Miguel\"\n",
    "\n",
    "str + 1"
   ]
  },
  {
   "cell_type": "code",
   "execution_count": 103,
   "metadata": {},
   "outputs": [
    {
     "ename": "IndexError",
     "evalue": "list index out of range",
     "output_type": "error",
     "traceback": [
      "\u001b[0;31m---------------------------------------------------------------------------\u001b[0m",
      "\u001b[0;31mIndexError\u001b[0m                                Traceback (most recent call last)",
      "Cell \u001b[0;32mIn [103], line 4\u001b[0m\n\u001b[1;32m      1\u001b[0m \u001b[39m#Type somenthing to give a IndexError\u001b[39;00m\n\u001b[1;32m      2\u001b[0m numbers \u001b[39m=\u001b[39m [\u001b[39m1\u001b[39m,\u001b[39m2\u001b[39m,\u001b[39m3\u001b[39m,\u001b[39m4\u001b[39m,\u001b[39m5\u001b[39m]\n\u001b[0;32m----> 4\u001b[0m numbers[\u001b[39m6\u001b[39;49m]\n",
      "\u001b[0;31mIndexError\u001b[0m: list index out of range"
     ]
    }
   ],
   "source": [
    "#Type somenthing to give a IndexError\n",
    "numbers = [1,2,3,4,5]\n",
    "\n",
    "numbers[6]"
   ]
  },
  {
   "cell_type": "code",
   "execution_count": 98,
   "metadata": {},
   "outputs": [
    {
     "ename": "KeyError",
     "evalue": "'weight'",
     "output_type": "error",
     "traceback": [
      "\u001b[0;31m---------------------------------------------------------------------------\u001b[0m",
      "\u001b[0;31mKeyError\u001b[0m                                  Traceback (most recent call last)",
      "Cell \u001b[0;32mIn [98], line 4\u001b[0m\n\u001b[1;32m      1\u001b[0m \u001b[39m#Type somenthing to give a KeyError\u001b[39;00m\n\u001b[1;32m      2\u001b[0m \u001b[39mdict\u001b[39m \u001b[39m=\u001b[39m {\u001b[39m\"\u001b[39m\u001b[39mname\u001b[39m\u001b[39m\"\u001b[39m: \u001b[39m\"\u001b[39m\u001b[39mMiguel\u001b[39m\u001b[39m\"\u001b[39m, \u001b[39m\"\u001b[39m\u001b[39mage\u001b[39m\u001b[39m\"\u001b[39m: \u001b[39m22\u001b[39m}\n\u001b[0;32m----> 4\u001b[0m \u001b[39mprint\u001b[39m(\u001b[39mdict\u001b[39;49m[\u001b[39m\"\u001b[39;49m\u001b[39mweight\u001b[39;49m\u001b[39m\"\u001b[39;49m])\n",
      "\u001b[0;31mKeyError\u001b[0m: 'weight'"
     ]
    }
   ],
   "source": [
    "#Type somenthing to give a KeyError\n",
    "dict = {\"name\": \"Miguel\", \"age\": 22}\n",
    "\n",
    "dict[\"weight\"]"
   ]
  },
  {
   "cell_type": "code",
   "execution_count": 102,
   "metadata": {},
   "outputs": [
    {
     "ename": "AttributeError",
     "evalue": "'str' object has no attribute 'append'",
     "output_type": "error",
     "traceback": [
      "\u001b[0;31m---------------------------------------------------------------------------\u001b[0m",
      "\u001b[0;31mAttributeError\u001b[0m                            Traceback (most recent call last)",
      "Cell \u001b[0;32mIn [102], line 4\u001b[0m\n\u001b[1;32m      1\u001b[0m \u001b[39m#Type somenthing to give a AttributeError\u001b[39;00m\n\u001b[1;32m      2\u001b[0m \u001b[39mstr\u001b[39m \u001b[39m=\u001b[39m \u001b[39m\"\u001b[39m\u001b[39mAfonso\u001b[39m\u001b[39m\"\u001b[39m\n\u001b[0;32m----> 4\u001b[0m \u001b[39mprint\u001b[39m(\u001b[39mstr\u001b[39;49m\u001b[39m.\u001b[39;49mappend(\u001b[39m\"\u001b[39m\u001b[39mRuben\u001b[39m\u001b[39m\"\u001b[39m))\n",
      "\u001b[0;31mAttributeError\u001b[0m: 'str' object has no attribute 'append'"
     ]
    }
   ],
   "source": [
    "#Type somenthing to give a AttributeError\n",
    "str = \"Afonso\"\n",
    "\n",
    "str.append(\"Ruben\")\n"
   ]
  },
  {
   "cell_type": "code",
   "execution_count": 109,
   "metadata": {},
   "outputs": [
    {
     "ename": "ValueError",
     "evalue": "invalid literal for int() with base 10: 'Miguel'",
     "output_type": "error",
     "traceback": [
      "\u001b[0;31m---------------------------------------------------------------------------\u001b[0m",
      "\u001b[0;31mValueError\u001b[0m                                Traceback (most recent call last)",
      "Cell \u001b[0;32mIn [109], line 5\u001b[0m\n\u001b[1;32m      1\u001b[0m \u001b[39m#Type somenthing to give a ValueError\u001b[39;00m\n\u001b[1;32m      3\u001b[0m \u001b[39mstr\u001b[39m \u001b[39m=\u001b[39m \u001b[39m\"\u001b[39m\u001b[39mMiguel\u001b[39m\u001b[39m\"\u001b[39m\n\u001b[0;32m----> 5\u001b[0m \u001b[39mint\u001b[39;49m(\u001b[39mstr\u001b[39;49m)\n",
      "\u001b[0;31mValueError\u001b[0m: invalid literal for int() with base 10: 'Miguel'"
     ]
    }
   ],
   "source": [
    "#Type somenthing to give a ValueError\n",
    "\n",
    "str = \"Miguel\"\n",
    "\n",
    "int(str)\n"
   ]
  },
  {
   "attachments": {},
   "cell_type": "markdown",
   "metadata": {},
   "source": [
    "Exercise 16 - Defining Functions"
   ]
  },
  {
   "cell_type": "code",
   "execution_count": 3,
   "metadata": {},
   "outputs": [
    {
     "name": "stdout",
     "output_type": "stream",
     "text": [
      "Hello World!\n"
     ]
    }
   ],
   "source": [
    "#Type your answer here.\n",
    "def f_1():\n",
    "    print(\"Hello World!\")\n",
    "f_1()"
   ]
  },
  {
   "cell_type": "code",
   "execution_count": 6,
   "metadata": {},
   "outputs": [
    {
     "name": "stdout",
     "output_type": "stream",
     "text": [
      "Hello World!\n",
      "None\n"
     ]
    }
   ],
   "source": [
    "#Type your code here.\n",
    "def f_1():\n",
    "    print(\"Hello World!\")\n",
    "    \n",
    "ans_1 = f_1()\n",
    "print(ans_1)"
   ]
  },
  {
   "cell_type": "code",
   "execution_count": 7,
   "metadata": {},
   "outputs": [
    {
     "name": "stdout",
     "output_type": "stream",
     "text": [
      "Hello World!\n"
     ]
    }
   ],
   "source": [
    "def f_1():\n",
    "    return \"Hello World!\"\n",
    "ans_1=f_1()\n",
    "print(ans_1)"
   ]
  },
  {
   "cell_type": "code",
   "execution_count": 8,
   "metadata": {},
   "outputs": [
    {
     "name": "stdout",
     "output_type": "stream",
     "text": [
      "Hello World!\n",
      "Hello World!\n"
     ]
    }
   ],
   "source": [
    "def f_1():\n",
    "    print(\"Hello World!\")\n",
    "    return \"Hello World!\"\n",
    "ans_1=f_1()\n",
    "print(ans_1)"
   ]
  },
  {
   "cell_type": "code",
   "execution_count": 10,
   "metadata": {},
   "outputs": [
    {
     "name": "stdout",
     "output_type": "stream",
     "text": [
      "100\n"
     ]
    }
   ],
   "source": [
    "# Type your answer here.\n",
    "def f_1(number):\n",
    "    return 100\n",
    "\n",
    "print(f_1(999))"
   ]
  },
  {
   "cell_type": "code",
   "execution_count": 12,
   "metadata": {},
   "outputs": [
    {
     "name": "stdout",
     "output_type": "stream",
     "text": [
      "44\n"
     ]
    }
   ],
   "source": [
    "# Type your answer here.\n",
    "def f_1(number):\n",
    "    return number\n",
    "print(f_1(44))"
   ]
  },
  {
   "cell_type": "code",
   "execution_count": 33,
   "metadata": {},
   "outputs": [
    {
     "name": "stdout",
     "output_type": "stream",
     "text": [
      "[100, 200, 300, 400, 500]\n",
      "[500, 400, 300, 200, 100]\n"
     ]
    }
   ],
   "source": [
    "# Type your answer here.\n",
    "lst_1=[100,200,300,400,500]\n",
    "print(lst_1)\n",
    "def f_1(lst):\n",
    "    return lst.reverse()\n",
    "\n",
    "f_1(lst_1)\n",
    "print(lst_1)"
   ]
  },
  {
   "cell_type": "code",
   "execution_count": 44,
   "metadata": {},
   "outputs": [
    {
     "name": "stdout",
     "output_type": "stream",
     "text": [
      "Hello!, Miguel\n"
     ]
    }
   ],
   "source": [
    "# Type your answer here.\n",
    "def f_1():\n",
    "    name = input(\"What's your name?\")\n",
    "    print(\"Hello!,\",name)\n",
    "\n",
    "f_1()\n"
   ]
  },
  {
   "cell_type": "code",
   "execution_count": 50,
   "metadata": {},
   "outputs": [
    {
     "name": "stdout",
     "output_type": "stream",
     "text": [
      "18\n"
     ]
    }
   ],
   "source": [
    "# Type your answer here.\n",
    "def f_1(number_1):\n",
    "    return number_1+5\n",
    "\n",
    "def f_2(number_2):\n",
    "    return  f_1(number_2)*2\n",
    "print(f_2(4))\n"
   ]
  },
  {
   "attachments": {},
   "cell_type": "markdown",
   "metadata": {},
   "source": [
    "Exercise 17 - Slicing Notation"
   ]
  },
  {
   "cell_type": "code",
   "execution_count": 47,
   "metadata": {},
   "outputs": [
    {
     "name": "stdout",
     "output_type": "stream",
     "text": [
      "Tosc\n"
     ]
    }
   ],
   "source": [
    "wrd=\"Toscana\"\n",
    "#Type your answer here.\n",
    "\n",
    "ans_1= wrd[0:4]\n",
    "\n",
    "print(ans_1)\n"
   ]
  },
  {
   "cell_type": "code",
   "execution_count": 55,
   "metadata": {},
   "outputs": [
    {
     "name": "stdout",
     "output_type": "stream",
     "text": [
      "cana\n"
     ]
    }
   ],
   "source": [
    "wrd=\"Toscana\"\n",
    "#Type your answer here.\n",
    "\n",
    "ans_1= wrd[3:] # we could also use wrd[-4:]\n",
    "\n",
    "print(ans_1)"
   ]
  },
  {
   "cell_type": "code",
   "execution_count": 58,
   "metadata": {},
   "outputs": [
    {
     "name": "stdout",
     "output_type": "stream",
     "text": [
      "can\n"
     ]
    }
   ],
   "source": [
    "wrd=\"Toscana\"\n",
    "#Type your answer here.\n",
    "\n",
    "ans_1=wrd[3:-1] #we could also write wrd[-4:-1]\n",
    "\n",
    "print(ans_1)"
   ]
  },
  {
   "cell_type": "code",
   "execution_count": 63,
   "metadata": {},
   "outputs": [
    {
     "name": "stdout",
     "output_type": "stream",
     "text": [
      "Tsaa\n"
     ]
    }
   ],
   "source": [
    "wrd=\"Toscana\"\n",
    "# Type your answer here.\n",
    "\n",
    "ans_1= wrd[::2] #we could also write wrd[0::2] or wrd[0:7:2]\n",
    "\n",
    "print (ans_1)"
   ]
  },
  {
   "cell_type": "code",
   "execution_count": 64,
   "metadata": {},
   "outputs": [
    {
     "name": "stdout",
     "output_type": "stream",
     "text": [
      "ocn\n"
     ]
    }
   ],
   "source": [
    "wrd=\"Toscana\"\n",
    "# Type your answer here.\n",
    "\n",
    "ans_1= wrd[1:-1:2]\n",
    "\n",
    "print(ans_1)"
   ]
  },
  {
   "cell_type": "code",
   "execution_count": 68,
   "metadata": {},
   "outputs": [
    {
     "name": "stdout",
     "output_type": "stream",
     "text": [
      "[4, 3, 2, 1, 0]\n"
     ]
    }
   ],
   "source": [
    "lst=[0,1,2,3,4]\n",
    "# Type your answer here.\n",
    "\n",
    "ans_1 = lst[::-1]\n",
    "\n",
    "print(ans_1)\n"
   ]
  },
  {
   "cell_type": "code",
   "execution_count": 79,
   "metadata": {},
   "outputs": [
    {
     "name": "stdout",
     "output_type": "stream",
     "text": [
      "[3, 4]\n"
     ]
    }
   ],
   "source": [
    "lst=[0,1,2,3,4]\n",
    "# Type your answer here.\n",
    "\n",
    "ans_1=lst[-2:] #we could also use lst[3:]\n",
    "\n",
    "print(ans_1)"
   ]
  },
  {
   "cell_type": "code",
   "execution_count": 80,
   "metadata": {},
   "outputs": [
    {
     "name": "stdout",
     "output_type": "stream",
     "text": [
      "[50, 20]\n"
     ]
    }
   ],
   "source": [
    "lst=[40,50,20,30,90]\n",
    "# Type your answer here.\n",
    "\n",
    "ans_1= lst[1:3]\n",
    "\n",
    "print(ans_1)"
   ]
  },
  {
   "attachments": {},
   "cell_type": "markdown",
   "metadata": {},
   "source": [
    "Exercise 18 - Python Operators "
   ]
  },
  {
   "cell_type": "code",
   "execution_count": 81,
   "metadata": {},
   "outputs": [
    {
     "name": "stdout",
     "output_type": "stream",
     "text": [
      "['yellow', 'white', 'blue']\n"
     ]
    }
   ],
   "source": [
    "#Type your answer below\n",
    "\n",
    "lst= [\"yellow\",\"white\",\"blue\"]\n",
    "\n",
    "print(lst)"
   ]
  },
  {
   "cell_type": "code",
   "execution_count": 82,
   "metadata": {},
   "outputs": [
    {
     "name": "stdout",
     "output_type": "stream",
     "text": [
      "3.3333333333333335\n"
     ]
    }
   ],
   "source": [
    "a=10\n",
    "b=3\n",
    "#Type your answer below\n",
    "\n",
    "result= a/b\n",
    "\n",
    "print(result)"
   ]
  },
  {
   "cell_type": "code",
   "execution_count": 83,
   "metadata": {},
   "outputs": [
    {
     "name": "stdout",
     "output_type": "stream",
     "text": [
      "850\n"
     ]
    }
   ],
   "source": [
    "vertical_speed=750\n",
    "\n",
    "#Type your answer below\n",
    "vertical_speed+=100\n",
    "\n",
    "print(vertical_speed)"
   ]
  },
  {
   "cell_type": "code",
   "execution_count": 85,
   "metadata": {},
   "outputs": [
    {
     "name": "stdout",
     "output_type": "stream",
     "text": [
      "200\n"
     ]
    }
   ],
   "source": [
    "#Type your code here\n",
    "\n",
    "remainder= 1000 % 400 # % gives the remainder of the division \n",
    "\n",
    "print(remainder)"
   ]
  },
  {
   "cell_type": "code",
   "execution_count": 87,
   "metadata": {},
   "outputs": [
    {
     "name": "stdout",
     "output_type": "stream",
     "text": [
      "123454321\n"
     ]
    }
   ],
   "source": [
    "#Type your code here\n",
    "\n",
    "p_result= 11111**2 # ** is the power operator\n",
    "\n",
    "print(p_result)"
   ]
  },
  {
   "cell_type": "code",
   "execution_count": 88,
   "metadata": {},
   "outputs": [
    {
     "name": "stdout",
     "output_type": "stream",
     "text": [
      "No\n"
     ]
    }
   ],
   "source": [
    "lst=[\"Mango\", \"Kiwi\", \"Melon\", \"Cherry\"]\n",
    "answer_1=\"\"\n",
    "\n",
    "#Type your code here\n",
    "if lst[0] == \"Strawberry\":\n",
    "    answer_1 = \"Yes\"\n",
    "else:\n",
    "    answer_1 = \"No\"\n",
    "\n",
    "print(answer_1)"
   ]
  }
 ],
 "metadata": {
  "kernelspec": {
   "display_name": "Python 3",
   "language": "python",
   "name": "python3"
  },
  "language_info": {
   "codemirror_mode": {
    "name": "ipython",
    "version": 3
   },
   "file_extension": ".py",
   "mimetype": "text/x-python",
   "name": "python",
   "nbconvert_exporter": "python",
   "pygments_lexer": "ipython3",
   "version": "3.9.6"
  },
  "orig_nbformat": 4,
  "vscode": {
   "interpreter": {
    "hash": "31f2aee4e71d21fbe5cf8b01ff0e069b9275f58929596ceb00d14d90e3e16cd6"
   }
  }
 },
 "nbformat": 4,
 "nbformat_minor": 2
}
