{
 "cells": [
  {
   "attachments": {},
   "cell_type": "markdown",
   "metadata": {},
   "source": [
    "Exercise 1 - Print Function"
   ]
  },
  {
   "cell_type": "code",
   "execution_count": 1,
   "metadata": {},
   "outputs": [
    {
     "name": "stdout",
     "output_type": "stream",
     "text": [
      "Hello World\n"
     ]
    }
   ],
   "source": [
    "print(\"Hello World\")"
   ]
  },
  {
   "cell_type": "code",
   "execution_count": 2,
   "metadata": {},
   "outputs": [
    {
     "name": "stdout",
     "output_type": "stream",
     "text": [
      "Hello World\n"
     ]
    }
   ],
   "source": [
    "my_text = \"Hello World\"\n",
    "print(my_text)"
   ]
  },
  {
   "cell_type": "code",
   "execution_count": 3,
   "metadata": {},
   "outputs": [
    {
     "name": "stdout",
     "output_type": "stream",
     "text": [
      "Apple Grape Pineapple\n"
     ]
    }
   ],
   "source": [
    "print(\"Apple\", \"Grape\", \"Pineapple\")"
   ]
  },
  {
   "attachments": {},
   "cell_type": "markdown",
   "metadata": {},
   "source": [
    "Exercise 2 - Variables"
   ]
  },
  {
   "cell_type": "code",
   "execution_count": 4,
   "metadata": {},
   "outputs": [
    {
     "name": "stdout",
     "output_type": "stream",
     "text": [
      "I drank 3 glasses of water today.\n"
     ]
    }
   ],
   "source": [
    "glass_of_water = 3\n",
    "\n",
    "print(\"I drank\", glass_of_water, \"glasses of water today.\")"
   ]
  },
  {
   "cell_type": "code",
   "execution_count": 5,
   "metadata": {},
   "outputs": [
    {
     "name": "stdout",
     "output_type": "stream",
     "text": [
      "4\n"
     ]
    }
   ],
   "source": [
    "glass_of_water = glass_of_water + 1\n",
    "\n",
    "print(glass_of_water)"
   ]
  },
  {
   "attachments": {},
   "cell_type": "markdown",
   "metadata": {},
   "source": [
    "Exercise 3 - Data Type "
   ]
  },
  {
   "cell_type": "code",
   "execution_count": 6,
   "metadata": {},
   "outputs": [
    {
     "name": "stdout",
     "output_type": "stream",
     "text": [
      "3\n"
     ]
    }
   ],
   "source": [
    "men_stepped_on_the_moon = 3\n",
    "\n",
    "print(men_stepped_on_the_moon)"
   ]
  },
  {
   "cell_type": "code",
   "execution_count": 7,
   "metadata": {},
   "outputs": [
    {
     "name": "stdout",
     "output_type": "stream",
     "text": [
      "Beacause I am interested in Python\n"
     ]
    }
   ],
   "source": [
    "my_reason_for_coding = \"Beacause I am interested in Python\"\n",
    "\n",
    "print(my_reason_for_coding)"
   ]
  },
  {
   "cell_type": "code",
   "execution_count": 8,
   "metadata": {},
   "outputs": [
    {
     "name": "stdout",
     "output_type": "stream",
     "text": [
      "21.36\n"
     ]
    }
   ],
   "source": [
    "global_mean_sea_level_2018 = 21.36\n",
    "\n",
    "print(global_mean_sea_level_2018)"
   ]
  },
  {
   "cell_type": "code",
   "execution_count": 9,
   "metadata": {},
   "outputs": [
    {
     "data": {
      "text/plain": [
       "True"
      ]
     },
     "execution_count": 9,
     "metadata": {},
     "output_type": "execute_result"
    }
   ],
   "source": [
    "staying_alive = True\n",
    "\n",
    "staying_alive"
   ]
  },
  {
   "attachments": {},
   "cell_type": "markdown",
   "metadata": {},
   "source": [
    "Exercise 4 - Type Conversion"
   ]
  },
  {
   "cell_type": "code",
   "execution_count": 11,
   "metadata": {},
   "outputs": [
    {
     "name": "stdout",
     "output_type": "stream",
     "text": [
      "<class 'int'>\n"
     ]
    }
   ],
   "source": [
    "answer_1 = type(men_stepped_on_the_moon)\n",
    "print(answer_1)"
   ]
  },
  {
   "cell_type": "code",
   "execution_count": 12,
   "metadata": {},
   "outputs": [
    {
     "name": "stdout",
     "output_type": "stream",
     "text": [
      "<class 'str'>\n"
     ]
    }
   ],
   "source": [
    "answer_2 = type(my_reason_for_coding)\n",
    "print (answer_2)"
   ]
  },
  {
   "cell_type": "code",
   "execution_count": 13,
   "metadata": {},
   "outputs": [
    {
     "name": "stdout",
     "output_type": "stream",
     "text": [
      "<class 'float'>\n"
     ]
    }
   ],
   "source": [
    "answer_3 = type(global_mean_sea_level_2018)\n",
    "print(answer_3)"
   ]
  },
  {
   "cell_type": "code",
   "execution_count": 14,
   "metadata": {},
   "outputs": [
    {
     "name": "stdout",
     "output_type": "stream",
     "text": [
      "<class 'bool'>\n"
     ]
    }
   ],
   "source": [
    "answer_4 = type(staying_alive)\n",
    "print(answer_4)"
   ]
  },
  {
   "cell_type": "code",
   "execution_count": 15,
   "metadata": {},
   "outputs": [
    {
     "name": "stdout",
     "output_type": "stream",
     "text": [
      "10\n"
     ]
    }
   ],
   "source": [
    "\n",
    "my_grade = \"10\"\n",
    "answer_5 = int(my_grade)\n",
    "print(answer_5)"
   ]
  },
  {
   "cell_type": "code",
   "execution_count": 16,
   "metadata": {},
   "outputs": [
    {
     "name": "stdout",
     "output_type": "stream",
     "text": [
      "97\n"
     ]
    }
   ],
   "source": [
    "my_temp = 97.70\n",
    "answer_6 = int(my_temp)\n",
    "print(answer_6)"
   ]
  },
  {
   "cell_type": "code",
   "execution_count": 17,
   "metadata": {},
   "outputs": [
    {
     "name": "stdout",
     "output_type": "stream",
     "text": [
      "69.99\n"
     ]
    }
   ],
   "source": [
    "shoe_price = \"69.99\"\n",
    "answer_7 = float(shoe_price)\n",
    "print(answer_7)"
   ]
  },
  {
   "cell_type": "code",
   "execution_count": 18,
   "metadata": {},
   "outputs": [
    {
     "name": "stdout",
     "output_type": "stream",
     "text": [
      "In 2018 gross product of the world (GWP) was 84.84 in trillion US dollars.\n"
     ]
    }
   ],
   "source": [
    "gross_world_product = 84.84\n",
    "\n",
    "gwp_str = str(gross_world_product)\n",
    "\n",
    "answer_8=\"In 2018 gross product of the world (GWP) was \" + gwp_str + \" in trillion US dollars.\"\n",
    "print(answer_8)"
   ]
  },
  {
   "attachments": {},
   "cell_type": "markdown",
   "metadata": {},
   "source": [
    "Exercise 5 - Data Structures"
   ]
  },
  {
   "cell_type": "code",
   "execution_count": 19,
   "metadata": {},
   "outputs": [
    {
     "name": "stdout",
     "output_type": "stream",
     "text": [
      "<class 'list'>\n"
     ]
    }
   ],
   "source": [
    "gift_list = []\n",
    "answer_1 = type(gift_list)\n",
    "print(answer_1)"
   ]
  },
  {
   "cell_type": "code",
   "execution_count": 20,
   "metadata": {},
   "outputs": [
    {
     "name": "stdout",
     "output_type": "stream",
     "text": [
      "<class 'dict'>\n"
     ]
    }
   ],
   "source": [
    "grocery_items = {}\n",
    "answer_2 = type(grocery_items)\n",
    "print(answer_2)"
   ]
  },
  {
   "cell_type": "code",
   "execution_count": 21,
   "metadata": {},
   "outputs": [
    {
     "name": "stdout",
     "output_type": "stream",
     "text": [
      "<class 'tuple'>\n"
     ]
    }
   ],
   "source": [
    "bucket_list = ()\n",
    "answer_2 = type(bucket_list)\n",
    "print(answer_2)"
   ]
  },
  {
   "cell_type": "code",
   "execution_count": 22,
   "metadata": {},
   "outputs": [
    {
     "name": "stdout",
     "output_type": "stream",
     "text": [
      "['toys', 'tshirt', 'pants']\n"
     ]
    }
   ],
   "source": [
    "gift_list = [\"toys\", \"tshirt\", \"pants\"]\n",
    "print(gift_list)"
   ]
  },
  {
   "cell_type": "code",
   "execution_count": 23,
   "metadata": {},
   "outputs": [
    {
     "name": "stdout",
     "output_type": "stream",
     "text": [
      "{'apple': 3, 'pineapple': 1, 'banana': 5}\n"
     ]
    }
   ],
   "source": [
    "grocery_list = {\"apple\": 3, \"pineapple\": 1, \"banana\": 5}\n",
    "print(grocery_list)"
   ]
  },
  {
   "cell_type": "code",
   "execution_count": 25,
   "metadata": {},
   "outputs": [
    {
     "name": "stdout",
     "output_type": "stream",
     "text": [
      "('meeting', 'gym', 'groceries')\n"
     ]
    }
   ],
   "source": [
    "bucket_list = (\"meeting\", \"gym\", \"groceries\")\n",
    "print(bucket_list)"
   ]
  },
  {
   "cell_type": "markdown",
   "metadata": {},
   "source": [
    "Exercise 6 - Lists "
   ]
  },
  {
   "cell_type": "code",
   "execution_count": 27,
   "metadata": {},
   "outputs": [
    {
     "name": "stdout",
     "output_type": "stream",
     "text": [
      "11\n"
     ]
    }
   ],
   "source": [
    "lst=[11, 100, 99, 1000, 999]\n",
    "answer_1= lst[0]\n",
    "\n",
    "print(answer_1)"
   ]
  },
  {
   "cell_type": "code",
   "execution_count": 30,
   "metadata": {},
   "outputs": [
    {
     "name": "stdout",
     "output_type": "stream",
     "text": [
      "1001\n"
     ]
    }
   ],
   "source": [
    "lst=[11, 100, 101, 999, 1001]\n",
    "\n",
    "print(lst[1])"
   ]
  },
  {
   "cell_type": "code",
   "execution_count": 33,
   "metadata": {},
   "outputs": [
    {
     "name": "stdout",
     "output_type": "stream",
     "text": [
      "1001\n"
     ]
    }
   ],
   "source": [
    "answer_1=lst[4] #we could also use lst[-1]\n",
    "\n",
    "print(answer_1)"
   ]
  },
  {
   "cell_type": "code",
   "execution_count": 34,
   "metadata": {},
   "outputs": [
    {
     "name": "stdout",
     "output_type": "stream",
     "text": [
      "['toys', 'tshirt', 'pants', 'pajamas']\n"
     ]
    }
   ],
   "source": [
    "gift_list=['socks', '4K drone', 'wine', 'jam']\n",
    "\n",
    "gift_list.append(\"pajamas\")\n",
    "print(gift_list)"
   ]
  },
  {
   "cell_type": "code",
   "execution_count": 35,
   "metadata": {},
   "outputs": [
    {
     "name": "stdout",
     "output_type": "stream",
     "text": [
      "['socks', '4K drone', 'wine', 'jam', ['socks', 'thsirt', 'pajamas']]\n"
     ]
    }
   ],
   "source": [
    "gift_list=['socks', '4K drone', 'wine', 'jam']\n",
    "\n",
    "gift_list.append([\"socks\",\"thsirt\",\"pajamas\"])\n",
    "print(gift_list)"
   ]
  },
  {
   "cell_type": "code",
   "execution_count": 36,
   "metadata": {},
   "outputs": [
    {
     "name": "stdout",
     "output_type": "stream",
     "text": [
      "['socks', '4K drone', 'slippers', 'wine', 'jam']\n"
     ]
    }
   ],
   "source": [
    "gift_list=['socks', '4K drone', 'wine', 'jam']\n",
    "\n",
    "gift_list.insert(2,\"slippers\")\n",
    "print(gift_list)"
   ]
  },
  {
   "cell_type": "code",
   "execution_count": 37,
   "metadata": {},
   "outputs": [
    {
     "name": "stdout",
     "output_type": "stream",
     "text": [
      "8\n"
     ]
    }
   ],
   "source": [
    "\n",
    "lst=[55, 777, 54, 6, 76, 101, 1, 2, 8679, 123, 99]\n",
    "\n",
    "answer_1 = lst.index(8679)\n",
    "print(answer_1)"
   ]
  },
  {
   "cell_type": "code",
   "execution_count": 38,
   "metadata": {},
   "outputs": [
    {
     "name": "stdout",
     "output_type": "stream",
     "text": [
      "['CRV', 'Outback', 'XC90', 'GL', 'Cherokee', 'Escalade', ['Navigator', 'Suburban']]\n"
     ]
    }
   ],
   "source": [
    "lst=[\"CRV\", \"Outback\", \"XC90\", \"GL\", \"Cherokee\", \"Escalade\"]\n",
    "\n",
    "lst.append([\"Navigator\", \"Suburban\"])\n",
    "print(lst)"
   ]
  },
  {
   "cell_type": "code",
   "execution_count": 40,
   "metadata": {},
   "outputs": [
    {
     "name": "stdout",
     "output_type": "stream",
     "text": [
      "[55, 777, 54, 6, 76, 1, 2, 8679, 123, 99]\n"
     ]
    }
   ],
   "source": [
    "lst=[55, 777, 54, 6, 76, 101, 1, 2, 8679, 123, 99]\n",
    "\n",
    "lst.remove(101)\n",
    "print(lst)"
   ]
  },
  {
   "cell_type": "code",
   "execution_count": 41,
   "metadata": {},
   "outputs": [
    {
     "name": "stdout",
     "output_type": "stream",
     "text": [
      "[99, 123, 8679, 2, 1, 101, 76, 6, 54, 777, 55]\n"
     ]
    }
   ],
   "source": [
    "lst=[55, 777, 54, 6, 76, 101, 1, 2, 8679, 123, 99]\n",
    "\n",
    "lst.reverse()\n",
    "print(lst)"
   ]
  },
  {
   "cell_type": "code",
   "execution_count": 45,
   "metadata": {},
   "outputs": [
    {
     "name": "stdout",
     "output_type": "stream",
     "text": [
      "4\n"
     ]
    }
   ],
   "source": [
    "lst=[55, 6, 777, 54, 6, 76, 101, 1, 6, 2, 6]\n",
    "\n",
    "answer_1 = lst.count(6)\n",
    "print(answer_1)"
   ]
  },
  {
   "cell_type": "code",
   "execution_count": 46,
   "metadata": {},
   "outputs": [
    {
     "name": "stdout",
     "output_type": "stream",
     "text": [
      "1090\n"
     ]
    }
   ],
   "source": [
    "lst=[55, 6, 777, 54, 6, 76, 101, 1, 6, 2, 6]\n",
    "\n",
    "answer_1 = sum(lst)\n",
    "print(answer_1)"
   ]
  },
  {
   "cell_type": "code",
   "execution_count": 47,
   "metadata": {},
   "outputs": [
    {
     "name": "stdout",
     "output_type": "stream",
     "text": [
      "1\n"
     ]
    }
   ],
   "source": [
    "lst=[55, 6, 777, 54, 6, 76, 101, 1, 6, 2, 6]\n",
    "\n",
    "answer_1 = min(lst)\n",
    "print(answer_1)"
   ]
  },
  {
   "cell_type": "code",
   "execution_count": 48,
   "metadata": {},
   "outputs": [
    {
     "name": "stdout",
     "output_type": "stream",
     "text": [
      "777\n"
     ]
    }
   ],
   "source": [
    "lst=[55, 6, 777, 54, 6, 76, 101, 1, 6, 2, 6]\n",
    "\n",
    "answer_1 = max(lst)\n",
    "print(answer_1)"
   ]
  },
  {
   "attachments": {},
   "cell_type": "markdown",
   "metadata": {},
   "source": [
    "Exercise 7 - Tuple"
   ]
  },
  {
   "cell_type": "code",
   "execution_count": 49,
   "metadata": {},
   "outputs": [
    {
     "name": "stdout",
     "output_type": "stream",
     "text": [
      "11\n"
     ]
    }
   ],
   "source": [
    "tt=(11, 100, 99, 1000, 999)\n",
    "\n",
    "answer_1 = tt[0]\n",
    "\n",
    "print(answer_1)\n"
   ]
  },
  {
   "cell_type": "code",
   "execution_count": 52,
   "metadata": {},
   "outputs": [
    {
     "name": "stdout",
     "output_type": "stream",
     "text": [
      "101\n"
     ]
    }
   ],
   "source": [
    "tt=(11, 100, 101, 999, 1001)\n",
    "\n",
    "#Type your answer here.\n",
    "\n",
    "answer_1 = tt[2]\n",
    "\n",
    "print(answer_1)"
   ]
  },
  {
   "cell_type": "code",
   "execution_count": 53,
   "metadata": {},
   "outputs": [
    {
     "name": "stdout",
     "output_type": "stream",
     "text": [
      "999\n"
     ]
    }
   ],
   "source": [
    "lst=(11, 100, 101, 999, 1001)\n",
    "\n",
    "#Type your answer here.\n",
    "\n",
    "answer_1 = lst[-2]\n",
    "\n",
    "print(answer_1)"
   ]
  },
  {
   "cell_type": "code",
   "execution_count": 54,
   "metadata": {},
   "outputs": [
    {
     "name": "stdout",
     "output_type": "stream",
     "text": [
      "7\n"
     ]
    }
   ],
   "source": [
    "\n",
    "tt=(55, 777, 54, 6, 76, 101, 1, 2, 8679, 123, 99)\n",
    "#  Type your code here.\n",
    "\n",
    "answer_1 = tt.index(2)\n",
    "\n",
    "print(answer_1)"
   ]
  },
  {
   "cell_type": "code",
   "execution_count": 55,
   "metadata": {},
   "outputs": [
    {
     "name": "stdout",
     "output_type": "stream",
     "text": [
      "2\n"
     ]
    }
   ],
   "source": [
    "tt=(55, 6, 777, 54, 6, 76, 7777, 1, 777, 2, 6)\n",
    "\n",
    "#  Type your code here.\n",
    "\n",
    "answer_1 = tt.count(777)\n",
    "\n",
    "print(answer_1)"
   ]
  },
  {
   "cell_type": "code",
   "execution_count": 56,
   "metadata": {},
   "outputs": [
    {
     "name": "stdout",
     "output_type": "stream",
     "text": [
      "1306\n"
     ]
    }
   ],
   "source": [
    "tt=(42, 1092, 11, 88, 65, 2, 6)\n",
    "\n",
    "#  Type your code on line 4:\n",
    "\n",
    "ans_1= sum(tt)\n",
    "\n",
    "\n",
    "print(ans_1)\n"
   ]
  },
  {
   "cell_type": "code",
   "execution_count": 57,
   "metadata": {},
   "outputs": [
    {
     "name": "stdout",
     "output_type": "stream",
     "text": [
      "9\n"
     ]
    }
   ],
   "source": [
    "tt=(66, 555, 11, 101, 9, 1001)\n",
    "\n",
    "#  Type your code on line 4:\n",
    "\n",
    "ans_1= min(tt)\n",
    "\n",
    "\n",
    "print(ans_1)\n"
   ]
  },
  {
   "cell_type": "code",
   "execution_count": 58,
   "metadata": {},
   "outputs": [
    {
     "name": "stdout",
     "output_type": "stream",
     "text": [
      "1001\n"
     ]
    }
   ],
   "source": [
    "tt=(66, 555, 11, 101, 9, 1001)\n",
    "\n",
    "#  Type your code on line 4:\n",
    "\n",
    "ans_1= max(tt)\n",
    "\n",
    "\n",
    "print(ans_1)\n"
   ]
  },
  {
   "attachments": {},
   "cell_type": "markdown",
   "metadata": {
    "tags": []
   },
   "source": [
    "Exercise 8 - Dictionary"
   ]
  },
  {
   "cell_type": "code",
   "execution_count": 61,
   "metadata": {},
   "outputs": [
    {
     "name": "stdout",
     "output_type": "stream",
     "text": [
      "-427\n"
     ]
    }
   ],
   "source": [
    "dict1={\"name\": \"Plato\", \"country\": \"Ancient Greece\", \"born\": -427, \"teacher\": \"Socrates\", \"student\": \"Aristotle\"}\n",
    "\n",
    "#Type your answer below.\n",
    "answer_1 = dict1[\"born\"]\n",
    "\n",
    "print(answer_1)"
   ]
  },
  {
   "cell_type": "code",
   "execution_count": 63,
   "metadata": {},
   "outputs": [
    {
     "name": "stdout",
     "output_type": "stream",
     "text": [
      "{'name': 'Plato', 'country': 'Ancient Greece', 'born': -428, 'teacher': 'Socrates', 'student': 'Aristotle'}\n"
     ]
    }
   ],
   "source": [
    "dict1={\"name\": \"Plato\", \"country\": \"Ancient Greece\", \"born\": -427, \"teacher\": \"Socrates\", \"student\": \"Aristotle\"}\n",
    "\n",
    "#Type your answer below.\n",
    "dict1[\"born\"] = -428\n",
    "\n",
    "print(dict1)"
   ]
  },
  {
   "cell_type": "code",
   "execution_count": 72,
   "metadata": {},
   "outputs": [
    {
     "name": "stdout",
     "output_type": "stream",
     "text": [
      "{'name': 'Plato', 'country': 'Ancient Greece', 'born': -427, 'teacher': 'Socrates', 'student': 'Aristotle', 'work': ['Apology', 'Phaedo', 'Republic', 'Symposium']}\n"
     ]
    }
   ],
   "source": [
    "dict1={\"name\": \"Plato\", \"country\": \"Ancient Greece\", \"born\": -427, \"teacher\": \"Socrates\", \"student\": \"Aristotle\"}\n",
    "\n",
    "#Type your answer below.\n",
    "dict1[\"work\"] = [\"Apology\", \"Phaedo\", \"Republic\", \"Symposium\"]\n",
    "\n",
    "print(dict1)"
   ]
  },
  {
   "cell_type": "code",
   "execution_count": 73,
   "metadata": {},
   "outputs": [
    {
     "name": "stdout",
     "output_type": "stream",
     "text": [
      "{\"son's name\": 'Lucas', \"son's eyes\": 'green', \"son's height\": 34, \"son's weight\": 25}\n"
     ]
    }
   ],
   "source": [
    "dict2={\"son's name\": \"Lucas\", \"son's eyes\": \"green\", \"son's height\": 32, \"son's weight\": 25}\n",
    "\n",
    "#Type your answer below.\n",
    "dict2[\"son's height\"] += 2\n",
    "\n",
    "print(dict2)"
   ]
  },
  {
   "cell_type": "code",
   "execution_count": 67,
   "metadata": {},
   "outputs": [
    {
     "name": "stdout",
     "output_type": "stream",
     "text": [
      "dict_items([(\"son's name\", 'Lucas'), (\"son's eyes\", 'green'), (\"son's height\", 32), (\"son's weight\", 25)])\n"
     ]
    }
   ],
   "source": [
    "dict2={\"son's name\": \"Lucas\", \"son's eyes\": \"green\", \"son's height\": 32, \"son's weight\": 25}\n",
    "\n",
    "#Type your answer below.\n",
    "ans_1=dict2.items()\n",
    "\n",
    "print(ans_1)"
   ]
  },
  {
   "cell_type": "code",
   "execution_count": 71,
   "metadata": {},
   "outputs": [
    {
     "name": "stdout",
     "output_type": "stream",
     "text": [
      "green\n"
     ]
    }
   ],
   "source": [
    "dict2 = {\"son's name\": \"Lucas\", \"son's eye color\": \"green\", \"son's height\": 32, \"son's weight\": 25}\n",
    "\n",
    "#Type your answer inside the print.\n",
    "ans_1= dict2.get(\"son's eye color\")\n",
    "\n",
    "print (ans_1)"
   ]
  },
  {
   "cell_type": "code",
   "execution_count": 78,
   "metadata": {},
   "outputs": [
    {
     "name": "stdout",
     "output_type": "stream",
     "text": [
      "2\n"
     ]
    }
   ],
   "source": [
    "dict2={\"son's name\": \"Lucas\", \"son's eye color\": \"green\", \"son's height\": 32, \"son's weight\": 25}\n",
    "\n",
    "#Type your answer here.\n",
    "ans_1=dict2.get(\"son's age\", 2)\n",
    "\n",
    "print(ans_1)"
   ]
  },
  {
   "cell_type": "code",
   "execution_count": 79,
   "metadata": {},
   "outputs": [
    {
     "name": "stdout",
     "output_type": "stream",
     "text": [
      "{}\n"
     ]
    }
   ],
   "source": [
    "dict2={\"son's name\": \"Lucas\", \"son's eye color\": \"green\", \"son's height\": 32, \"son's weight\": 25}\n",
    "\n",
    "#clear the dictionary here then print it.\n",
    "dict2.clear()\n",
    "\n",
    "print(dict2)"
   ]
  },
  {
   "cell_type": "code",
   "execution_count": 82,
   "metadata": {},
   "outputs": [
    {
     "name": "stdout",
     "output_type": "stream",
     "text": [
      "4\n"
     ]
    }
   ],
   "source": [
    "dict2={\"son's name\": \"Lucas\", \"son's eye color\": \"green\", \"son's height\": 32, \"son's weight\": 25}\n",
    "\n",
    "#Write your answer here.\n",
    "ans_1= len(dict2)\n",
    "\n",
    "print(ans_1)"
   ]
  },
  {
   "cell_type": "code",
   "execution_count": 84,
   "metadata": {},
   "outputs": [
    {
     "name": "stdout",
     "output_type": "stream",
     "text": [
      "son's weight\n"
     ]
    }
   ],
   "source": [
    "dic2={\"son's name\": \"Lucas\", \"son's eye color\": \"green\", \"son's height\": 32, \"son's weight\": 25}\n",
    "\n",
    "#Write your answer here.\n",
    "ans_1= max(dict2)\n",
    "\n",
    "print(ans_1)"
   ]
  },
  {
   "cell_type": "code",
   "execution_count": 85,
   "metadata": {},
   "outputs": [
    {
     "name": "stdout",
     "output_type": "stream",
     "text": [
      "son's eye color\n"
     ]
    }
   ],
   "source": [
    "dict2={\"son's name\": \"Lucas\", \"son's eye color\": \"green\", \"son's height\": 32, \"son's weight\": 25}\n",
    "\n",
    "#Write your answer here.\n",
    "ans_1= min(dict2)\n",
    "\n",
    "print(ans_1)"
   ]
  },
  {
   "attachments": {},
   "cell_type": "markdown",
   "metadata": {},
   "source": [
    "Exercise 9 - Strings"
   ]
  },
  {
   "cell_type": "code",
   "execution_count": 86,
   "metadata": {},
   "outputs": [
    {
     "name": "stdout",
     "output_type": "stream",
     "text": [
      "It's always darkest before dawn.\n"
     ]
    }
   ],
   "source": [
    "str=\"It's always darkest before dawn.\"\n",
    "\n",
    "print(str)"
   ]
  },
  {
   "cell_type": "code",
   "execution_count": 89,
   "metadata": {},
   "outputs": [
    {
     "name": "stdout",
     "output_type": "stream",
     "text": [
      "It.\n"
     ]
    }
   ],
   "source": [
    "str=\"It's always darkest before dawn.\"\n",
    "\n",
    "#Type your answer here.\n",
    "\n",
    "ans_1=str[0:2] + str[-1]\n",
    "\n",
    "print(ans_1)\n"
   ]
  },
  {
   "cell_type": "code",
   "execution_count": 92,
   "metadata": {},
   "outputs": [
    {
     "name": "stdout",
     "output_type": "stream",
     "text": [
      "It's always darkest before dawn!\n"
     ]
    }
   ],
   "source": [
    "str=\"It's always darkest before dawn.\"\n",
    "\n",
    "#Type your code here.\n",
    "\n",
    "str = str.replace(\".\",\"!\")\n",
    "\n",
    "print(str)"
   ]
  },
  {
   "cell_type": "code",
   "execution_count": 94,
   "metadata": {},
   "outputs": [
    {
     "name": "stdout",
     "output_type": "stream",
     "text": [
      "every strike brings me closer to the next home run.\n"
     ]
    }
   ],
   "source": [
    "str=\"EVERY Strike Brings Me Closer to the Next Home run.\"\n",
    "# Type your code here.\n",
    "\n",
    "str = str.lower()\n",
    "\n",
    "\n",
    "print(str)"
   ]
  },
  {
   "cell_type": "code",
   "execution_count": 99,
   "metadata": {},
   "outputs": [
    {
     "name": "stdout",
     "output_type": "stream",
     "text": [
      "DON'T STOP ME NOW.\n"
     ]
    }
   ],
   "source": [
    "str=\"don't stop me now.\"\n",
    "# Type your code here.\n",
    "str = str.upper()\n",
    "\n",
    "print(str)"
   ]
  },
  {
   "cell_type": "code",
   "execution_count": 100,
   "metadata": {},
   "outputs": [
    {
     "name": "stdout",
     "output_type": "stream",
     "text": [
      "There are no traffic jams along the extra mile.\n"
     ]
    }
   ],
   "source": [
    "str=\"there are no traffic JamS Along The extra mile.\"\n",
    "\n",
    "#Type your answer here.\n",
    "str= str.capitalize()\n",
    "\n",
    "print(str)"
   ]
  },
  {
   "cell_type": "code",
   "execution_count": 101,
   "metadata": {},
   "outputs": [
    {
     "name": "stdout",
     "output_type": "stream",
     "text": [
      "False\n"
     ]
    }
   ],
   "source": [
    "str=\"There are no traffic jams along the extra mile.\"\n",
    "#  Type your code here.\n",
    "ans_1= str.startswith(\"a\")\n",
    "\n",
    "print(ans_1)"
   ]
  },
  {
   "cell_type": "code",
   "execution_count": 103,
   "metadata": {},
   "outputs": [
    {
     "name": "stdout",
     "output_type": "stream",
     "text": [
      "True\n"
     ]
    }
   ],
   "source": [
    "str=\"There are no traffic jams along the extra mile.\"\n",
    "#  Type your code here.\n",
    "ans_1= str.endswith(\".\")\n",
    "\n",
    "print(ans_1)\n"
   ]
  },
  {
   "cell_type": "code",
   "execution_count": 105,
   "metadata": {},
   "outputs": [
    {
     "name": "stdout",
     "output_type": "stream",
     "text": [
      "11\n"
     ]
    }
   ],
   "source": [
    "str=\"The best revenge is massive success.\"\n",
    "#  Type your code here.\n",
    "ans_1=str.index(\"v\")\n",
    "\n",
    "print(ans_1)"
   ]
  },
  {
   "cell_type": "code",
   "execution_count": 106,
   "metadata": {},
   "outputs": [
    {
     "name": "stdout",
     "output_type": "stream",
     "text": [
      "20\n"
     ]
    }
   ],
   "source": [
    "str=\"The best revenge is massive success.\"\n",
    "#  Type your code here.\n",
    "ans_1= str.find(\"m\")\n",
    "\n",
    "print(ans_1)\n"
   ]
  },
  {
   "cell_type": "code",
   "execution_count": 109,
   "metadata": {},
   "outputs": [
    {
     "name": "stdout",
     "output_type": "stream",
     "text": [
      "-1\n"
     ]
    }
   ],
   "source": [
    "str=\"The best revenge is massive success.\"\n",
    "\n",
    "#  Type your code here.\n",
    "\n",
    "ans_1=str.find(\"X\") #return -1 when it can't find the character.\n",
    "\n",
    "print(ans_1)"
   ]
  },
  {
   "cell_type": "code",
   "execution_count": 110,
   "metadata": {},
   "outputs": [
    {
     "name": "stdout",
     "output_type": "stream",
     "text": [
      "count of a is:  7  count of o is:  7\n"
     ]
    }
   ],
   "source": [
    "str=\"People often say that motivation doesn't last. Well, neither does bathing.  That's why we recommend it daily.\"\n",
    "#  Type your code here.\n",
    "\n",
    "ans_1= str.count(\"a\")\n",
    "\n",
    "ans_2= str.count(\"o\")\n",
    "\n",
    "\n",
    "print(\"count of a is: \", ans_1, \" count of o is: \", ans_2)"
   ]
  },
  {
   "cell_type": "code",
   "execution_count": 111,
   "metadata": {},
   "outputs": [
    {
     "name": "stdout",
     "output_type": "stream",
     "text": [
      "<class 'str'>\n",
      "<class 'int'>\n"
     ]
    }
   ],
   "source": [
    "v_1=\"1\"\n",
    "v_2=1\n",
    "\n",
    "#  Type your code on line 4:\n",
    "\n",
    "ans_1= type(v_1)\n",
    "\n",
    "ans_2= type(v_2)\n",
    "\n",
    "\n",
    "print(ans_1)\n",
    "print(ans_2)\n"
   ]
  },
  {
   "cell_type": "code",
   "execution_count": 112,
   "metadata": {},
   "outputs": [
    {
     "name": "stdout",
     "output_type": "stream",
     "text": [
      "9\n"
     ]
    }
   ],
   "source": [
    "str=\"1.975.000\"\n",
    "\n",
    "#  Type your code here:\n",
    "\n",
    "ans_1= len(str)\n",
    "\n",
    "\n",
    "print(ans_1)\n"
   ]
  },
  {
   "cell_type": "code",
   "execution_count": null,
   "metadata": {},
   "outputs": [],
   "source": []
  }
 ],
 "metadata": {
  "kernelspec": {
   "display_name": "Python 3",
   "language": "python",
   "name": "python3"
  },
  "language_info": {
   "codemirror_mode": {
    "name": "ipython",
    "version": 3
   },
   "file_extension": ".py",
   "mimetype": "text/x-python",
   "name": "python",
   "nbconvert_exporter": "python",
   "pygments_lexer": "ipython3",
   "version": "3.9.6"
  },
  "orig_nbformat": 4,
  "vscode": {
   "interpreter": {
    "hash": "31f2aee4e71d21fbe5cf8b01ff0e069b9275f58929596ceb00d14d90e3e16cd6"
   }
  }
 },
 "nbformat": 4,
 "nbformat_minor": 2
}
