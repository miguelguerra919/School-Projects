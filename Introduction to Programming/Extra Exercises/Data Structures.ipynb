{
 "cells": [
  {
   "cell_type": "markdown",
   "metadata": {},
   "source": [
    "<img src=\"https://apps.novasbe.pt/NovaMobility/resources/assets/images/nova_logo.png\" width=\"300\">"
   ]
  },
  {
   "cell_type": "markdown",
   "metadata": {},
   "source": [
    "<center> <h1> Exercises Data Structures </h1></center>"
   ]
  },
  {
   "cell_type": "markdown",
   "metadata": {},
   "source": [
    "# Exercise 1 - Who are you? (1pt)\n",
    "It's your first day as a programmer and you're excited to get to know your peers. In order to do so you have to fill some information about yourself:\n",
    "\n",
    "- _`first_name`_\n",
    "- _`last_name`_\n",
    "- _`birth_year`_\n",
    "- _`origin_city`_\n",
    "- _`origin_country`_\n",
    "\n",
    "Create these variables which all should have `str` type except for _`birth_year`_ which should be an `int`."
   ]
  },
  {
   "cell_type": "code",
   "execution_count": 1,
   "metadata": {},
   "outputs": [],
   "source": [
    "# solve ex1 here\n",
    "first_name = \"Miguel\"\n",
    "last_name = \"Guerra\"\n",
    "birth_year = 2000\n",
    "origin_city = \"Lisbon\"\n",
    "origin_country = \"Portugal\"\n"
   ]
  },
  {
   "cell_type": "markdown",
   "metadata": {},
   "source": [
    "# Exercise 2 - Python, how old am I? (1pt)"
   ]
  },
  {
   "cell_type": "markdown",
   "metadata": {},
   "source": [
    "Create a variable _`current_year`_ with the current year and using _`birth_year`_ compute your approximate age into the _`age`_ variable."
   ]
  },
  {
   "cell_type": "code",
   "execution_count": 2,
   "metadata": {},
   "outputs": [
    {
     "name": "stdout",
     "output_type": "stream",
     "text": [
      "23\n"
     ]
    }
   ],
   "source": [
    "# Solve ex2 here\n",
    "current_year = 2023\n",
    "birth_year = 2000\n",
    "age = current_year - birth_year\n",
    "print(age)"
   ]
  },
  {
   "cell_type": "markdown",
   "metadata": {},
   "source": [
    "# Exercise 3 - Python, how many days old do you think I am? (1pt)"
   ]
  },
  {
   "cell_type": "markdown",
   "metadata": {},
   "source": [
    "Likewise exercise 2, you are going to compute your *approximate* age in days. Store the value in the variable `age_in_days`. For simplicity sake assume a year has 365 days. "
   ]
  },
  {
   "cell_type": "code",
   "execution_count": 3,
   "metadata": {},
   "outputs": [
    {
     "name": "stdout",
     "output_type": "stream",
     "text": [
      "8395\n"
     ]
    }
   ],
   "source": [
    "# Solve ex3 here\n",
    "age_in_days = age * 365\n",
    "print(age_in_days)\n"
   ]
  },
  {
   "cell_type": "markdown",
   "metadata": {},
   "source": [
    "# Exercise 4 - Hello! (1pt)"
   ]
  },
  {
   "cell_type": "markdown",
   "metadata": {},
   "source": [
    "Fill the following string, exactly as is but with your own variables _`first_name`_ and _`age`_ , and save it to the variable _`greeting`_.\n",
    "\n",
    "```python\n",
    "greeting = \"Hi! My name is <first_name> and I'm <years> years old\"\n",
    "```\n",
    "\n",
    "Finally, print the _`greeting`_ variable."
   ]
  },
  {
   "cell_type": "code",
   "execution_count": 4,
   "metadata": {},
   "outputs": [
    {
     "name": "stdout",
     "output_type": "stream",
     "text": [
      "Hi! My name is Miguel an I'm 23 years old\n"
     ]
    }
   ],
   "source": [
    "# Solve ex4 here\n",
    "greeting = f\"Hi! My name is {first_name} an I'm {age} years old\"\n",
    "print(greeting)"
   ]
  },
  {
   "cell_type": "markdown",
   "metadata": {},
   "source": [
    "# Exercise 5 - What is your full name? (1pt)"
   ]
  },
  {
   "cell_type": "markdown",
   "metadata": {},
   "source": [
    "Create a variable _`full_name`_ by concatenating _`first_name` with `last_name`_ defined in Exercise 1.\n",
    "\n",
    "Remeber to test your variable to see if it outputs what you want, your full name will have a space between names."
   ]
  },
  {
   "cell_type": "code",
   "execution_count": 5,
   "metadata": {},
   "outputs": [
    {
     "data": {
      "text/plain": [
       "'Miguel Guerra'"
      ]
     },
     "execution_count": 5,
     "metadata": {},
     "output_type": "execute_result"
    }
   ],
   "source": [
    "# Solve ex5 here\n",
    "full_name = first_name + \" \" + last_name\n",
    "full_name"
   ]
  },
  {
   "cell_type": "markdown",
   "metadata": {},
   "source": [
    "# Exercise 6 - What is the lenght of your name? (1pt)\n",
    "Using the variable _`full_name`_ you created in exercise 5 compute the amount of characters there are in your full name to _`len_full_name`_. \n",
    "\n",
    "Remember that you full name may have spaces. You need to think of a way to modify the _`full_name`_ such that you don't count the space when computing the length of the string."
   ]
  },
  {
   "cell_type": "code",
   "execution_count": 6,
   "metadata": {},
   "outputs": [
    {
     "data": {
      "text/plain": [
       "12"
      ]
     },
     "execution_count": 6,
     "metadata": {},
     "output_type": "execute_result"
    }
   ],
   "source": [
    "# solve ex6 here\n",
    "len_full_name = len(full_name.replace(\" \",\"\"))\n",
    "len_full_name"
   ]
  },
  {
   "cell_type": "markdown",
   "metadata": {},
   "source": [
    "# Exercise 7 - How many feet tall are you? (1pt)"
   ]
  },
  {
   "cell_type": "markdown",
   "metadata": {},
   "source": [
    "Liberia, Myanmar and the United States are the only countries that have not officially adopted the metric system and still use units such as a *feet*, *yard* and *inches*, which for the common human being are rather unknown.\n",
    "\n",
    "Using the `meter_inch` and `inch_feet` conversion variables we give below complete the exercise. \n",
    "\n",
    "Create a variable `meters` with your height in meters and with that compute programatically two other variables `inches` and `feet` which correspond to the conversion of `meters` to those measurement units."
   ]
  },
  {
   "cell_type": "code",
   "execution_count": 7,
   "metadata": {},
   "outputs": [
    {
     "name": "stdout",
     "output_type": "stream",
     "text": [
      "68.9 5.74\n"
     ]
    }
   ],
   "source": [
    "meter_inch = 39.37 # 1 meter corresponds to ~39.37 inches\n",
    "inch_feet = 3.28 # 39.37 inches corresponds to ~3.28 feet\n",
    "\n",
    "# Solve ex7 here\n",
    "meters = 1.75\n",
    "inches = round(meters * meter_inch,2)\n",
    "feet = round(meters * inch_feet,2)\n",
    "print(inches, feet) "
   ]
  },
  {
   "cell_type": "markdown",
   "metadata": {},
   "source": [
    "# Exercise 8 - Nova Stock Exchange (5pt)"
   ]
  },
  {
   "cell_type": "markdown",
   "metadata": {},
   "source": [
    "In the Nova SBE's stock exchange (SENOVA) the following stocks are available:"
   ]
  },
  {
   "cell_type": "code",
   "execution_count": 8,
   "metadata": {},
   "outputs": [],
   "source": [
    "SENOVA = {\n",
    "    \"ICA\": 12.5,\n",
    "    \"VCT\": 23.54,\n",
    "    \"CUT\": 19.60,\n",
    "    \"AZR\": 28.90,\n",
    "    \"PD\": 45.78,\n",
    "    \"SAN\": 32,\n",
    "    \"SU\": 17.80,\n",
    "    \"SBE\": 500.45,\n",
    "    \"CUF\": 56.34,\n",
    "}"
   ]
  },
  {
   "cell_type": "markdown",
   "metadata": {},
   "source": [
    "1. **Choose 3 stocks from SENOVA (you do not need to use the dictionary provided) that you will invest in and create a list for each one with the following format:**\n",
    "\n",
    "    ```python\n",
    "    stock_1 = [stock_1_name, stock_1_price]\n",
    "    ```\n",
    "\n",
    "Assign each list to variables named `stock_1`, `stock_2` and `stock_3` like the example above"
   ]
  },
  {
   "cell_type": "code",
   "execution_count": 9,
   "metadata": {},
   "outputs": [],
   "source": [
    "# solve ex8.1 here\n",
    "stock_1 = [\"ICA\", 12.5]\n",
    "stock_2 = [\"VCT\", 23.54]\n",
    "stock_3 = [\"CUT\", 19.60]"
   ]
  },
  {
   "cell_type": "markdown",
   "metadata": {},
   "source": [
    "2. **Create a list `stocks` with your 3 stocks defined in ex8.1**"
   ]
  },
  {
   "cell_type": "code",
   "execution_count": 10,
   "metadata": {},
   "outputs": [
    {
     "data": {
      "text/plain": [
       "[['ICA', 12.5], ['VCT', 23.54], ['CUT', 19.6]]"
      ]
     },
     "execution_count": 10,
     "metadata": {},
     "output_type": "execute_result"
    }
   ],
   "source": [
    "# solve ex8.2 here\n",
    "stocks = [stock_1, stock_2, stock_3]\n",
    "stocks"
   ]
  },
  {
   "cell_type": "markdown",
   "metadata": {},
   "source": [
    "3. **You decided to buy 1 stock of `stock_1`, 2 stocks of `stock_2` and 3 stocks of `stock_3`. Add the respective quantity (as `int`) to each list of your `stock` list, such that they now include a third element: the quantity you own of the stock. For example:**\n",
    "\n",
    "    ```python\n",
    "    stocks = [[stock_1_name, stock_1_price, stock_1_quantity], ..., ...]\n",
    "    ```\n"
   ]
  },
  {
   "cell_type": "code",
   "execution_count": 11,
   "metadata": {},
   "outputs": [
    {
     "data": {
      "text/plain": [
       "[['ICA', 12.5, 1], ['VCT', 23.54, 2], ['CUT', 19.6, 3]]"
      ]
     },
     "execution_count": 11,
     "metadata": {},
     "output_type": "execute_result"
    }
   ],
   "source": [
    "# solve ex8.3 here\n",
    "stocks[0].append(1)\n",
    "stocks[1].append(2)\n",
    "stocks[2].append(3)\n",
    "stocks"
   ]
  },
  {
   "cell_type": "markdown",
   "metadata": {},
   "source": [
    "4. Using the information stored in `stocks` list, fill with variables the following string and save it to `stock_buy_order`. Compute the total number of stocks and total price to `total_stocks` and `total_price` beforehand.\n",
    "\n",
    "```py\n",
    "stock_buy_order = \"I want to buy a total of <total_stocks> stocks. I want <number of stocks 1> stock of <name stock 1>, <number of stocks 2> stock of <name stock 2> and <number of stocks 3> stock of <name stock 3>, for a total price of <total_price>€\"\n",
    "```\n"
   ]
  },
  {
   "cell_type": "code",
   "execution_count": 12,
   "metadata": {},
   "outputs": [
    {
     "name": "stdout",
     "output_type": "stream",
     "text": [
      "I want to buy a total of 6 stocks. I want 1 stock of ICA, 2 stock of VCT and 3 stock of CUT , for a total price of 118.38€\n"
     ]
    }
   ],
   "source": [
    "# solve ex8.4 here\n",
    "total_stocks = stocks[0][2] + stocks[1][2] + stocks[2][2]\n",
    "total_price = (stocks[0][2]*stocks[0][1]) + (stocks[1][2]*stocks[1][1]) + (stocks[2][2]*stocks[2][1])\n",
    "stock_buy_order = f\"I want to buy a total of {total_stocks} stocks. I want {stocks[0][2]} stock of {stocks[0][0]}, {stocks[1][2]} stock of {stocks[1][0]} and {stocks[2][2]} stock of {stocks[2][0]} , for a total price of {total_price}€\"\n",
    "print(stock_buy_order)"
   ]
  },
  {
   "cell_type": "markdown",
   "metadata": {},
   "source": [
    "5. **Create a dictionary of dictionaries with all your stocks, name it stocks_dict. The output dictionary should be similar to the following example:**\n",
    "\n",
    "    ```python\n",
    "    stocks_dict = {\n",
    "        \"stock_1\": {\n",
    "            \"stock_abb\": name_stock_1,\n",
    "            \"stock_price\": price_stock_1,\n",
    "            \"stock_quantity\": quantity_owned,\n",
    "        },\n",
    "        #...\n",
    "    }\n",
    "    ```"
   ]
  },
  {
   "cell_type": "code",
   "execution_count": 13,
   "metadata": {},
   "outputs": [
    {
     "data": {
      "text/plain": [
       "{'stock_1': {'stock_abb': 'ICA', 'stock_price': 12.5, 'stock_quantity': 1},\n",
       " 'stock_2': {'stock_abb': 'VCT', 'stock_price': 23.54, 'stock_quantity': 2},\n",
       " 'stock_3': {'stock_abb': 'CUT', 'stock_price': 19.6, 'stock_quantity': 3}}"
      ]
     },
     "execution_count": 13,
     "metadata": {},
     "output_type": "execute_result"
    }
   ],
   "source": [
    "# solve ex8.5 here\n",
    "stocks_dict = {\n",
    "    \"stock_1\": {\n",
    "        \"stock_abb\": stocks[0][0],\n",
    "        \"stock_price\": stocks[0][1],\n",
    "        \"stock_quantity\":stocks[0][2],\n",
    "    },\n",
    "    \"stock_2\": {\n",
    "        \"stock_abb\": stocks[1][0],\n",
    "        \"stock_price\": stocks[1][1],\n",
    "        \"stock_quantity\":stocks[1][2]\n",
    "    },\n",
    "    \"stock_3\": {\n",
    "        \"stock_abb\": stocks[2][0],\n",
    "        \"stock_price\": stocks[2][1],\n",
    "        \"stock_quantity\":stocks[2][2]\n",
    "    }\n",
    "}\n",
    "stocks_dict"
   ]
  },
  {
   "cell_type": "markdown",
   "metadata": {},
   "source": [
    "# Exercise 9 - Shelter analysis"
   ]
  },
  {
   "cell_type": "markdown",
   "metadata": {},
   "source": [
    "The Nova's dog shelter sent you a data structure with the dogs that are currently on the shelter and they want to perform basic analytics to answer three questions."
   ]
  },
  {
   "cell_type": "code",
   "execution_count": 2,
   "metadata": {},
   "outputs": [],
   "source": [
    "dogs_shelter = {\n",
    "    \"fausto\": {\n",
    "        \"age\": 3,\n",
    "        \"adopted\": False,\n",
    "        \"owner\": None\n",
    "    },\n",
    "    \"pisco\": {\n",
    "        \"age\": 11,\n",
    "        \"adopted\": False,\n",
    "        \"owner\": None\n",
    "    },\n",
    "    \"plutao\": {\n",
    "        \"age\": 1,\n",
    "        \"adopted\": True,\n",
    "        \"owner\": [\"Fabio\"]\n",
    "    }\n",
    "}"
   ]
  },
  {
   "cell_type": "markdown",
   "metadata": {},
   "source": [
    "1. What is the average age of the dogs in the shelter.\n",
    "\n",
    "(Your must answer programatically. In this case, **we will not accept** `fausto_age = 3`. You should do this by accessing the key in the dictionary `dogs_shelter`)"
   ]
  },
  {
   "cell_type": "code",
   "execution_count": 15,
   "metadata": {},
   "outputs": [
    {
     "data": {
      "text/plain": [
       "5.0"
      ]
     },
     "execution_count": 15,
     "metadata": {},
     "output_type": "execute_result"
    }
   ],
   "source": [
    "# replace the None with your answers\n",
    "fausto_age = dogs_shelter[\"fausto\"][\"age\"]\n",
    "pisco_age = dogs_shelter[\"pisco\"][\"age\"]\n",
    "plutao_age = dogs_shelter[\"plutao\"][\"age\"]\n",
    "average_age = (fausto_age + pisco_age + plutao_age) / len(dogs_shelter)\n",
    "average_age"
   ]
  },
  {
   "cell_type": "code",
   "execution_count": 6,
   "metadata": {},
   "outputs": [
    {
     "data": {
      "text/plain": [
       "5.0"
      ]
     },
     "execution_count": 6,
     "metadata": {},
     "output_type": "execute_result"
    }
   ],
   "source": [
    "#também podemos resolver assim\n",
    "sum_ages = 0\n",
    "for key in dogs_shelter.keys():\n",
    "    sum_ages += dogs_shelter[key][\"age\"]\n",
    "average_age1 = sum_ages / len(dogs_shelter)\n",
    "average_age1"
   ]
  },
  {
   "cell_type": "markdown",
   "metadata": {},
   "source": [
    "**2. How many dogs are in the shelter?** \n",
    "\n",
    "(Again, you must answer programatically and not `nr_dogs=3`)"
   ]
  },
  {
   "cell_type": "code",
   "execution_count": 16,
   "metadata": {},
   "outputs": [
    {
     "data": {
      "text/plain": [
       "2"
      ]
     },
     "execution_count": 16,
     "metadata": {},
     "output_type": "execute_result"
    }
   ],
   "source": [
    "nr_dogs = 0\n",
    "for key in dogs_shelter.keys():\n",
    "    if dogs_shelter[key][\"adopted\"] == False:\n",
    "        nr_dogs += 1\n",
    "nr_dogs"
   ]
  }
 ],
 "metadata": {
  "kernelspec": {
   "display_name": "Python 3",
   "language": "python",
   "name": "python3"
  },
  "language_info": {
   "codemirror_mode": {
    "name": "ipython",
    "version": 3
   },
   "file_extension": ".py",
   "mimetype": "text/x-python",
   "name": "python",
   "nbconvert_exporter": "python",
   "pygments_lexer": "ipython3",
   "version": "3.9.6"
  },
  "vscode": {
   "interpreter": {
    "hash": "31f2aee4e71d21fbe5cf8b01ff0e069b9275f58929596ceb00d14d90e3e16cd6"
   }
  }
 },
 "nbformat": 4,
 "nbformat_minor": 4
}
