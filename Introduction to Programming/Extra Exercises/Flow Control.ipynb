{
 "cells": [
  {
   "cell_type": "markdown",
   "metadata": {},
   "source": [
    "<img src=\"https://apps.novasbe.pt/NovaMobility/resources/assets/images/nova_logo.png\" width=\"300\">"
   ]
  },
  {
   "cell_type": "markdown",
   "metadata": {},
   "source": [
    "<center> <h1> Exercises Flow Control </h1></center>"
   ]
  },
  {
   "cell_type": "code",
   "execution_count": 1,
   "metadata": {},
   "outputs": [],
   "source": [
    "import random"
   ]
  },
  {
   "cell_type": "markdown",
   "metadata": {},
   "source": [
    "<center> <h1> Feeling Lucky? </h1></center>\n",
    "\n",
    "### In these exercises you will practise flow control by building and playing in your own casino. \n",
    "\n",
    "Your dealer will be the computer and for that you will make use of the python module random. "
   ]
  },
  {
   "cell_type": "markdown",
   "metadata": {},
   "source": [
    "<left> <h1> Exercise 1 - Red or Black? You Choose </h1> </left>\n",
    "<img src=\"https://filmdaily.co/wp-content/uploads/2019/10/canmathshelp-1300x640.jpg\" width=640 style=\"vertical-align:middle;margin:0px 0px\">"
   ]
  },
  {
   "cell_type": "markdown",
   "metadata": {},
   "source": [
    "#### 1.1 You are going to play roulette but you only play red or black. (3p)\n",
    "\n",
    "At this time you are only playing once. \n",
    "\n",
    "Remember the rules: \n",
    "1. For simplicity let's suppose there are only 2 possibilities (Red and Black)\n",
    "2. If the roulette lands on your chosen color you win double of what you've bet, if you loose you loose all the amount you bet.\n",
    "\n",
    "You will start with a `balance` of 1000€ and at the end of the play you need to update your balance accordingly if you win or loose. Be sure to only make **one bet**. You must run your solution in the cell below, together with the given variables."
   ]
  },
  {
   "cell_type": "code",
   "execution_count": 2,
   "metadata": {},
   "outputs": [],
   "source": [
    "import random"
   ]
  },
  {
   "cell_type": "code",
   "execution_count": 11,
   "metadata": {},
   "outputs": [
    {
     "name": "stdout",
     "output_type": "stream",
     "text": [
      "YOU LOST!\n"
     ]
    },
    {
     "data": {
      "text/plain": [
       "990"
      ]
     },
     "execution_count": 11,
     "metadata": {},
     "output_type": "execute_result"
    }
   ],
   "source": [
    "balance = 1000\n",
    "bet_amount = 10 # you can choose another amount to bet (as long as it is lower than your initial_balance)\n",
    "bet_choice = input(\"red or black\")\n",
    "outcome = random.choice(['red', 'black'])\n",
    "# your solution here\n",
    "if bet_choice == outcome:\n",
    "    balance += bet_amount\n",
    "    print(\"YOU WON!\")\n",
    "else:\n",
    "    balance -= bet_amount\n",
    "    print(\"YOU LOST!\")\n",
    "balance"
   ]
  },
  {
   "cell_type": "markdown",
   "metadata": {},
   "source": [
    "#### 1.2 Using a for loop to play the roulette 50 times. (3p)\n",
    "\n",
    "At each iteration you should randomly generate a play outcome, which should be either \"black\" or \"red\" and append each outcome (red or black) to the `outcomes` list. Assume you only bet on either \"red\" or \"black\" for all plays. Likewise ex1.1, solve the exercise in the same cell where variables are given."
   ]
  },
  {
   "cell_type": "code",
   "execution_count": 14,
   "metadata": {},
   "outputs": [
    {
     "name": "stdout",
     "output_type": "stream",
     "text": [
      "Your balance is 1040 and you played 50 rounds\n"
     ]
    }
   ],
   "source": [
    "balance = 1000\n",
    "bet_amount = 10\n",
    "bet_choice = \"red\"  # choose \"red\" or \"black\" (for all plays!)\n",
    "outcomes = []\n",
    "# your solution here\n",
    "round = 0\n",
    "while round < 50: #It can also be done using \"for i in range(50):\"\n",
    "    round += 1\n",
    "    outcome = random.choice([\"red\",\"black\"])\n",
    "    outcomes.append(outcome)\n",
    "    if outcome == bet_choice:\n",
    "        balance += bet_amount\n",
    "    else:\n",
    "        balance -= bet_amount\n",
    "print(f\"Your balance is {balance} and you played {len(outcomes)} rounds\") "
   ]
  },
  {
   "cell_type": "markdown",
   "metadata": {},
   "source": [
    "#### 1.3 The odds are always in favor of the casino and the roulette is no exception. (3p)\n",
    "\n",
    "That is why the roulette has 18 red numbers, 18 black numbers and 1 green number (the zero). This green number is what tilts the odds in the casino's favour. Adapt your code so that you now account for the green number. Note that you won't bet on \"green\" but rather see how it influences the final balance, so `bet_choice` should be either \"black\" or \"red\".\n",
    "\n",
    "Remember that red/black and the green number don't have the same probability of being drawn: there are 18 red numbers, 18 black numbers and only 1 green number. You must take this information into account when simulating a roulette outcome. Thus, \n",
    "\n",
    "Write again a for loop to play the game 50 times. At each iteration, you should randomly generate an outcome:\n",
    "- \"black\", \"red\" or \"green\" **out of the 37 options (18 reds, 18 blacks, 1 green)**\n",
    "\n",
    "Append each play outcome to the `outcomes` list. See with how much money you end up."
   ]
  },
  {
   "cell_type": "code",
   "execution_count": 3,
   "metadata": {},
   "outputs": [
    {
     "data": {
      "text/plain": [
       "['red',\n",
       " 'red',\n",
       " 'red',\n",
       " 'red',\n",
       " 'black',\n",
       " 'red',\n",
       " 'red',\n",
       " 'black',\n",
       " 'red',\n",
       " 'black',\n",
       " 'black',\n",
       " 'black',\n",
       " 'red',\n",
       " 'black',\n",
       " 'red',\n",
       " 'black',\n",
       " 'black',\n",
       " 'black',\n",
       " 'red',\n",
       " 'black',\n",
       " 'red',\n",
       " 'red',\n",
       " 'red',\n",
       " 'red',\n",
       " 'black',\n",
       " 'red',\n",
       " 'green',\n",
       " 'red',\n",
       " 'red',\n",
       " 'black',\n",
       " 'red',\n",
       " 'red',\n",
       " 'black',\n",
       " 'black',\n",
       " 'red',\n",
       " 'red',\n",
       " 'black']"
      ]
     },
     "execution_count": 3,
     "metadata": {},
     "output_type": "execute_result"
    }
   ],
   "source": [
    "#For doing 37 options (18 reds, 18 blacks, 1 green) we can alson use the following code:\n",
    "list_of_possibliities = [\"green\"]\n",
    "for i in range(18):\n",
    "    list_of_possibliities.append(\"red\")\n",
    "    list_of_possibliities.append(\"black\")\n",
    "\n",
    "#or we can use the following code:\n",
    "random.choices([\"red\",\"black\",\"green\"], weights=[18/37,18/37,1/37])\n",
    "\n",
    "#or we can use the following code:\n",
    "possible_outcomes = [\"green\"] + [\"black\"]*18 + [\"red\"]*18 #this is a list with 1 green 18 blacks and 18 reds\n",
    "random.choice(possible_outcomes)"
   ]
  },
  {
   "cell_type": "code",
   "execution_count": 17,
   "metadata": {},
   "outputs": [
    {
     "name": "stdout",
     "output_type": "stream",
     "text": [
      "Your balance is 980 and you played 50 rounds\n"
     ]
    }
   ],
   "source": [
    "balance = 1000\n",
    "bet_amount = 10\n",
    "bet_choice = \"red\" # choose \"red\", \"black\"\n",
    "outcomes = []\n",
    "possible_outcomes = [\"green\"] + [\"black\"]*18 + [\"red\"]*18 \n",
    "# your solution here\n",
    "for i in range(50):\n",
    "    outcome = random.choice(possible_outcomes)\n",
    "    outcomes.append(outcome)\n",
    "    if outcome == bet_choice:\n",
    "        balance += bet_amount\n",
    "    else:\n",
    "        balance -= bet_amount\n",
    "print(f\"Your balance is {balance} and you played {len(outcomes)} rounds\")"
   ]
  },
  {
   "cell_type": "markdown",
   "metadata": {},
   "source": [
    "#### 1.4 To compare if the green number makes such a difference in your odds play both games 1000 times and see if that green number makes a big difference or not in your pocket. (3p)\n",
    "Write again a for loop to play the game 1000 times considering the green number and 1000 times without considering the green number. \n",
    "At each iteration, you should randomly generate two outcomes:\n",
    "* \"black\", \"red\" or \"green\" **out of the 37 options (18 reds, 18 blacks, 1 green)** - for the green case\n",
    "* \"black\" or \"red\" **out of the 36 options (18 red, 18 black)** - for the no-green case \n",
    "\n",
    "In both cases your } should be either \"black\" or \"red\".\n",
    "\n",
    "Remember to append each play outcome to the `outcomes_green` and `outcomes_no_green` list. Finally, after the 1000 plays you should create a boolean `less_winnings`, which is `True` if you lost more money with the green number or `False` if you lost more money without the green number."
   ]
  },
  {
   "cell_type": "code",
   "execution_count": 9,
   "metadata": {},
   "outputs": [
    {
     "name": "stdout",
     "output_type": "stream",
     "text": [
      "Balance with green: 620\n",
      "Balance without green: 960\n"
     ]
    },
    {
     "data": {
      "text/plain": [
       "True"
      ]
     },
     "execution_count": 9,
     "metadata": {},
     "output_type": "execute_result"
    }
   ],
   "source": [
    "balance_green = 1000\n",
    "balance_no_green = 1000\n",
    "bet_amount = 10\n",
    "bet_choice = \"red\"  # choose \"red\" or \"black\"\n",
    "possible_outcomes_green = [\"green\"] + [\"black\"]*18 + [\"red\"]*18 \n",
    "possible_outcomes_no_green = [\"black\"]*18 + [\"red\"]*18 \n",
    "outcomes_green = []\n",
    "outcomes_no_green = []\n",
    "# your solution here\n",
    "for bet in range(1000):\n",
    "#condition with the green\n",
    "    outcome_green = random.choice(possible_outcomes_green)\n",
    "    outcomes_green.append(outcome_green)\n",
    "    if outcome_green == bet_choice:\n",
    "        balance_green += bet_amount\n",
    "    else:\n",
    "        balance_green -= bet_amount\n",
    "#condition without the green\n",
    "    outcome_no_green = random.choice(possible_outcomes_no_green)\n",
    "    outcomes_no_green.append(outcome_no_green)\n",
    "    if outcome_no_green == bet_choice:\n",
    "        balance_no_green += bet_amount\n",
    "    else:\n",
    "        balance_no_green -= bet_amount\n",
    "#condition to check which give you more losses\n",
    "less_winnings = balance_green < balance_no_green\n",
    "\n",
    "print(f\"Balance with green: {balance_green}\")\n",
    "print(f\"Balance without green: {balance_no_green}\")\n",
    "less_winnings"
   ]
  },
  {
   "cell_type": "markdown",
   "metadata": {},
   "source": [
    "#### 1.5 Now instead of having a defined number of plays, you want to play until you don't have more money to place another bet. (4p)\n",
    "\n",
    "Instead of having a defined number of plays, use a while loop and play the game considering only \"black\" and \"red\" outcomes until you run out of money. Output a variable `ofm_number_of_plays` which is the number of plays you were able to make until you run out of money. Append the outcome of each play to the `outcomes` list."
   ]
  },
  {
   "cell_type": "code",
   "execution_count": 44,
   "metadata": {},
   "outputs": [
    {
     "name": "stdout",
     "output_type": "stream",
     "text": [
      "5452 rounds played\n"
     ]
    }
   ],
   "source": [
    "balance = 1000\n",
    "bet_amount = 10\n",
    "bet_choice = \"red\"  # choose \"red\" or \"black\"\n",
    "ofm_number_of_plays = 0\n",
    "outcomes = []\n",
    "possible_outcomes_no_green = [\"black\"]*18 + [\"red\"]*18 \n",
    "# your solution here\n",
    "while balance >= bet_amount:\n",
    "    ofm_number_of_plays += 1\n",
    "    outcome = random.choice(possible_outcomes_no_green)\n",
    "    outcomes.append(outcome)\n",
    "    if outcome == bet_choice:\n",
    "        balance += bet_amount\n",
    "    else:\n",
    "        balance -= bet_amount\n",
    "print(f\"{ofm_number_of_plays} rounds played\")"
   ]
  },
  {
   "cell_type": "markdown",
   "metadata": {},
   "source": [
    "# Exercise 2 - Betting on numbers (4p)\n",
    "\n",
    "If you bet on red or black you have a 48.6% probability to win double your bet and 51.4% of losing all the amount you bet, which means when you play a lot of times, probabilities tell us that you won't break even.\n",
    "\n",
    "If you now decide to play a single number you will get 36x what you bet but you only have now a 2.7% probability of getting the right number."
   ]
  },
  {
   "cell_type": "markdown",
   "metadata": {},
   "source": [
    "#### Adapt the game you have been playing such that now you are playing a single number.\n",
    "\n",
    "Your choices are now numbers from 0 to 36 (inclusive). And you will only choose one number in that range. Remember that if you choose the winning number, you win 36x the `bet_amount`.\n",
    "\n",
    "Play the game (in a programmatical way) until you don't have more money to place another bet. Save how many times you played to the variable `times_played`. At each play don't forget to update your `balance` and append the outcome of each play to the `outcomes` list."
   ]
  },
  {
   "cell_type": "code",
   "execution_count": 45,
   "metadata": {},
   "outputs": [
    {
     "name": "stdout",
     "output_type": "stream",
     "text": [
      "You played 460 rounds!\n"
     ]
    }
   ],
   "source": [
    "balance = 1000\n",
    "bet_amount = 10\n",
    "outcomes = []\n",
    "bet_choice = 6  # choose a number from 0 to 36\n",
    "times_played = 0\n",
    "# your solution here\n",
    "while balance >= bet_amount:\n",
    "    times_played += 1\n",
    "    outcome = random.choice(range(0,37))\n",
    "    outcomes.append(outcome)\n",
    "    if bet_choice == outcome:\n",
    "        balance += bet_amount*35 #It's 36x but the bet has to be made in the first place, therefore it is actually 35x (profit wise)\n",
    "    else:\n",
    "        balance -= bet_amount\n",
    "print(f\"You played {times_played} rounds!\")\n",
    "    \n"
   ]
  }
 ],
 "metadata": {
  "kernelspec": {
   "display_name": "Python 3",
   "language": "python",
   "name": "python3"
  },
  "language_info": {
   "codemirror_mode": {
    "name": "ipython",
    "version": 3
   },
   "file_extension": ".py",
   "mimetype": "text/x-python",
   "name": "python",
   "nbconvert_exporter": "python",
   "pygments_lexer": "ipython3",
   "version": "3.9.6"
  },
  "vscode": {
   "interpreter": {
    "hash": "31f2aee4e71d21fbe5cf8b01ff0e069b9275f58929596ceb00d14d90e3e16cd6"
   }
  }
 },
 "nbformat": 4,
 "nbformat_minor": 4
}
